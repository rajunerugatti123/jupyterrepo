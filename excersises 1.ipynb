{
 "cells": [
  {
   "cell_type": "code",
   "execution_count": 14,
   "metadata": {},
   "outputs": [
    {
     "name": "stdout",
     "output_type": "stream",
     "text": [
      "12:24 PM\n",
      "19/09/2019\n"
     ]
    }
   ],
   "source": [
    "from datetime import datetime\n",
    "x=datetime.now()\n",
    "y=x.strftime(\"%H:%M %p\")\n",
    "z=x.strftime(\"%d/%m/%Y\")\n",
    "print(y)\n",
    "print(z)"
   ]
  },
  {
   "cell_type": "code",
   "execution_count": 17,
   "metadata": {},
   "outputs": [
    {
     "name": "stdout",
     "output_type": "stream",
     "text": [
      "Enter the number:10\n",
      "\n",
      "1 \n",
      "2 3 \n",
      "4 5 6 \n",
      "7 8 9 10 \n",
      "11 12 13 14 15 \n",
      "16 17 18 19 20 21 \n",
      "22 23 24 25 26 27 28 \n",
      "29 30 31 32 33 34 35 36 \n",
      "37 38 39 40 41 42 43 44 45 \n"
     ]
    }
   ],
   "source": [
    "n=int(input(\"Enter the number:\"))\n",
    "x=1\n",
    "for i in range(n):\n",
    "    for j in range(i):\n",
    "        print(x,end=\" \",sep=\"*\")\n",
    "        x=x+1\n",
    "    print()"
   ]
  },
  {
   "cell_type": "code",
   "execution_count": 18,
   "metadata": {},
   "outputs": [
    {
     "name": "stdout",
     "output_type": "stream",
     "text": [
      "enter the number:5\n",
      "* * * * * \n",
      " * * * * \n",
      "  * * * \n",
      "   * * \n",
      "    * \n"
     ]
    }
   ],
   "source": [
    "n=int(input(\"enter the number:\"))\n",
    "for i in range(n,0,-1):\n",
    "    print(\" \"*(n-i)+\"* \"*i)"
   ]
  },
  {
   "cell_type": "code",
   "execution_count": 19,
   "metadata": {},
   "outputs": [
    {
     "name": "stdout",
     "output_type": "stream",
     "text": [
      "enter the number:5\n",
      "     * \n",
      "    * * \n",
      "   * * * \n",
      "  * * * * \n",
      " * * * * * \n"
     ]
    }
   ],
   "source": [
    "n=int(input(\"enter the number:\"))\n",
    "for i in range(n):\n",
    "    print(\" \"*(n-i)+\"* \"*(i+1))"
   ]
  },
  {
   "cell_type": "code",
   "execution_count": 21,
   "metadata": {},
   "outputs": [
    {
     "name": "stdout",
     "output_type": "stream",
     "text": [
      "enter the number:5\n",
      "*  \n",
      "* *  \n",
      "* * *  \n",
      "* * * *  \n",
      "* * * * *  \n"
     ]
    }
   ],
   "source": [
    "n=int(input(\"enter the number:\"))\n",
    "for i in range(n):\n",
    "    print(\"* \"*(i+1),end=\" \")\n",
    "    print()"
   ]
  },
  {
   "cell_type": "code",
   "execution_count": 22,
   "metadata": {},
   "outputs": [
    {
     "name": "stdout",
     "output_type": "stream",
     "text": [
      "Enter the number:5\n",
      "* * * * *  \n",
      "* * * *  \n",
      "* * *  \n",
      "* *  \n",
      "*  \n"
     ]
    }
   ],
   "source": [
    "n=int(input(\"Enter the number:\"))\n",
    "for i in range(n,0,-1):\n",
    "    print(\"* \"*i,end=\" \")\n",
    "    print()"
   ]
  },
  {
   "cell_type": "code",
   "execution_count": 44,
   "metadata": {},
   "outputs": [
    {
     "name": "stdout",
     "output_type": "stream",
     "text": [
      "raju\n",
      "ravi\n",
      "banglore\n"
     ]
    }
   ],
   "source": [
    "#import keyword\n",
    "#keyword.kwlist\n",
    "name=\"raju\"#globale variable\n",
    "city=\"banglore\"\n",
    "def first():\n",
    "    print(name)\n",
    "def second():\n",
    "    name=\"ravi\"#local variable \n",
    "    print(name)\n",
    "    print(city)\n",
    "first()\n",
    "second()"
   ]
  },
  {
   "cell_type": "code",
   "execution_count": 21,
   "metadata": {},
   "outputs": [
    {
     "name": "stdout",
     "output_type": "stream",
     "text": [
      "[2, 4, 6, 8, 10]\n",
      "[1, 4, 9, 16, 25, 36, 49, 64, 81, 100]\n",
      "3628800\n"
     ]
    }
   ],
   "source": [
    "def square(n):\n",
    "    return n*n\n",
    "def even(n):\n",
    "    return n%2==0\n",
    "def odd(n):\n",
    "    return n%2!=0\n",
    "x=[1,2,3,4,5,6,7,8,9,10]\n",
    "a=list(filter(even,x))\n",
    "print(a)\n",
    "b=list(map(square,x))\n",
    "print(b)\n",
    "from functools import reduce\n",
    "c=reduce(lambda i,k:i*k,x)\n",
    "print(c)"
   ]
  },
  {
   "cell_type": "code",
   "execution_count": 9,
   "metadata": {},
   "outputs": [
    {
     "name": "stdout",
     "output_type": "stream",
     "text": [
      "raju\n",
      "raju\n"
     ]
    }
   ],
   "source": [
    "import cx_oracle\n",
    "con=cx_oracle.connect(\"host\",'localhost','username','password')\n",
    "cursor=con.cursor()\n",
    "cursor.execute('select * from student')\n",
    "records=cursor.fetchall()\n",
    "print(records)"
   ]
  },
  {
   "cell_type": "code",
   "execution_count": 14,
   "metadata": {},
   "outputs": [
    {
     "name": "stdout",
     "output_type": "stream",
     "text": [
      "completed pickle module function\n",
      "100 \t raju \t hyderbad\n"
     ]
    }
   ],
   "source": [
    "import pickle\n",
    "class employee:\n",
    "    def __init__(self,eno,ename,eadd):\n",
    "        self.eno=eno\n",
    "        self.ename=ename\n",
    "        self.eadd=eadd\n",
    "    def display(self):\n",
    "        print(self.eno,'\\t',self.ename,'\\t',self.eadd)\n",
    "with open('raju.data','wb') as f:\n",
    "    e=employee(100,'raju','hyderbad')\n",
    "    pickle.dump(e,f)\n",
    "    print(\"completed pickle module function\")\n",
    "with open('raju.data','rb') as f:\n",
    "    obj=pickle.load(f)\n",
    "    obj.display()"
   ]
  },
  {
   "cell_type": "code",
   "execution_count": 30,
   "metadata": {},
   "outputs": [
    {
     "name": "stdout",
     "output_type": "stream",
     "text": [
      "raju\n",
      "{'a': 'apple', 'b': 'banana', 'c': 'carrot'}\n"
     ]
    }
   ],
   "source": [
    "def count(*agrs):\n",
    "    total=0\n",
    "    for i in agrs:\n",
    "        total=total+i\n",
    "    return total\n",
    "count(1,2,3,5)\n",
    "def count1(name,**data):\n",
    "    print(name)\n",
    "    print(data)\n",
    "count1('raju',a='apple',b='banana',c='carrot')"
   ]
  },
  {
   "cell_type": "code",
   "execution_count": 37,
   "metadata": {},
   "outputs": [
    {
     "name": "stdout",
     "output_type": "stream",
     "text": [
      "[1, [777, 3], 4, 5, 6, 7]\n",
      "[1, [2, 3], 4, 5, 6]\n"
     ]
    }
   ],
   "source": [
    "import copy\n",
    "x=[1,[2,3],4,5,6]\n",
    "y=copy.deepcopy(x)\n",
    "y.append(7)\n",
    "y[1][0]=777\n",
    "print(y)\n",
    "print(x)"
   ]
  },
  {
   "cell_type": "code",
   "execution_count": 40,
   "metadata": {},
   "outputs": [
    {
     "name": "stdout",
     "output_type": "stream",
     "text": [
      "[2, 4, 6, 8, 10]\n",
      "[10, 20, 30, 40, 50, 60, 70, 80, 90, 100]\n"
     ]
    }
   ],
   "source": [
    "x=[i for i in range(1,11) if i%2==0]\n",
    "print(x)\n",
    "y=[i*10 for i in range(1,11)]\n",
    "print(y)"
   ]
  },
  {
   "cell_type": "code",
   "execution_count": 43,
   "metadata": {},
   "outputs": [
    {
     "name": "stdout",
     "output_type": "stream",
     "text": [
      "{'a': 'apple', 'b': 'banana', 'c': 'carrot', 'd': 'dog'}\n",
      "{1: 2, 2: 4, 3: 6, 4: 8, 5: 10}\n"
     ]
    }
   ],
   "source": [
    "x=['a','b','c','d']\n",
    "y=['apple','banana','carrot','dog']\n",
    "z={i:j for (i,j) in zip(x,y)}\n",
    "print(z)\n",
    "x={i:i*2 for i in range(1,6)}\n",
    "print(x)"
   ]
  },
  {
   "cell_type": "code",
   "execution_count": 44,
   "metadata": {},
   "outputs": [
    {
     "name": "stdout",
     "output_type": "stream",
     "text": [
      "enter the numbers10\n",
      "0\n",
      "1\n",
      "1\n",
      "2\n",
      "3\n",
      "5\n",
      "8\n",
      "13\n",
      "21\n",
      "34\n"
     ]
    }
   ],
   "source": [
    "n=int(input(\"enter the numbers\"))\n",
    "a=0\n",
    "b=1\n",
    "print(a)\n",
    "print(b)\n",
    "for i in range(2,n):\n",
    "    c=a+b\n",
    "    a=b\n",
    "    b=c\n",
    "    print(c)"
   ]
  },
  {
   "cell_type": "code",
   "execution_count": 18,
   "metadata": {},
   "outputs": [
    {
     "name": "stdout",
     "output_type": "stream",
     "text": [
      "ravi raju 67 hyd\n",
      "ramu raju 67 hyd\n"
     ]
    }
   ],
   "source": [
    "class student:\n",
    "        friend=\"ravi\"\n",
    "        def __init__(self):\n",
    "            self.name=\"raju\"\n",
    "            self.age=67\n",
    "            self.addr=\"hyd\"\n",
    "a=student()\n",
    "print(a.friend,a.name,a.age,a.addr)\n",
    "b=student()\n",
    "b.friend=\"ramu\"\n",
    "print(b.friend,b.name,b.age,b.addr)\n",
    "        "
   ]
  },
  {
   "cell_type": "code",
   "execution_count": 46,
   "metadata": {},
   "outputs": [
    {
     "name": "stdout",
     "output_type": "stream",
     "text": [
      "enter the number:1\n",
      "enter the number:10\n",
      "1\n",
      "2\n",
      "3\n",
      "5\n",
      "7\n"
     ]
    }
   ],
   "source": [
    "lower=int(input(\"enter the number:\"))\n",
    "upper=int(input(\"enter the number:\"))\n",
    "for i in range(lower,upper+1):\n",
    "    if i>0:\n",
    "        for j in range(2,i):\n",
    "            if i%j==0:\n",
    "                break\n",
    "        else:\n",
    "                print(i)\n",
    "        "
   ]
  },
  {
   "cell_type": "code",
   "execution_count": 51,
   "metadata": {},
   "outputs": [
    {
     "name": "stdout",
     "output_type": "stream",
     "text": [
      "6 3 5 5 "
     ]
    }
   ],
   "source": [
    "from random import *\n",
    "print(randint(1,9),randint(1,9),randint(0,9),randint(0,9),end=\" \")"
   ]
  },
  {
   "cell_type": "code",
   "execution_count": 73,
   "metadata": {},
   "outputs": [
    {
     "name": "stdout",
     "output_type": "stream",
     "text": [
      "7040436152\n",
      "8819954638\n",
      "8035232299\n",
      "8044276768\n",
      "7902119503\n",
      "7103079833\n",
      "8268926414\n",
      "9506057724\n",
      "8190566573\n",
      "\n"
     ]
    }
   ],
   "source": [
    "from random import *\n",
    "for j in range(9):\n",
    "    x=randint(7,9)\n",
    "    y=\"\"+str(x)\n",
    "    for i in range(9):\n",
    "        y=y+str(randint(0,9))\n",
    "    print(y)\n",
    "print()"
   ]
  },
  {
   "cell_type": "code",
   "execution_count": 76,
   "metadata": {},
   "outputs": [
    {
     "name": "stdout",
     "output_type": "stream",
     "text": [
      "25\n"
     ]
    }
   ],
   "source": [
    "a=10\n",
    "b=25 \n",
    "print(a) if a>b else print(b)"
   ]
  },
  {
   "cell_type": "code",
   "execution_count": 95,
   "metadata": {},
   "outputs": [
    {
     "name": "stdout",
     "output_type": "stream",
     "text": [
      "hii raju bad morinig\n",
      "Hii rajesh good morning\n"
     ]
    }
   ],
   "source": [
    "def outer(func):\n",
    "    def inner(name):\n",
    "        if name==\"raju\":\n",
    "            print(\"hii raju bad morinig\")\n",
    "        else:\n",
    "            func(name)\n",
    "    return inner\n",
    "@outer\n",
    "def wish(name):\n",
    "      print(\"Hii\",name,\"good morning\")\n",
    "wish('raju')\n",
    "wish('rajesh')"
   ]
  },
  {
   "cell_type": "code",
   "execution_count": 97,
   "metadata": {},
   "outputs": [
    {
     "name": "stdout",
     "output_type": "stream",
     "text": [
      "Enter the number:10\n",
      "countdown start\n",
      "10\n",
      "9\n",
      "8\n",
      "7\n",
      "6\n",
      "5\n",
      "4\n",
      "3\n",
      "2\n",
      "1\n"
     ]
    }
   ],
   "source": [
    "n=int(input(\"Enter the number:\"))\n",
    "print(\"countdown start\")\n",
    "def count(n):\n",
    "    while n>0:\n",
    "        yield n\n",
    "        n=n-1\n",
    "x=count(n)\n",
    "for i in x:\n",
    "    print(i)"
   ]
  },
  {
   "cell_type": "code",
   "execution_count": 99,
   "metadata": {},
   "outputs": [
    {
     "name": "stdout",
     "output_type": "stream",
     "text": [
      "enter the number:5\n",
      "120\n"
     ]
    }
   ],
   "source": [
    "n=int(input(\"enter the number:\"))\n",
    "total=1\n",
    "for i in range(1,n+1):\n",
    "      total=total*i\n",
    "print(total)\n",
    "    "
   ]
  },
  {
   "cell_type": "code",
   "execution_count": 52,
   "metadata": {},
   "outputs": [
    {
     "name": "stdout",
     "output_type": "stream",
     "text": [
      "a<b\n"
     ]
    }
   ],
   "source": [
    "a,b=10,20\n",
    "print(\"a==b\" if a==b else\"a>b\"if a>b else\"a<b\") "
   ]
  },
  {
   "cell_type": "code",
   "execution_count": 7,
   "metadata": {},
   "outputs": [
    {
     "data": {
      "text/plain": [
       "55"
      ]
     },
     "execution_count": 7,
     "metadata": {},
     "output_type": "execute_result"
    }
   ],
   "source": [
    "f=open('d:/rajesh.txt','w')\n",
    "f.write(\"ramesh the entire calculated in the virtual environment\")"
   ]
  },
  {
   "cell_type": "code",
   "execution_count": 13,
   "metadata": {},
   "outputs": [
    {
     "name": "stdout",
     "output_type": "stream",
     "text": [
      "enter the year2019\n",
      "Enter the month9\n",
      "   September 2019\n",
      "Mo Tu We Th Fr Sa Su\n",
      "                   1\n",
      " 2  3  4  5  6  7  8\n",
      " 9 10 11 12 13 14 15\n",
      "16 17 18 19 20 21 22\n",
      "23 24 25 26 27 28 29\n",
      "30\n",
      "\n"
     ]
    }
   ],
   "source": [
    "year=int(input(\"enter the year\"))\n",
    "month=int(input(\"Enter the month\"))\n",
    "import calendar\n",
    "x=calendar.month(year,month)\n",
    "print(x)"
   ]
  },
  {
   "cell_type": "code",
   "execution_count": 14,
   "metadata": {},
   "outputs": [
    {
     "name": "stdout",
     "output_type": "stream",
     "text": [
      "                                  2019\n",
      "\n",
      "      January                   February                   March\n",
      "Mo Tu We Th Fr Sa Su      Mo Tu We Th Fr Sa Su      Mo Tu We Th Fr Sa Su\n",
      "    1  2  3  4  5  6                   1  2  3                   1  2  3\n",
      " 7  8  9 10 11 12 13       4  5  6  7  8  9 10       4  5  6  7  8  9 10\n",
      "14 15 16 17 18 19 20      11 12 13 14 15 16 17      11 12 13 14 15 16 17\n",
      "21 22 23 24 25 26 27      18 19 20 21 22 23 24      18 19 20 21 22 23 24\n",
      "28 29 30 31               25 26 27 28               25 26 27 28 29 30 31\n",
      "\n",
      "       April                      May                       June\n",
      "Mo Tu We Th Fr Sa Su      Mo Tu We Th Fr Sa Su      Mo Tu We Th Fr Sa Su\n",
      " 1  2  3  4  5  6  7             1  2  3  4  5                      1  2\n",
      " 8  9 10 11 12 13 14       6  7  8  9 10 11 12       3  4  5  6  7  8  9\n",
      "15 16 17 18 19 20 21      13 14 15 16 17 18 19      10 11 12 13 14 15 16\n",
      "22 23 24 25 26 27 28      20 21 22 23 24 25 26      17 18 19 20 21 22 23\n",
      "29 30                     27 28 29 30 31            24 25 26 27 28 29 30\n",
      "\n",
      "        July                     August                  September\n",
      "Mo Tu We Th Fr Sa Su      Mo Tu We Th Fr Sa Su      Mo Tu We Th Fr Sa Su\n",
      " 1  2  3  4  5  6  7                1  2  3  4                         1\n",
      " 8  9 10 11 12 13 14       5  6  7  8  9 10 11       2  3  4  5  6  7  8\n",
      "15 16 17 18 19 20 21      12 13 14 15 16 17 18       9 10 11 12 13 14 15\n",
      "22 23 24 25 26 27 28      19 20 21 22 23 24 25      16 17 18 19 20 21 22\n",
      "29 30 31                  26 27 28 29 30 31         23 24 25 26 27 28 29\n",
      "                                                    30\n",
      "\n",
      "      October                   November                  December\n",
      "Mo Tu We Th Fr Sa Su      Mo Tu We Th Fr Sa Su      Mo Tu We Th Fr Sa Su\n",
      "    1  2  3  4  5  6                   1  2  3                         1\n",
      " 7  8  9 10 11 12 13       4  5  6  7  8  9 10       2  3  4  5  6  7  8\n",
      "14 15 16 17 18 19 20      11 12 13 14 15 16 17       9 10 11 12 13 14 15\n",
      "21 22 23 24 25 26 27      18 19 20 21 22 23 24      16 17 18 19 20 21 22\n",
      "28 29 30 31               25 26 27 28 29 30         23 24 25 26 27 28 29\n",
      "                                                    30 31\n",
      "\n"
     ]
    }
   ],
   "source": [
    "import calendar\n",
    "x=calendar.calendar(2019)\n",
    "print(x)"
   ]
  },
  {
   "cell_type": "code",
   "execution_count": 16,
   "metadata": {},
   "outputs": [
    {
     "name": "stdout",
     "output_type": "stream",
     "text": [
      "   September 2019\n",
      "Su Mo Tu We Th Fr Sa\n",
      " 1  2  3  4  5  6  7\n",
      " 8  9 10 11 12 13 14\n",
      "15 16 17 18 19 20 21\n",
      "22 23 24 25 26 27 28\n",
      "29 30\n",
      "\n"
     ]
    }
   ],
   "source": [
    "import calendar\n",
    "x=calendar.TextCalendar(calendar.SUNDAY)\n",
    "y=x.formatmonth(2019,9)\n",
    "print(y)"
   ]
  },
  {
   "cell_type": "code",
   "execution_count": 19,
   "metadata": {},
   "outputs": [
    {
     "name": "stdout",
     "output_type": "stream",
     "text": [
      "\n",
      "January\n",
      "February\n",
      "March\n",
      "April\n",
      "May\n",
      "June\n",
      "July\n",
      "August\n",
      "September\n",
      "October\n",
      "November\n",
      "December\n"
     ]
    }
   ],
   "source": [
    "import calendar\n",
    "for i in calendar.month_name:\n",
    "    print(i)"
   ]
  },
  {
   "cell_type": "code",
   "execution_count": 20,
   "metadata": {},
   "outputs": [
    {
     "name": "stdout",
     "output_type": "stream",
     "text": [
      "Monday\n",
      "Tuesday\n",
      "Wednesday\n",
      "Thursday\n",
      "Friday\n",
      "Saturday\n",
      "Sunday\n"
     ]
    }
   ],
   "source": [
    "import calendar\n",
    "for i in calendar.day_name:\n",
    "    print(i)"
   ]
  },
  {
   "cell_type": "code",
   "execution_count": 9,
   "metadata": {},
   "outputs": [
    {
     "name": "stdout",
     "output_type": "stream",
     "text": [
      "enter the number:9\n",
      "this is your factorial number 362880\n",
      "good bye\n"
     ]
    }
   ],
   "source": [
    "import math\n",
    "n=int(input(\"enter the number:\"))\n",
    "try:\n",
    "    x=math.factorial(n)\n",
    "    print(\"this is your factorial number {}\".format(x))\n",
    "except:\n",
    "    print(\"negative numbes are not allowed\")\n",
    "finally:\n",
    "    print(\"good bye\")"
   ]
  },
  {
   "cell_type": "code",
   "execution_count": 23,
   "metadata": {},
   "outputs": [
    {
     "name": "stdout",
     "output_type": "stream",
     "text": [
      "1\n",
      "3\n",
      "5\n",
      "7\n"
     ]
    }
   ],
   "source": []
  },
  {
   "cell_type": "code",
   "execution_count": 37,
   "metadata": {},
   "outputs": [
    {
     "name": "stdout",
     "output_type": "stream",
     "text": [
      "Monday-August-2019\n"
     ]
    }
   ],
   "source": [
    "from datetime import date\n",
    "from datetime import datetime\n",
    "from datetime import time\n",
    "x=datetime.now()\n",
    "print(x.strftime(\"%A-%B-%Y\"))"
   ]
  },
  {
   "cell_type": "code",
   "execution_count": 5,
   "metadata": {},
   "outputs": [
    {
     "name": "stdout",
     "output_type": "stream",
     "text": [
      "2 3 3 9 \n",
      "7 5 3 6 \n",
      "3 8 7 9 \n",
      "9 1 1 0 \n",
      "8 8 6 2 \n",
      "2 7 8 5 \n",
      "8 3 6 1 \n",
      "0 5 4 7 \n",
      "0 9 3 9 \n",
      "1 8 6 5 \n"
     ]
    }
   ],
   "source": [
    "from random import *\n",
    "for i in range(10):\n",
    "    print(randint(0,9),randint(0,9),randint(0,9),randint(0,9),end=\" \")\n",
    "    print()"
   ]
  },
  {
   "cell_type": "code",
   "execution_count": 13,
   "metadata": {},
   "outputs": [
    {
     "name": "stdout",
     "output_type": "stream",
     "text": [
      "Enter the number:10\n",
      "Enter the number:10\n",
      "20\n"
     ]
    }
   ],
   "source": [
    "n=int(input(\"Enter the number:\"))\n",
    "m=int(input(\"Enter the number:\"))\n",
    "print(n+m)"
   ]
  },
  {
   "cell_type": "code",
   "execution_count": 1,
   "metadata": {},
   "outputs": [
    {
     "name": "stdout",
     "output_type": "stream",
     "text": [
      "Enter the number:1000\n",
      "Enter the number:200\n",
      "800\n"
     ]
    }
   ],
   "source": [
    "n=int(input(\"Enter the number:\"))\n",
    "m=int(input(\"Enter the number:\"))\n",
    "print(n-m)"
   ]
  },
  {
   "cell_type": "code",
   "execution_count": null,
   "metadata": {},
   "outputs": [],
   "source": [
    "n=input(\"enter your son name:\")\n",
    "if n==\"praveen\":\n",
    "    print(\"this guy is very worst perosn \")"
   ]
  },
  {
   "cell_type": "code",
   "execution_count": 4,
   "metadata": {},
   "outputs": [
    {
     "name": "stdout",
     "output_type": "stream",
     "text": [
      "10\n"
     ]
    }
   ],
   "source": [
    "def decor(func):\n",
    "    def inner():\n",
    "        x=func()\n",
    "        return x*2\n",
    "    return inner\n",
    "@decor\n",
    "def num():\n",
    "    return 5\n",
    "print(num())"
   ]
  },
  {
   "cell_type": "code",
   "execution_count": 8,
   "metadata": {},
   "outputs": [
    {
     "name": "stdout",
     "output_type": "stream",
     "text": [
      "this is the outer function\n",
      "this the returnin the inner fucnction\n",
      "this is the inner function\n"
     ]
    }
   ],
   "source": [
    "def outer():\n",
    "    print(\"this is the outer function\")\n",
    "    def inner():\n",
    "        print(\"this is the inner function\")\n",
    "    print(\"this the returnin the inner fucnction\")\n",
    "    return inner\n",
    "x=outer()\n",
    "x()"
   ]
  },
  {
   "cell_type": "code",
   "execution_count": 12,
   "metadata": {},
   "outputs": [
    {
     "data": {
      "text/plain": [
       "'RAJESH'"
      ]
     },
     "execution_count": 12,
     "metadata": {},
     "output_type": "execute_result"
    }
   ],
   "source": [
    "def outer(func):\n",
    "    def inner():\n",
    "        x=func()\n",
    "        return x.upper()\n",
    "    return inner\n",
    "@outer\n",
    "def raju():\n",
    "    return \"rajesh\"\n",
    "raju()"
   ]
  },
  {
   "cell_type": "code",
   "execution_count": 93,
   "metadata": {},
   "outputs": [
    {
     "name": "stdout",
     "output_type": "stream",
     "text": [
      "hello raju good morning\n",
      "hii rajesh bad morning\n",
      "hello rakesh good morning\n"
     ]
    }
   ],
   "source": [
    "def outer(func):\n",
    "    def inner(name):\n",
    "        if name==\"rajesh\":\n",
    "            print(\"hii rajesh bad morning\")\n",
    "        else:\n",
    "            func(name)\n",
    "    return inner\n",
    "@outer\n",
    "def wish(name):\n",
    "    print(\"hello\",name,\"good morning\")\n",
    "wish(\"raju\")\n",
    "wish(\"rajesh\")\n",
    "wish(\"rakesh\")"
   ]
  },
  {
   "cell_type": "code",
   "execution_count": 19,
   "metadata": {},
   "outputs": [
    {
     "data": {
      "text/plain": [
       "'raju'"
      ]
     },
     "execution_count": 19,
     "metadata": {},
     "output_type": "execute_result"
    }
   ],
   "source": [
    "def outer(func):\n",
    "    def inner():\n",
    "        x=func()\n",
    "        return x.upper()\n",
    "    return inner\n",
    "\n",
    "def name(n):\n",
    "    return n\n",
    "name(\"raju\")"
   ]
  },
  {
   "cell_type": "code",
   "execution_count": 26,
   "metadata": {},
   "outputs": [
    {
     "data": {
      "text/plain": [
       "'HII GOOD MORNING'"
      ]
     },
     "execution_count": 26,
     "metadata": {},
     "output_type": "execute_result"
    }
   ],
   "source": [
    "def outer(func):\n",
    "    def inner():\n",
    "        x=func()\n",
    "        return x.upper()\n",
    "    return inner\n",
    "@outer\n",
    "def wish():\n",
    "    return \"hii good morning\" \n",
    "wish()"
   ]
  },
  {
   "cell_type": "code",
   "execution_count": 32,
   "metadata": {},
   "outputs": [
    {
     "name": "stdout",
     "output_type": "stream",
     "text": [
      "hii raju good morning\n",
      "hii ravi good morning\n",
      "hii rajesh good morning\n",
      "hii rakesh good evening\n"
     ]
    }
   ],
   "source": [
    "def outer(func):\n",
    "    def inner(name):\n",
    "        if name==\"rakesh\":\n",
    "            print(\"hii rakesh good evening\")\n",
    "        else:\n",
    "            func(name)\n",
    "    return inner\n",
    "@outer\n",
    "def wish(name):\n",
    "    print(\"hii\",name,\"good morning\")\n",
    "wish(\"raju\")\n",
    "wish(\"ravi\")\n",
    "wish(\"rajesh\")\n",
    "wish(\"rakesh\")"
   ]
  },
  {
   "cell_type": "code",
   "execution_count": 40,
   "metadata": {},
   "outputs": [
    {
     "data": {
      "text/plain": [
       "'HII THIS IS RAJU'"
      ]
     },
     "execution_count": 40,
     "metadata": {},
     "output_type": "execute_result"
    }
   ],
   "source": [
    "def outer(func):\n",
    "    def inner():\n",
    "        x=func()\n",
    "        return x.upper()\n",
    "    return inner\n",
    "@outer\n",
    "def name():\n",
    "    return \"hii this is raju\"\n",
    "name()"
   ]
  },
  {
   "cell_type": "code",
   "execution_count": null,
   "metadata": {},
   "outputs": [],
   "source": [
    "from datetime import time\n",
    "x=datetime.now()\n",
    "y=x.strftime(\"%H:%M\")\n",
    "z=y.split(\":\")\n",
    "a=int(z[0])\n",
    "item=input(\"Enter the item:\")\n",
    "time=input(\"Enter the time\")\n",
    "b=time.split(\":\")\n",
    "c=int(b[0])\n",
    "if item==\"dosa\":\n",
    "    if (c>=7 and c<=10)and(a>=7 and a<=10):\n",
    "        print(\"dosa is available\")\n",
    "    else:\n",
    "        print(\"dosa is not availbale\")\n",
    "else:\n",
    "    print(\"idli is availble\")"
   ]
  },
  {
   "cell_type": "code",
   "execution_count": 31,
   "metadata": {},
   "outputs": [
    {
     "name": "stdout",
     "output_type": "stream",
     "text": [
      "Enter the time17:34\n",
      "17\n"
     ]
    },
    {
     "data": {
      "text/plain": [
       "int"
      ]
     },
     "execution_count": 31,
     "metadata": {},
     "output_type": "execute_result"
    }
   ],
   "source": [
    "time=input(\"Enter the time\")\n",
    "b=time.split(\":\")\n",
    "c=int(b[0])\n",
    "print(c)\n",
    "type(c)"
   ]
  },
  {
   "cell_type": "code",
   "execution_count": 1,
   "metadata": {},
   "outputs": [
    {
     "data": {
      "text/plain": [
       "'Fri Sep 20 10:44:38 2019'"
      ]
     },
     "execution_count": 1,
     "metadata": {},
     "output_type": "execute_result"
    }
   ],
   "source": [
    "import time\n",
    "time.ctime()"
   ]
  },
  {
   "cell_type": "code",
   "execution_count": 4,
   "metadata": {},
   "outputs": [
    {
     "data": {
      "text/plain": [
       "'RAJU'"
      ]
     },
     "execution_count": 4,
     "metadata": {},
     "output_type": "execute_result"
    }
   ],
   "source": [
    "import getpass\n",
    "getpass.getuser()"
   ]
  },
  {
   "cell_type": "code",
   "execution_count": 37,
   "metadata": {},
   "outputs": [
    {
     "name": "stdout",
     "output_type": "stream",
     "text": [
      "[2, 3, 3, 4, 4, 4, 5, 5, 5, 5]\n"
     ]
    }
   ],
   "source": [
    "def \n",
    "for a in range(n):\n",
    "    m=prices[a]\n",
    "    n=d[a]\n",
    "    if m>a:\n",
    "        c=0\n",
    "        cost.append(c)\n",
    "    else:\n",
    "        c=m-n\n",
    "        cost.append(c)\n",
    "print(cost)"
   ]
  },
  {
   "cell_type": "code",
   "execution_count": 52,
   "metadata": {},
   "outputs": [
    {
     "name": "stdout",
     "output_type": "stream",
     "text": [
      "[[], [1], [1, 2], [1, 2, 3]]\n"
     ]
    }
   ],
   "source": [
    "x=[1,2,3,4]\n",
    "z=[]\n",
    "for i in range(4):\n",
    "    y=[]\n",
    "    for j in range(i):\n",
    "        y.append(x[j])\n",
    "    z.append(y)\n",
    "print(z)"
   ]
  },
  {
   "cell_type": "code",
   "execution_count": null,
   "metadata": {},
   "outputs": [],
   "source": []
  }
 ],
 "metadata": {
  "kernelspec": {
   "display_name": "Python 3",
   "language": "python",
   "name": "python3"
  },
  "language_info": {
   "codemirror_mode": {
    "name": "ipython",
    "version": 3
   },
   "file_extension": ".py",
   "mimetype": "text/x-python",
   "name": "python",
   "nbconvert_exporter": "python",
   "pygments_lexer": "ipython3",
   "version": "3.6.4"
  }
 },
 "nbformat": 4,
 "nbformat_minor": 2
}
