{
 "cells": [
  {
   "cell_type": "code",
   "execution_count": 2,
   "metadata": {},
   "outputs": [
    {
     "name": "stdout",
     "output_type": "stream",
     "text": [
      "twinkle,twinle litte star\n",
      "\thow i wonder what you are\n",
      "\t\tup above the world so high,\n",
      "\t\t like adaimond in the sky\n",
      "twinkle twinkle little star\n",
      "how i wonder what you are!\n"
     ]
    }
   ],
   "source": [
    "print(\"twinkle,twinle litte star\\n\\thow i wonder what you are\\n\\t\\tup above the world so high,\\n\\t\\t like adaimond in the sky\\ntwinkle twinkle little star\\nhow i wonder what you are!\")"
   ]
  },
  {
   "cell_type": "code",
   "execution_count": 4,
   "metadata": {},
   "outputs": [
    {
     "name": "stdout",
     "output_type": "stream",
     "text": [
      "3.6.4 |Anaconda, Inc.| (default, Jan 16 2018, 10:22:32) [MSC v.1900 64 bit (AMD64)]\n",
      "sys.version_info(major=3, minor=6, micro=4, releaselevel='final', serial=0)\n"
     ]
    }
   ],
   "source": [
    "import sys\n",
    "print(sys.version)\n",
    "print(sys.version_info)"
   ]
  },
  {
   "cell_type": "code",
   "execution_count": 5,
   "metadata": {},
   "outputs": [
    {
     "name": "stdout",
     "output_type": "stream",
     "text": [
      "2019-06-18 17:22:57.168738\n"
     ]
    }
   ],
   "source": [
    "from datetime import datetime\n",
    "x=datetime.now()\n",
    "print(x)"
   ]
  },
  {
   "cell_type": "code",
   "execution_count": 7,
   "metadata": {},
   "outputs": [
    {
     "name": "stdout",
     "output_type": "stream",
     "text": [
      "enter the radius:1.1\n",
      "the radius is 3.8013271108436504\n"
     ]
    }
   ],
   "source": [
    "from math import pi\n",
    "r=float(input(\"enter the radius:\"))\n",
    "print(\"the radius is %s\"%(pi*r**2))"
   ]
  },
  {
   "cell_type": "code",
   "execution_count": 9,
   "metadata": {},
   "outputs": [
    {
     "name": "stdout",
     "output_type": "stream",
     "text": [
      "enter the name:raju\n",
      "enter the name:kumar\n",
      "hello kumar raju\n"
     ]
    }
   ],
   "source": [
    "f=input(\"enter the name:\")\n",
    "l=input(\"enter the name:\")\n",
    "print(\"hello \"+l+\" \"+f)"
   ]
  },
  {
   "cell_type": "code",
   "execution_count": 10,
   "metadata": {},
   "outputs": [
    {
     "name": "stdout",
     "output_type": "stream",
     "text": [
      "enter the numbers:1,2,3,4,5,6\n",
      "('1', '2', '3', '4', '5', '6')\n",
      "['1', '2', '3', '4', '5', '6']\n"
     ]
    }
   ],
   "source": [
    "n=input(\"enter the numbers:\")\n",
    "x=n.split(\",\")\n",
    "y=tuple(x)\n",
    "print(y)\n",
    "print(x)"
   ]
  },
  {
   "cell_type": "code",
   "execution_count": 11,
   "metadata": {},
   "outputs": [
    {
     "name": "stdout",
     "output_type": "stream",
     "text": [
      "enter the sentence:abc.java\n",
      "the file extension is: java\n"
     ]
    }
   ],
   "source": [
    "n=input(\"enter the sentence:\")\n",
    "x=n.split(\".\")\n",
    "print(\"the file extension is:\",x[-1])"
   ]
  },
  {
   "cell_type": "code",
   "execution_count": 12,
   "metadata": {},
   "outputs": [
    {
     "name": "stdout",
     "output_type": "stream",
     "text": [
      "redblack\n"
     ]
    }
   ],
   "source": [
    "colors=[\"red\",\"green\",\"white\",\"black\"]\n",
    "print(\"%s%s\"%(colors[0],colors[-1]))"
   ]
  },
  {
   "cell_type": "code",
   "execution_count": 14,
   "metadata": {},
   "outputs": [
    {
     "name": "stdout",
     "output_type": "stream",
     "text": [
      "the examination will startform:11-5-2018\n"
     ]
    }
   ],
   "source": [
    "exam=(11,5,2018)\n",
    "print(\"the examination will startform:%i-%i-%i\"%exam)"
   ]
  },
  {
   "cell_type": "code",
   "execution_count": 15,
   "metadata": {},
   "outputs": [
    {
     "name": "stdout",
     "output_type": "stream",
     "text": [
      "enter the interger:5\n",
      "615\n"
     ]
    }
   ],
   "source": [
    "a=int(input(\"enter the interger:\"))\n",
    "n1=int(\"%s\"%a)\n",
    "n2=int(\"%s%s\"%(a,a))\n",
    "n3=int(\"%s%s%s\"%(a,a,a))\n",
    "print(n1+n2+n3)"
   ]
  },
  {
   "cell_type": "code",
   "execution_count": 16,
   "metadata": {},
   "outputs": [
    {
     "name": "stdout",
     "output_type": "stream",
     "text": [
      "Return the absolute value of the argument.\n"
     ]
    }
   ],
   "source": [
    "print(abs.__doc__)"
   ]
  },
  {
   "cell_type": "code",
   "execution_count": 17,
   "metadata": {},
   "outputs": [
    {
     "name": "stdout",
     "output_type": "stream",
     "text": [
      "enter the year:2019\n",
      "enter the month:6\n",
      "     June 2019\n",
      "Mo Tu We Th Fr Sa Su\n",
      "                1  2\n",
      " 3  4  5  6  7  8  9\n",
      "10 11 12 13 14 15 16\n",
      "17 18 19 20 21 22 23\n",
      "24 25 26 27 28 29 30\n",
      "\n"
     ]
    }
   ],
   "source": [
    "import calendar\n",
    "y=int(input(\"enter the year:\"))\n",
    "m=int(input(\"enter the month:\"))\n",
    "x=calendar.month(y,m)\n",
    "print(x)"
   ]
  },
  {
   "cell_type": "code",
   "execution_count": 19,
   "metadata": {},
   "outputs": [
    {
     "name": "stdout",
     "output_type": "stream",
     "text": [
      "a string that you \"dont\" have to esacpe this\n",
      "is a ========multi-line\n",
      "here doc string -------> example\n"
     ]
    }
   ],
   "source": [
    "print(\"\"\"a string that you \"dont\" have to esacpe this\n",
    "is a ========multi-line\n",
    "here doc string -------> example\"\"\")"
   ]
  },
  {
   "cell_type": "code",
   "execution_count": 23,
   "metadata": {},
   "outputs": [
    {
     "name": "stdout",
     "output_type": "stream",
     "text": [
      "4\n"
     ]
    }
   ],
   "source": [
    "from datetime import date\n",
    "fdate=date(2019,7,2)\n",
    "ldate=date(2019,7,6)\n",
    "x=ldate-fdate\n",
    "print(x.days)"
   ]
  },
  {
   "cell_type": "code",
   "execution_count": 24,
   "metadata": {},
   "outputs": [
    {
     "name": "stdout",
     "output_type": "stream",
     "text": [
      "enter the pi:3.1\n",
      "enter the radius:6.0\n",
      "892.8\n"
     ]
    }
   ],
   "source": [
    "pi=float(input(\"enter the pi:\"))\n",
    "r=float(input(\"enter the radius:\"))\n",
    "v=4/3*pi*r**3\n",
    "print(v)\n"
   ]
  },
  {
   "cell_type": "code",
   "execution_count": 4,
   "metadata": {},
   "outputs": [
    {
     "name": "stdout",
     "output_type": "stream",
     "text": [
      "Enter the number:22\n",
      "10\n"
     ]
    }
   ],
   "source": [
    "n=int(input(\"Enter the number:\"))\n",
    "def difference(n):\n",
    "    if n<=17:\n",
    "        return 17-n\n",
    "    else:\n",
    "        return (n-17)*2\n",
    "print(difference(n))\n",
    "\n"
   ]
  },
  {
   "cell_type": "code",
   "execution_count": 5,
   "metadata": {},
   "outputs": [
    {
     "name": "stdout",
     "output_type": "stream",
     "text": [
      "Enter the number:1000\n",
      "True\n"
     ]
    }
   ],
   "source": [
    "n=int(input(\"Enter the number:\"))\n",
    "def num(n):\n",
    "    return (abs(1000-n)<=100)or(abs(2000-n)<=100)\n",
    "print(num(n))"
   ]
  },
  {
   "cell_type": "code",
   "execution_count": 2,
   "metadata": {},
   "outputs": [
    {
     "name": "stdout",
     "output_type": "stream",
     "text": [
      "enter the stringraju\n",
      "israju\n"
     ]
    }
   ],
   "source": [
    "n=str(input(\"enter the string\"))\n",
    "if len(n)>=2 and n[:2]==\"is\":\n",
    "    print(n)\n",
    "else:\n",
    "    print(\"is\"+n)\n",
    "\n"
   ]
  },
  {
   "cell_type": "code",
   "execution_count": 5,
   "metadata": {},
   "outputs": [
    {
     "name": "stdout",
     "output_type": "stream",
     "text": [
      "15\n",
      "45\n"
     ]
    }
   ],
   "source": [
    "def num(x,y,z):\n",
    "    sum=x+y+z\n",
    "    if x==y==z:\n",
    "        sum=sum*3\n",
    "    return sum\n",
    "print(num(4,5,6))\n",
    "print(num(5,5,5))"
   ]
  },
  {
   "cell_type": "code",
   "execution_count": 7,
   "metadata": {},
   "outputs": [
    {
     "name": "stdout",
     "output_type": "stream",
     "text": [
      "enter the string:.raju\n",
      "enter the number3\n",
      ".raju.raju.raju\n"
     ]
    }
   ],
   "source": [
    "s=input(\"enter the string:\")\n",
    "n=int(input(\"enter the number\"))\n",
    "print(s*n)"
   ]
  },
  {
   "cell_type": "code",
   "execution_count": 8,
   "metadata": {},
   "outputs": [
    {
     "name": "stdout",
     "output_type": "stream",
     "text": [
      "abcabcabcabcabc\n"
     ]
    }
   ],
   "source": [
    "def raju(str,n):\n",
    "    x=\"\"\n",
    "    for i in range(n):\n",
    "        x=x+str\n",
    "    return x\n",
    "print(raju(\"abc\",5))"
   ]
  },
  {
   "cell_type": "code",
   "execution_count": 9,
   "metadata": {},
   "outputs": [
    {
     "name": "stdout",
     "output_type": "stream",
     "text": [
      "enter the number:5\n",
      "this is odd number\n"
     ]
    }
   ],
   "source": [
    "num=int(input(\"enter the number:\"))\n",
    "if num%2==0:\n",
    "    print(\"this is even number\")\n",
    "else:\n",
    "    print(\"this is odd number\")"
   ]
  },
  {
   "cell_type": "code",
   "execution_count": 11,
   "metadata": {},
   "outputs": [
    {
     "name": "stdout",
     "output_type": "stream",
     "text": [
      "2\n"
     ]
    }
   ],
   "source": [
    "def raju(list):\n",
    "    count=0\n",
    "    for i in list:\n",
    "        if i==4:\n",
    "            count=count+1\n",
    "    return count\n",
    "print(raju([1,4,5,6,4]))\n"
   ]
  },
  {
   "cell_type": "code",
   "execution_count": 15,
   "metadata": {},
   "outputs": [
    {
     "name": "stdout",
     "output_type": "stream",
     "text": [
      "enter the stirnga\n",
      "enter the how many copeis only first two charactersies6\n",
      "aaaaaa\n"
     ]
    }
   ],
   "source": [
    "s=input(\"enter the stirng\")\n",
    "n=int(input(\"enter the how many copeis only first two charactersies\"))\n",
    "print(s[:2]*n)"
   ]
  },
  {
   "cell_type": "code",
   "execution_count": 21,
   "metadata": {},
   "outputs": [
    {
     "name": "stdout",
     "output_type": "stream",
     "text": [
      "enter the letter:t\n",
      "is is consonent\n"
     ]
    }
   ],
   "source": [
    "x=input(\"enter the letter:\")\n",
    "if x in \"aeiou\":\n",
    "        print(\"it is vowel\")\n",
    "else:\n",
    "        print(\"is is consonent\")\n"
   ]
  },
  {
   "cell_type": "code",
   "execution_count": 29,
   "metadata": {},
   "outputs": [
    {
     "name": "stdout",
     "output_type": "stream",
     "text": [
      "True\n"
     ]
    }
   ],
   "source": [
    "def raju(data,n):\n",
    "    for i in data:\n",
    "        if i==5:\n",
    "            return True\n",
    "    return False\n",
    "print(raju([1,2,3,4,5],5))"
   ]
  },
  {
   "cell_type": "code",
   "execution_count": 30,
   "metadata": {},
   "outputs": [
    {
     "name": "stdout",
     "output_type": "stream",
     "text": [
      "**\n",
      "****\n",
      "*******\n",
      "*********\n",
      "None\n"
     ]
    }
   ],
   "source": [
    "def raju(list):\n",
    "    for i in list:\n",
    "        print(\"*\"*i)\n",
    "print(raju([2,4,7,9]))"
   ]
  },
  {
   "cell_type": "code",
   "execution_count": 37,
   "metadata": {},
   "outputs": [
    {
     "name": "stdout",
     "output_type": "stream",
     "text": [
      "1234\n"
     ]
    }
   ],
   "source": [
    "def raju(list):\n",
    "    x=\"\"\n",
    "    for i in list:\n",
    "         x=x+str(i)\n",
    "    return x\n",
    "print(raju([1,2,3,4]))"
   ]
  },
  {
   "cell_type": "code",
   "execution_count": 39,
   "metadata": {},
   "outputs": [
    {
     "name": "stdout",
     "output_type": "stream",
     "text": [
      "386\n",
      "462\n",
      "418\n",
      "344\n",
      "236\n",
      "566\n",
      "978\n",
      "328\n",
      "162\n",
      "758\n",
      "918\n"
     ]
    }
   ],
   "source": [
    "numbers = [386, 462, 47, 418, 907, 344, 236, 375, 823, 566, 597, 978, 328, 615, 953, 345,399, 162, 758, 219, 918, 237, 412, 566, 826, 248, 866, 950, 626, 949, 687, 217,815, 67, 104, 58, 512, 24, 892, 894, 767, 553, 81, 379, 843, 831, 445, 742, 717,958,743, 527]\n",
    "for x in numbers:\n",
    "    if x==237:\n",
    "        break;\n",
    "    elif x%2==0:\n",
    "        print(x)"
   ]
  },
  {
   "cell_type": "code",
   "execution_count": 40,
   "metadata": {},
   "outputs": [
    {
     "name": "stdout",
     "output_type": "stream",
     "text": [
      "{'White', 'Black'}\n"
     ]
    }
   ],
   "source": [
    "x=set([\"White\", \"Black\", \"Red\"])\n",
    "y=set([\"Red\", \"Green\"])\n",
    "print(x.difference(y))\n"
   ]
  },
  {
   "cell_type": "code",
   "execution_count": 41,
   "metadata": {},
   "outputs": [
    {
     "name": "stdout",
     "output_type": "stream",
     "text": [
      "enter the base:20\n",
      "enter the height:40\n",
      "400.0\n"
     ]
    }
   ],
   "source": [
    "b=int(input(\"enter the base:\"))\n",
    "h=int(input(\"enter the height:\"))\n",
    "x=b*h/2\n",
    "print(x)"
   ]
  },
  {
   "cell_type": "code",
   "execution_count": null,
   "metadata": {},
   "outputs": [],
   "source": []
  }
 ],
 "metadata": {
  "kernelspec": {
   "display_name": "Python 3",
   "language": "python",
   "name": "python3"
  },
  "language_info": {
   "codemirror_mode": {
    "name": "ipython",
    "version": 3
   },
   "file_extension": ".py",
   "mimetype": "text/x-python",
   "name": "python",
   "nbconvert_exporter": "python",
   "pygments_lexer": "ipython3",
   "version": "3.6.4"
  }
 },
 "nbformat": 4,
 "nbformat_minor": 2
}
