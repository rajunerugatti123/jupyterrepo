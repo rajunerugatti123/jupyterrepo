{
 "cells": [
  {
   "cell_type": "code",
   "execution_count": 6,
   "metadata": {},
   "outputs": [
    {
     "name": "stdout",
     "output_type": "stream",
     "text": [
      "Twinkle,twinkle,little star,\n",
      "\tHow I wonder what you are!\n",
      "\t\tup above the world so high,\n",
      "\t\tLike a diamond in the sky.\n"
     ]
    }
   ],
   "source": [
    "#arrange the fomat\n",
    "print(\"Twinkle,twinkle,little star,\\n\\tHow I wonder what you are!\\n\\t\\tup above the world so high,\\n\\t\\tLike a diamond in the sky.\")"
   ]
  },
  {
   "cell_type": "code",
   "execution_count": 9,
   "metadata": {},
   "outputs": [
    {
     "name": "stdout",
     "output_type": "stream",
     "text": [
      "system version: 3.6.4 |Anaconda, Inc.| (default, Jan 16 2018, 10:22:32) [MSC v.1900 64 bit (AMD64)]\n",
      "system version information: sys.version_info(major=3, minor=6, micro=4, releaselevel='final', serial=0)\n"
     ]
    },
    {
     "data": {
      "text/plain": [
       "sys.version_info(major=3, minor=6, micro=4, releaselevel='final', serial=0)"
      ]
     },
     "execution_count": 9,
     "metadata": {},
     "output_type": "execute_result"
    }
   ],
   "source": [
    "import sys\n",
    "print(\"system version:\",sys.version)\n",
    "print(\"system version information:\",sys.version_info)\n",
    "sys.version_info"
   ]
  },
  {
   "cell_type": "code",
   "execution_count": 11,
   "metadata": {},
   "outputs": [
    {
     "name": "stdout",
     "output_type": "stream",
     "text": [
      "current date and time is:\n",
      "2019-04-01 12:17:53.406657\n"
     ]
    },
    {
     "data": {
      "text/plain": [
       "'2019-04-01 12:17:53'"
      ]
     },
     "execution_count": 11,
     "metadata": {},
     "output_type": "execute_result"
    }
   ],
   "source": [
    "from datetime import datetime\n",
    "print(\"current date and time is:\")\n",
    "x=datetime.now()\n",
    "print(x)\n",
    "x.strftime(\"%Y-%m-%d %H:%M:%S\")"
   ]
  },
  {
   "cell_type": "code",
   "execution_count": 15,
   "metadata": {},
   "outputs": [
    {
     "name": "stdout",
     "output_type": "stream",
     "text": [
      "enter the raduis:1.1\n",
      "the circle of radius in the rounding of value1.1is:3.8013271108436504\n"
     ]
    }
   ],
   "source": [
    "from math import pi\n",
    "x=float(input(\"enter the raduis:\"))\n",
    "print(\"the circle of radius in the rounding of value\"+str(x)+\"is:\"+str(pi*x**2))"
   ]
  },
  {
   "cell_type": "code",
   "execution_count": 17,
   "metadata": {},
   "outputs": [
    {
     "name": "stdout",
     "output_type": "stream",
     "text": [
      "enter the first name:raju\n",
      "enter the last name:kumar\n",
      "Hello kumar raju\n"
     ]
    }
   ],
   "source": [
    "fname=input(\"enter the first name:\")\n",
    "lname=input(\"enter the last name:\")\n",
    "print(\"Hello \"+lname+\" \"+fname)"
   ]
  },
  {
   "cell_type": "code",
   "execution_count": 19,
   "metadata": {},
   "outputs": [
    {
     "name": "stdout",
     "output_type": "stream",
     "text": [
      "enter the numbers:1,2,3,4,5,6\n",
      "list is: ['1', '2', '3', '4', '5', '6']\n",
      "tuple is: ('1', '2', '3', '4', '5', '6')\n"
     ]
    }
   ],
   "source": [
    "x=input('enter the numbers:')\n",
    "a=x.split(\",\")\n",
    "b=tuple(a)\n",
    "print(\"list is:\",a)\n",
    "print(\"tuple is:\",b)"
   ]
  },
  {
   "cell_type": "code",
   "execution_count": 21,
   "metadata": {},
   "outputs": [
    {
     "name": "stdout",
     "output_type": "stream",
     "text": [
      "enter the name:demo.java\n",
      "the file extention is: java\n"
     ]
    }
   ],
   "source": [
    "filename=input(\"enter the name:\")\n",
    "x=filename.split(\".\")\n",
    "print(\"the file extention is:\",x[-1])"
   ]
  },
  {
   "cell_type": "code",
   "execution_count": 23,
   "metadata": {},
   "outputs": [
    {
     "name": "stdout",
     "output_type": "stream",
     "text": [
      "the first color is:red\n",
      "the last color is:black\n"
     ]
    }
   ],
   "source": [
    "x=[\"red\",\"green\",\"white\",\"black\"]\n",
    "print(\"the first color is:\"+x[0]+\"\\nthe last color is:\"+x[-1])"
   ]
  },
  {
   "cell_type": "code",
   "execution_count": 26,
   "metadata": {},
   "outputs": [
    {
     "name": "stdout",
     "output_type": "stream",
     "text": [
      "11/5/2018\n",
      "2018-5-45\n"
     ]
    }
   ],
   "source": [
    "date=(11,5,2018)\n",
    "print(\"%i/%i/%i\"%date)\n",
    "x=(2018,5,45)\n",
    "print(\"%i-%i-%i\"%x)"
   ]
  },
  {
   "cell_type": "code",
   "execution_count": 27,
   "metadata": {},
   "outputs": [
    {
     "name": "stdout",
     "output_type": "stream",
     "text": [
      "enter the number:1\n",
      "123\n"
     ]
    }
   ],
   "source": [
    "n=int(input(\"enter the number:\"))\n",
    "a=int(\"%s\"%n)\n",
    "b=int(\"%s%s\"%(n,n))\n",
    "c=int(\"%s%s%s\"%(n,n,n))\n",
    "print(a+b+c)"
   ]
  },
  {
   "cell_type": "code",
   "execution_count": 33,
   "metadata": {},
   "outputs": [
    {
     "name": "stdout",
     "output_type": "stream",
     "text": [
      "enter the number:5\n",
      "615\n"
     ]
    }
   ],
   "source": [
    "a=int(input(\"enter the number:\"))\n",
    "x=int(\"%s\"%a)\n",
    "y=int(\"%s%s\"%(a,a))\n",
    "z=int(\"%s%s%s\"%(a,a,a))\n",
    "print(x+y+z)"
   ]
  },
  {
   "cell_type": "code",
   "execution_count": 35,
   "metadata": {},
   "outputs": [
    {
     "name": "stdout",
     "output_type": "stream",
     "text": [
      "Return the absolute value of the argument.\n",
      "Return the absolute value of the argument.\n"
     ]
    }
   ],
   "source": [
    "print(abs.__doc__)\n",
    "print(abs.__doc__)"
   ]
  },
  {
   "cell_type": "code",
   "execution_count": 36,
   "metadata": {},
   "outputs": [
    {
     "name": "stdout",
     "output_type": "stream",
     "text": [
      "                                  2018\n",
      "\n",
      "      January                   February                   March\n",
      "Mo Tu We Th Fr Sa Su      Mo Tu We Th Fr Sa Su      Mo Tu We Th Fr Sa Su\n",
      " 1  2  3  4  5  6  7                1  2  3  4                1  2  3  4\n",
      " 8  9 10 11 12 13 14       5  6  7  8  9 10 11       5  6  7  8  9 10 11\n",
      "15 16 17 18 19 20 21      12 13 14 15 16 17 18      12 13 14 15 16 17 18\n",
      "22 23 24 25 26 27 28      19 20 21 22 23 24 25      19 20 21 22 23 24 25\n",
      "29 30 31                  26 27 28                  26 27 28 29 30 31\n",
      "\n",
      "       April                      May                       June\n",
      "Mo Tu We Th Fr Sa Su      Mo Tu We Th Fr Sa Su      Mo Tu We Th Fr Sa Su\n",
      "                   1          1  2  3  4  5  6                   1  2  3\n",
      " 2  3  4  5  6  7  8       7  8  9 10 11 12 13       4  5  6  7  8  9 10\n",
      " 9 10 11 12 13 14 15      14 15 16 17 18 19 20      11 12 13 14 15 16 17\n",
      "16 17 18 19 20 21 22      21 22 23 24 25 26 27      18 19 20 21 22 23 24\n",
      "23 24 25 26 27 28 29      28 29 30 31               25 26 27 28 29 30\n",
      "30\n",
      "\n",
      "        July                     August                  September\n",
      "Mo Tu We Th Fr Sa Su      Mo Tu We Th Fr Sa Su      Mo Tu We Th Fr Sa Su\n",
      "                   1             1  2  3  4  5                      1  2\n",
      " 2  3  4  5  6  7  8       6  7  8  9 10 11 12       3  4  5  6  7  8  9\n",
      " 9 10 11 12 13 14 15      13 14 15 16 17 18 19      10 11 12 13 14 15 16\n",
      "16 17 18 19 20 21 22      20 21 22 23 24 25 26      17 18 19 20 21 22 23\n",
      "23 24 25 26 27 28 29      27 28 29 30 31            24 25 26 27 28 29 30\n",
      "30 31\n",
      "\n",
      "      October                   November                  December\n",
      "Mo Tu We Th Fr Sa Su      Mo Tu We Th Fr Sa Su      Mo Tu We Th Fr Sa Su\n",
      " 1  2  3  4  5  6  7                1  2  3  4                      1  2\n",
      " 8  9 10 11 12 13 14       5  6  7  8  9 10 11       3  4  5  6  7  8  9\n",
      "15 16 17 18 19 20 21      12 13 14 15 16 17 18      10 11 12 13 14 15 16\n",
      "22 23 24 25 26 27 28      19 20 21 22 23 24 25      17 18 19 20 21 22 23\n",
      "29 30 31                  26 27 28 29 30            24 25 26 27 28 29 30\n",
      "                                                    31\n",
      "\n"
     ]
    }
   ],
   "source": [
    "import calendar\n",
    "print(calendar.calendar(2018))"
   ]
  },
  {
   "cell_type": "code",
   "execution_count": 37,
   "metadata": {},
   "outputs": [
    {
     "name": "stdout",
     "output_type": "stream",
     "text": [
      "enter the year:2018\n",
      "enter the month:5\n",
      "      May 2018\n",
      "Mo Tu We Th Fr Sa Su\n",
      "    1  2  3  4  5  6\n",
      " 7  8  9 10 11 12 13\n",
      "14 15 16 17 18 19 20\n",
      "21 22 23 24 25 26 27\n",
      "28 29 30 31\n",
      "\n"
     ]
    }
   ],
   "source": [
    "import calendar\n",
    "x=int(input(\"enter the year:\"))\n",
    "y=int(input(\"enter the month:\"))\n",
    "z=calendar.month(x,y)\n",
    "print(z)"
   ]
  },
  {
   "cell_type": "code",
   "execution_count": 38,
   "metadata": {},
   "outputs": [
    {
     "name": "stdout",
     "output_type": "stream",
     "text": [
      "a string that you \"dont\" have to escape\n",
      "       this\n",
      "       is a ..multi-line\n",
      "       heredoc string ----------------> example\n",
      "       \n"
     ]
    }
   ],
   "source": [
    "print(\"\"\"a string that you \"dont\" have to escape\n",
    "       this\n",
    "       is a ..multi-line\n",
    "       heredoc string ----------------> example\n",
    "       \"\"\")"
   ]
  },
  {
   "cell_type": "code",
   "execution_count": 40,
   "metadata": {},
   "outputs": [
    {
     "name": "stdout",
     "output_type": "stream",
     "text": [
      "16\n"
     ]
    }
   ],
   "source": [
    "from datetime import date\n",
    "x=date(2019,7,2)\n",
    "y=date(2019,7,18)\n",
    "z=y-x\n",
    "print(z.days)"
   ]
  },
  {
   "cell_type": "code",
   "execution_count": 45,
   "metadata": {},
   "outputs": [
    {
     "name": "stdout",
     "output_type": "stream",
     "text": [
      "enter the number:3.14159265\n",
      "enter the number:6.0\n",
      "the volume is sphere: 904.7786831999999\n"
     ]
    }
   ],
   "source": [
    "pi=float(input(\"enter the number:\"))#volume of sphere 4/3*pi*r**3\n",
    "r=float(input(\"enter the number:\"))\n",
    "v=4.0/3.0*pi*r**3\n",
    "print(\"the volume is sphere:\",v)"
   ]
  },
  {
   "cell_type": "code",
   "execution_count": 47,
   "metadata": {},
   "outputs": [
    {
     "name": "stdout",
     "output_type": "stream",
     "text": [
      "555\n"
     ]
    }
   ],
   "source": [
    "print(\"%i%i%i\"%(5,5,5))"
   ]
  },
  {
   "cell_type": "code",
   "execution_count": 5,
   "metadata": {},
   "outputs": [
    {
     "name": "stdout",
     "output_type": "stream",
     "text": [
      "10\n",
      "5\n"
     ]
    }
   ],
   "source": [
    "def dif(n):\n",
    "    if n<=17:\n",
    "        return 17-n\n",
    "    else:\n",
    "        return(n-17)*2\n",
    "print(dif(22))\n",
    "print(dif(12))"
   ]
  },
  {
   "cell_type": "code",
   "execution_count": 10,
   "metadata": {},
   "outputs": [
    {
     "name": "stdout",
     "output_type": "stream",
     "text": [
      "True\n",
      "True\n",
      "False\n",
      "True\n"
     ]
    }
   ],
   "source": [
    "def raju(n):\n",
    "    return ((abs(1000-n)<=100)or(abs(2000-n)<=100))\n",
    "print(raju(1000))\n",
    "print(raju(900))\n",
    "print(raju(800))\n",
    "print(raju(2000))\n",
    "    "
   ]
  },
  {
   "cell_type": "code",
   "execution_count": 12,
   "metadata": {},
   "outputs": [
    {
     "name": "stdout",
     "output_type": "stream",
     "text": [
      "isarray\n",
      "israju\n"
     ]
    }
   ],
   "source": [
    "\n",
    "def raju(str):\n",
    "    if str[:2]==\"is\":\n",
    "        return str\n",
    "    return \"is\"+str\n",
    "print(raju(\"array\"))\n",
    "print(raju(\"israju\"))"
   ]
  },
  {
   "cell_type": "code",
   "execution_count": 14,
   "metadata": {},
   "outputs": [
    {
     "name": "stdout",
     "output_type": "stream",
     "text": [
      "6\n",
      "27\n"
     ]
    }
   ],
   "source": [
    "#Write a Python program to calculate the sum of three given numbers,\n",
    "# if the values are equal then return thrice of their sum.\n",
    "def sum(x,y,z):\n",
    "    if x==y==z:\n",
    "        return (x+y+z)*3\n",
    "    return x+y+z\n",
    "\n",
    "print(sum(1,2,3))  \n",
    "print(sum(3,3,3))\n",
    "    "
   ]
  },
  {
   "cell_type": "code",
   "execution_count": 23,
   "metadata": {},
   "outputs": [
    {
     "name": "stdout",
     "output_type": "stream",
     "text": [
      "abcabcabcabcabc\n",
      ".py.py.py.py.py\n"
     ]
    }
   ],
   "source": [
    "#Write a Python program to get a string which is n \n",
    "#(non-negative integer) copies of a given string.\n",
    "def raju(str,n):\n",
    "    x=\"\"\n",
    "    for i in range(n):\n",
    "        x=x+str\n",
    "    return x\n",
    "print(raju(\"abc\",5))\n",
    "print(raju(\".py\",5))"
   ]
  },
  {
   "cell_type": "code",
   "execution_count": null,
   "metadata": {},
   "outputs": [],
   "source": []
  },
  {
   "cell_type": "code",
   "execution_count": 2,
   "metadata": {},
   "outputs": [
    {
     "name": "stdout",
     "output_type": "stream",
     "text": [
      "enter the number:78\n",
      "this is even number\n"
     ]
    }
   ],
   "source": [
    "n=int(input(\"enter the number:\"))\n",
    "x=n%2\n",
    "if x>0:\n",
    "    print(\"this is odd number\")\n",
    "else:\n",
    "    print(\"this is even number\")\n",
    "    "
   ]
  },
  {
   "cell_type": "code",
   "execution_count": 5,
   "metadata": {},
   "outputs": [
    {
     "name": "stdout",
     "output_type": "stream",
     "text": [
      "1\n"
     ]
    }
   ],
   "source": [
    "def raju(list):\n",
    "    count=0\n",
    "    for i in list:\n",
    "        if i==5:\n",
    "            count=count+1\n",
    "    return count\n",
    "print(raju([4,5,4,7,4,9,7,4]))"
   ]
  },
  {
   "cell_type": "code",
   "execution_count": 8,
   "metadata": {},
   "outputs": [
    {
     "ename": "SyntaxError",
     "evalue": "can't assign to comparison (<ipython-input-8-64fb7119de7a>, line 2)",
     "output_type": "error",
     "traceback": [
      "\u001b[1;36m  File \u001b[1;32m\"<ipython-input-8-64fb7119de7a>\"\u001b[1;36m, line \u001b[1;32m2\u001b[0m\n\u001b[1;33m    (len(str)==2)=x\u001b[0m\n\u001b[1;37m    ^\u001b[0m\n\u001b[1;31mSyntaxError\u001b[0m\u001b[1;31m:\u001b[0m can't assign to comparison\n"
     ]
    }
   ],
   "source": [
    "def raju(str,n):\n",
    "    x=2\n",
    "    if x>len(str):\n",
    "        x=len(str)\n",
    "        y=str[:x]\n",
    "         result=\"\"\n",
    "            for i in range(n):\n",
    "                result=\n",
    "        \n",
    "        \n",
    "    "
   ]
  },
  {
   "cell_type": "code",
   "execution_count": 1,
   "metadata": {},
   "outputs": [
    {
     "name": "stdout",
     "output_type": "stream",
     "text": [
      "True\n"
     ]
    }
   ],
   "source": [
    "def raju(char):\n",
    "    x=\"aeiou\"\n",
    "    return char in x\n",
    "print(raju(\"a\"))\n",
    "#n=input(\"enter the number:\")\n",
    "#x=\"aeiou\"\n",
    "    #if n in x:\n",
    "      #  print(\"this is vowel\")\n",
    "    #else:\n",
    "       # print(\"this is consonent\")\n",
    "    "
   ]
  },
  {
   "cell_type": "code",
   "execution_count": 13,
   "metadata": {},
   "outputs": [
    {
     "name": "stdout",
     "output_type": "stream",
     "text": [
      "enter the char:u\n",
      "this is volwel\n"
     ]
    }
   ],
   "source": [
    "x=input(\"enter the char:\")\n",
    "y=\"aeiou\"\n",
    "if x in y:\n",
    "    print(\"this is volwel\")\n",
    "else:\n",
    "    print(\"this is consonent\")"
   ]
  },
  {
   "cell_type": "code",
   "execution_count": 17,
   "metadata": {},
   "outputs": [
    {
     "name": "stdout",
     "output_type": "stream",
     "text": [
      "False\n",
      "True\n"
     ]
    }
   ],
   "source": [
    "def raju(data,n):\n",
    "    for i in data:\n",
    "        if i==n:\n",
    "            return True\n",
    "    return False\n",
    "print(raju([1,2,3,4,5],6))\n",
    "print(raju([2,3,44,56,7],56))"
   ]
  },
  {
   "cell_type": "code",
   "execution_count": 10,
   "metadata": {},
   "outputs": [
    {
     "name": "stdout",
     "output_type": "stream",
     "text": [
      "enter the char:a\n",
      "this is vowel\n"
     ]
    }
   ],
   "source": [
    "char=input(\"enter the char:\")\n",
    "x=\"aeiou\"\n",
    "if char in x:\n",
    "        print(\"this is vowel\")\n",
    "else:\n",
    "        print(\"this is consonent\")"
   ]
  },
  {
   "cell_type": "code",
   "execution_count": 1,
   "metadata": {},
   "outputs": [
    {
     "name": "stdout",
     "output_type": "stream",
     "text": [
      "**\n",
      "****\n",
      "******\n",
      "********\n",
      "None\n"
     ]
    }
   ],
   "source": [
    "def raju(data):\n",
    "    for i in data:\n",
    "        print(\"*\"*i)\n",
    "print(raju([2,4,6,8]))\n",
    "        "
   ]
  },
  {
   "cell_type": "code",
   "execution_count": 2,
   "metadata": {},
   "outputs": [
    {
     "name": "stdout",
     "output_type": "stream",
     "text": [
      "123456\n"
     ]
    }
   ],
   "source": [
    "def raju(list):\n",
    "    x=\"\"\n",
    "    for i in list:\n",
    "        x=x+str(i)\n",
    "    return x\n",
    "print(raju([1,2,3,4,5,6]))\n",
    "    "
   ]
  },
  {
   "cell_type": "code",
   "execution_count": 4,
   "metadata": {},
   "outputs": [
    {
     "name": "stdout",
     "output_type": "stream",
     "text": [
      "386\n",
      "462\n",
      "418\n",
      "344\n",
      "236\n",
      "566\n",
      "978\n",
      "328\n",
      "162\n",
      "758\n",
      "918\n"
     ]
    }
   ],
   "source": [
    "n=[386, 462, 47, 418, 907, 344, 236, 375, 823, 566, 597, 978, 328, 615, 953, 345, \n",
    "    399, 162, 758, 219, 918, 237, 412, 566, 826, 248, 866, 950, 626, 949, 687, 217, \n",
    "    815, 67, 104, 58, 512, 24, 892, 894, 767, 553, 81, 379, 843, 831, 445, 742, 717, \n",
    "    958,743, 527]\n",
    "for i in n:\n",
    "    if i==237:\n",
    "        break;\n",
    "    elif i%2==0:\n",
    "        print(i)"
   ]
  },
  {
   "cell_type": "code",
   "execution_count": 6,
   "metadata": {},
   "outputs": [
    {
     "name": "stdout",
     "output_type": "stream",
     "text": [
      "{'black', 'white'}\n"
     ]
    }
   ],
   "source": [
    "x={'white','black','red'}\n",
    "y={'red','green'}\n",
    "print(x.difference(y))"
   ]
  },
  {
   "cell_type": "code",
   "execution_count": 7,
   "metadata": {},
   "outputs": [
    {
     "name": "stdout",
     "output_type": "stream",
     "text": [
      "enter the base:20\n",
      "enter the height:40\n",
      "area 400.0\n"
     ]
    }
   ],
   "source": [
    "b=int(input('enter the base:'))\n",
    "h=int(input('enter the height:'))\n",
    "area=b*h/2\n",
    "print(\"area\",area)"
   ]
  },
  {
   "cell_type": "code",
   "execution_count": 8,
   "metadata": {},
   "outputs": [
    {
     "name": "stdout",
     "output_type": "stream",
     "text": [
      "1\n"
     ]
    }
   ],
   "source": [
    "def raju(x,y):\n",
    "    gcd=1\n",
    "    if x%y==0:\n",
    "        return y\n",
    "    for i in range(int(y/2),0,-1):\n",
    "        if x%i==0 and y%i==0:\n",
    "            gcd=i\n",
    "            break\n",
    "    return gcd\n",
    "print(raju(12,17))"
   ]
  },
  {
   "cell_type": "code",
   "execution_count": 16,
   "metadata": {},
   "outputs": [
    {
     "name": "stdout",
     "output_type": "stream",
     "text": [
      "14\n"
     ]
    }
   ],
   "source": [
    "def sum(x,y,z):\n",
    "    if x==y and y==z and x==z:\n",
    "        sum=0\n",
    "    else:\n",
    "        sum=x+y+z\n",
    "    return sum\n",
    "print(sum(5,5,4))"
   ]
  },
  {
   "cell_type": "code",
   "execution_count": 19,
   "metadata": {},
   "outputs": [
    {
     "name": "stdout",
     "output_type": "stream",
     "text": [
      "20\n",
      "25\n"
     ]
    }
   ],
   "source": [
    "def raju(x,y):\n",
    "    sum=x+y\n",
    "    if sum>=15 and sum<=20:\n",
    "        return 20\n",
    "    return sum\n",
    "print(raju(10,6))\n",
    "print(raju(10,15))"
   ]
  },
  {
   "cell_type": "code",
   "execution_count": 25,
   "metadata": {},
   "outputs": [
    {
     "name": "stdout",
     "output_type": "stream",
     "text": [
      "True\n",
      "True\n",
      "False\n"
     ]
    }
   ],
   "source": [
    "def raju(x,y):\n",
    "    if x==y or abs(x-y)==5 or (x+y)==5:\n",
    "        return True\n",
    "    return False\n",
    "print(raju(2,2))\n",
    "print(raju(10,5))\n",
    "print(raju(5,6))"
   ]
  },
  {
   "cell_type": "code",
   "execution_count": 27,
   "metadata": {},
   "outputs": [
    {
     "name": "stdout",
     "output_type": "stream",
     "text": [
      "Name:raju\n",
      "Age:19\n",
      ",Address:banglore,karnataka,india\n"
     ]
    }
   ],
   "source": [
    "name,age=\"raju\",19\n",
    "address=\"banglore,karnataka,india\"\n",
    "print(\"Name:{}\\nAge:{}\\n,Address:{}\".format(name,age,address))"
   ]
  },
  {
   "cell_type": "code",
   "execution_count": 2,
   "metadata": {},
   "outputs": [
    {
     "name": "stdout",
     "output_type": "stream",
     "text": [
      "enter the number:4\n",
      "enter the number:3\n",
      "49\n"
     ]
    }
   ],
   "source": [
    "x=int(input(\"enter the number:\"))\n",
    "y=int(input(\"enter the number:\"))\n",
    "z=((x+y)*(x+y))\n",
    "print(z)"
   ]
  },
  {
   "cell_type": "code",
   "execution_count": 4,
   "metadata": {},
   "outputs": [
    {
     "name": "stdout",
     "output_type": "stream",
     "text": [
      "enter the amount:10000\n",
      "enter the intrest:3.5\n",
      "enter the years:7\n",
      "12722.792627665729\n"
     ]
    }
   ],
   "source": [
    "amt=int(input(\"enter the amount:\"))\n",
    "intrest=float(input(\"enter the intrest:\"))\n",
    "years=int(input(\"enter the years:\"))\n",
    "x=amt*((1+(0.01*intrest))**years)\n",
    "print(x)"
   ]
  },
  {
   "cell_type": "code",
   "execution_count": 6,
   "metadata": {},
   "outputs": [
    {
     "name": "stdout",
     "output_type": "stream",
     "text": [
      "6.324555320336759\n"
     ]
    }
   ],
   "source": [
    "import math\n",
    "x=[4,0]\n",
    "y=[6,6]\n",
    "z=math.sqrt(((x[0]-y[0])**2)+((x[1]-y[1])**2))\n",
    "print(z)"
   ]
  },
  {
   "cell_type": "code",
   "execution_count": 2,
   "metadata": {},
   "outputs": [
    {
     "name": "stdout",
     "output_type": "stream",
     "text": [
      "64\n"
     ]
    }
   ],
   "source": [
    "import struct\n",
    "print(struct.calcsize(\"P\")*8)"
   ]
  },
  {
   "cell_type": "code",
   "execution_count": 4,
   "metadata": {},
   "outputs": [
    {
     "name": "stdout",
     "output_type": "stream",
     "text": [
      "nt\n",
      "Windows\n",
      "10\n"
     ]
    }
   ],
   "source": [
    "import os\n",
    "import platform\n",
    "print(os.name)\n",
    "print(platform.system())\n",
    "print(platform.release())"
   ]
  },
  {
   "cell_type": "code",
   "execution_count": 5,
   "metadata": {},
   "outputs": [
    {
     "name": "stdout",
     "output_type": "stream",
     "text": [
      "['C:\\\\Users\\\\DELL\\\\Anaconda3\\\\raju', 'C:\\\\Users\\\\DELL\\\\Anaconda3\\\\raju\\\\lib\\\\site-packages']\n"
     ]
    }
   ],
   "source": [
    "import site\n",
    "print(site.getsitepackages())"
   ]
  },
  {
   "cell_type": "code",
   "execution_count": 9,
   "metadata": {},
   "outputs": [
    {
     "ename": "TypeError",
     "evalue": "abspath() missing 1 required positional argument: 'path'",
     "output_type": "error",
     "traceback": [
      "\u001b[1;31m---------------------------------------------------------------------------\u001b[0m",
      "\u001b[1;31mTypeError\u001b[0m                                 Traceback (most recent call last)",
      "\u001b[1;32m<ipython-input-9-5ace954fa449>\u001b[0m in \u001b[0;36m<module>\u001b[1;34m()\u001b[0m\n\u001b[0;32m      1\u001b[0m \u001b[1;32mimport\u001b[0m \u001b[0mos\u001b[0m\u001b[1;33m\u001b[0m\u001b[0m\n\u001b[1;32m----> 2\u001b[1;33m \u001b[0mprint\u001b[0m\u001b[1;33m(\u001b[0m\u001b[1;34m\"current file name:\"\u001b[0m\u001b[1;33m,\u001b[0m\u001b[0mos\u001b[0m\u001b[1;33m.\u001b[0m\u001b[0mpath\u001b[0m\u001b[1;33m.\u001b[0m\u001b[0mrealpath\u001b[0m\u001b[1;33m(\u001b[0m\u001b[1;33m)\u001b[0m\u001b[1;33m)\u001b[0m\u001b[1;33m\u001b[0m\u001b[0m\n\u001b[0m",
      "\u001b[1;31mTypeError\u001b[0m: abspath() missing 1 required positional argument: 'path'"
     ]
    }
   ],
   "source": [
    "import os\n",
    "print(\"current file name:\",os.path.realpath())"
   ]
  },
  {
   "cell_type": "code",
   "execution_count": 10,
   "metadata": {},
   "outputs": [
    {
     "data": {
      "text/plain": [
       "4"
      ]
     },
     "execution_count": 10,
     "metadata": {},
     "output_type": "execute_result"
    }
   ],
   "source": [
    "import multiprocessing\n",
    "multiprocessing.cpu_count()"
   ]
  },
  {
   "cell_type": "code",
   "execution_count": 11,
   "metadata": {},
   "outputs": [
    {
     "name": "stdout",
     "output_type": "stream",
     "text": [
      "enter the number:246.2458\n",
      "246.2458\n",
      "246\n"
     ]
    }
   ],
   "source": [
    "n=input(\"enter the number:\")\n",
    "print(float(n))\n",
    "print(int(float(n)))"
   ]
  },
  {
   "cell_type": "code",
   "execution_count": 16,
   "metadata": {},
   "outputs": [
    {
     "name": "stdout",
     "output_type": "stream",
     "text": [
      "**********\n",
      "\n"
     ]
    }
   ],
   "source": [
    "for i in range(1,11):\n",
    "    print(\"*\",end=\"\")\n",
    "print(\"\\n\")"
   ]
  },
  {
   "cell_type": "code",
   "execution_count": null,
   "metadata": {},
   "outputs": [],
   "source": []
  }
 ],
 "metadata": {
  "kernelspec": {
   "display_name": "Python 3",
   "language": "python",
   "name": "python3"
  },
  "language_info": {
   "codemirror_mode": {
    "name": "ipython",
    "version": 3
   },
   "file_extension": ".py",
   "mimetype": "text/x-python",
   "name": "python",
   "nbconvert_exporter": "python",
   "pygments_lexer": "ipython3",
   "version": "3.6.4"
  }
 },
 "nbformat": 4,
 "nbformat_minor": 2
}
