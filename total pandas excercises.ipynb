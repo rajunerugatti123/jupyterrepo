{
 "cells": [
  {
   "cell_type": "code",
   "execution_count": 2,
   "metadata": {},
   "outputs": [
    {
     "name": "stdout",
     "output_type": "stream",
     "text": [
      "Series([], dtype: float64)\n"
     ]
    }
   ],
   "source": [
    "import pandas as pd\n",
    "x=pd.Series()\n",
    "print(x)"
   ]
  },
  {
   "cell_type": "code",
   "execution_count": 3,
   "metadata": {},
   "outputs": [
    {
     "name": "stdout",
     "output_type": "stream",
     "text": [
      "0    a\n",
      "1    b\n",
      "2    c\n",
      "3    d\n",
      "dtype: object\n"
     ]
    }
   ],
   "source": [
    "import pandas as pd\n",
    "import numpy as np\n",
    "x=np.array(['a','b','c','d'])\n",
    "y=pd.Series(x)\n",
    "print(y)"
   ]
  },
  {
   "cell_type": "code",
   "execution_count": 5,
   "metadata": {},
   "outputs": [
    {
     "name": "stdout",
     "output_type": "stream",
     "text": [
      "1    a\n",
      "2    b\n",
      "3    c\n",
      "4    d\n",
      "5    e\n",
      "dtype: object\n"
     ]
    }
   ],
   "source": [
    "import pandas as pd\n",
    "import numpy as np\n",
    "x=np.array(['a','b','c','d','e'])\n",
    "y=pd.Series(x,index=[1,2,3,4,5])\n",
    "print(y)"
   ]
  },
  {
   "cell_type": "code",
   "execution_count": 1,
   "metadata": {},
   "outputs": [
    {
     "name": "stdout",
     "output_type": "stream",
     "text": [
      "a    1\n",
      "b    2\n",
      "c    5\n",
      "d    6\n",
      "dtype: int64\n"
     ]
    }
   ],
   "source": [
    "import pandas as pd\n",
    "data={'a':1,'b':2,'c':5,'d':6}\n",
    "x=pd.Series(data)\n",
    "print(x)"
   ]
  },
  {
   "cell_type": "code",
   "execution_count": 2,
   "metadata": {},
   "outputs": [
    {
     "name": "stdout",
     "output_type": "stream",
     "text": [
      "d    6\n",
      "c    5\n",
      "b    2\n",
      "a    1\n",
      "dtype: int64\n"
     ]
    }
   ],
   "source": [
    "import pandas as pd\n",
    "data={'a':1,'b':2,'c':5,'d':6}\n",
    "y=pd.Series(data,index=['d','c','b','a'])\n",
    "print(y)\n"
   ]
  },
  {
   "cell_type": "code",
   "execution_count": 23,
   "metadata": {},
   "outputs": [
    {
     "name": "stdout",
     "output_type": "stream",
     "text": [
      "a    1\n",
      "b    2\n",
      "c    5\n",
      "dtype: int64\n"
     ]
    }
   ],
   "source": [
    "import pandas as pd\n",
    "data={'a':1,'b':2,'c':5,'d':6}\n",
    "y=pd.Series(data,index=['d','c','b','a'])\n",
    "print(y[['a','b','c']])\n"
   ]
  },
  {
   "cell_type": "code",
   "execution_count": 19,
   "metadata": {},
   "outputs": [
    {
     "name": "stdout",
     "output_type": "stream",
     "text": [
      "a    1\n",
      "b    2\n",
      "c    5\n",
      "dtype: int64\n",
      "b    2\n",
      "c    5\n",
      "d    6\n",
      "dtype: int64\n"
     ]
    }
   ],
   "source": [
    "import pandas as pd\n",
    "data={'a':1,'b':2,'c':5,'d':6}\n",
    "y=pd.Series(data)\n",
    "print(y[:3])\n",
    "print(y[-3:])\n",
    "\n"
   ]
  },
  {
   "cell_type": "code",
   "execution_count": 24,
   "metadata": {},
   "outputs": [
    {
     "name": "stdout",
     "output_type": "stream",
     "text": [
      "Empty DataFrame\n",
      "Columns: []\n",
      "Index: []\n"
     ]
    }
   ],
   "source": [
    "import pandas as pd\n",
    "x=pd.DataFrame()\n",
    "print(x)"
   ]
  },
  {
   "cell_type": "code",
   "execution_count": 25,
   "metadata": {},
   "outputs": [
    {
     "name": "stdout",
     "output_type": "stream",
     "text": [
      "   0\n",
      "0  1\n",
      "1  2\n",
      "2  3\n",
      "3  4\n",
      "4  5\n",
      "5  6\n"
     ]
    }
   ],
   "source": [
    "import pandas as pd\n",
    "data=[1,2,3,4,5,6]\n",
    "x=pd.DataFrame(data)\n",
    "print(x)"
   ]
  },
  {
   "cell_type": "code",
   "execution_count": 34,
   "metadata": {},
   "outputs": [
    {
     "name": "stdout",
     "output_type": "stream",
     "text": [
      "   name age\n",
      "1  raju  10\n",
      "2  ramu  45\n",
      "3  ravi  90\n"
     ]
    }
   ],
   "source": [
    "import pandas as pd\n",
    "data=[['raju',10],['ramu',45],['ravi',90]]\n",
    "x=pd.DataFrame(data,index=[1,2,3],columns=['name','age'],dtype=str)\n",
    "print(x)"
   ]
  },
  {
   "cell_type": "code",
   "execution_count": 41,
   "metadata": {},
   "outputs": [
    {
     "name": "stdout",
     "output_type": "stream",
     "text": [
      "       Age   Name\n",
      "rank1   28    Tom\n",
      "rank2   34   Jack\n",
      "rank3   29  Steve\n",
      "rank4   42  Ricky\n"
     ]
    }
   ],
   "source": [
    "import pandas as pd\n",
    "data = {'Name':['Tom', 'Jack', 'Steve', 'Ricky'],'Age':[28,34,29,42]}\n",
    "x=pd.DataFrame(data,index=['rank1','rank2','rank3','rank4'])\n",
    "print(x)"
   ]
  },
  {
   "cell_type": "code",
   "execution_count": 11,
   "metadata": {},
   "outputs": [
    {
     "name": "stdout",
     "output_type": "stream",
     "text": [
      "       a  b    c\n",
      "rank   1  2  NaN\n",
      "rank3  3  4  5.0\n",
      "rank     1\n",
      "rank3    3\n",
      "Name: a, dtype: int64\n",
      "a    1.0\n",
      "b    2.0\n",
      "c    NaN\n",
      "Name: rank, dtype: float64\n",
      "a    1.0\n",
      "b    2.0\n",
      "c    NaN\n",
      "Name: rank, dtype: float64\n"
     ]
    }
   ],
   "source": [
    "import pandas as pd\n",
    "data=[{'a':1,'b':2},{'a':3,'b':4,'c':5}]\n",
    "x=pd.DataFrame(data,index=['rank','rank3'])\n",
    "print(x)\n",
    "print(x['a'])\n",
    "print(x.loc['rank'])\n",
    "print(x.iloc[0])"
   ]
  },
  {
   "cell_type": "code",
   "execution_count": 4,
   "metadata": {},
   "outputs": [
    {
     "name": "stdout",
     "output_type": "stream",
     "text": [
      "   age  name  adress  phno\n",
      "c   54   3.0       3   6.0\n",
      "d   65   4.0       4   8.0\n"
     ]
    }
   ],
   "source": [
    "import pandas as pd\n",
    "data={'name':pd.Series([1,2,3,4,5],index=['a','b','c','d','e']),'age':pd.Series([12,34,54,65,66,78],index=['a','b','c','d','e','f'])}\n",
    "x=pd.DataFrame(data)\n",
    "x['adress']=pd.Series([1,2,3,4,5,6],index=['a','b','c','d','e','f'])\n",
    "x['phno']=x['name']+x['adress']\n",
    "print(x[2:4])"
   ]
  },
  {
   "cell_type": "code",
   "execution_count": 6,
   "metadata": {},
   "outputs": [
    {
     "name": "stdout",
     "output_type": "stream",
     "text": [
      "   a  b\n",
      "0  1  2\n",
      "1  3  4\n",
      "0  5  6\n",
      "1  7  8\n"
     ]
    }
   ],
   "source": [
    "import pandas as pd\n",
    "\n",
    "df = pd.DataFrame([[1, 2], [3, 4]], columns = ['a','b'])\n",
    "df2 = pd.DataFrame([[5, 6], [7, 8]], columns = ['a','b'])\n",
    "x=df.append(df2)\n",
    "print(x)"
   ]
  },
  {
   "cell_type": "code",
   "execution_count": 111,
   "metadata": {},
   "outputs": [
    {
     "name": "stdout",
     "output_type": "stream",
     "text": [
      "       Age   Name\n",
      "rank1   28    Tom\n",
      "rank2   34   Jack\n",
      "rank3   29  Steve\n",
      "rank4   42  Ricky\n",
      "[Index(['rank1', 'rank2', 'rank3', 'rank4'], dtype='object'), Index(['Age', 'Name'], dtype='object')]\n",
      "False\n",
      "2\n",
      "8\n",
      "[[28 'Tom']\n",
      " [34 'Jack']\n",
      " [29 'Steve']\n",
      " [42 'Ricky']]\n",
      "       Age  Name\n",
      "rank1   28   Tom\n",
      "rank2   34  Jack\n",
      "       Age   Name\n",
      "rank3   29  Steve\n",
      "rank4   42  Ricky\n"
     ]
    }
   ],
   "source": [
    "import pandas as pd\n",
    "data = {'Name':['Tom', 'Jack', 'Steve', 'Ricky'],'Age':[28,34,29,42]}\n",
    "x=pd.DataFrame(data,index=['rank1','rank2','rank3','rank4'])\n",
    "print(x)\n",
    "print(x.axes)\n",
    "print(x.empty)\n",
    "print(x.ndim)\n",
    "print(x.size)\n",
    "print(x.values)\n",
    "print(x.head(2))\n",
    "print(x.tail(2))"
   ]
  },
  {
   "cell_type": "code",
   "execution_count": 3,
   "metadata": {},
   "outputs": [
    {
     "name": "stdout",
     "output_type": "stream",
     "text": [
      "[Index(['rank1', 'rank2', 'rank3', 'rank4'], dtype='object'), Index(['Age', 'Name'], dtype='object')]\n"
     ]
    }
   ],
   "source": [
    "import pandas as pd\n",
    "data = {'Name':['Tom', 'Jack', 'Steve', 'Ricky'],'Age':[28,34,29,42]}\n",
    "x=pd.DataFrame(data,index=['rank1','rank2','rank3','rank4'])\n",
    "print(x.T)\n",
    "print(x.axes)\n",
    "print(x.dtypes)\n",
    "print(x.shape)"
   ]
  },
  {
   "cell_type": "code",
   "execution_count": 29,
   "metadata": {},
   "outputs": [
    {
     "name": "stdout",
     "output_type": "stream",
     "text": [
      "    Age    Name  Rating\n",
      "11   46  Andres    3.65\n",
      "10   51  Betina    4.10\n",
      "9    30  Gasper    4.80\n",
      "8    40   David    2.98\n",
      "7    34     Lee    3.78\n",
      "6    23    Jack    3.80\n",
      "5    29   Smith    4.60\n",
      "4    30   Steve    3.20\n",
      "3    23     Vin    2.56\n",
      "2    25   Ricky    3.98\n",
      "1    26   James    3.24\n",
      "0    25     Tom    4.23\n"
     ]
    }
   ],
   "source": [
    "import pandas as pd\n",
    "import numpy as np\n",
    "#Create a Dictionary of series\n",
    "d = {'Name':pd.Series(['Tom','James','Ricky','Vin','Steve','Smith','Jack',\n",
    "   'Lee','David','Gasper','Betina','Andres']),\n",
    "   'Age':pd.Series([25,26,25,23,30,29,23,34,40,30,51,46]),\n",
    "   'Rating':pd.Series([4.23,3.24,3.98,2.56,3.20,4.6,3.8,3.78,2.98,4.80,4.10,3.65])}\n",
    "x=pd.DataFrame(d)\n",
    "#print(x)\n",
    "#print(x.sum())\n",
    "#print(x.sum(1))\n",
    "#print(x.mean())\n",
    "#print(x.std())\n",
    "#print(x.count())\n",
    "#print(x.median())\n",
    "#print(x.mode())\n",
    "#print(x.max())\n",
    "#print(x.prod())\n",
    "#print(x.cumsum())\n",
    "#print(x.describe(include=['object']))\n",
    "#print(x.describe(include='all'))\n",
    "#print(x.sort_index(ascending=False))\n",
    "#print(x.sort_index(axis=1))\n"
   ]
  },
  {
   "cell_type": "code",
   "execution_count": 27,
   "metadata": {},
   "outputs": [
    {
     "name": "stdout",
     "output_type": "stream",
     "text": [
      "    Age    Name  Rating\n",
      "3    23     Vin    2.56\n",
      "6    23    Jack    3.80\n",
      "0    25     Tom    4.23\n",
      "2    25   Ricky    3.98\n",
      "1    26   James    3.24\n",
      "5    29   Smith    4.60\n",
      "4    30   Steve    3.20\n",
      "9    30  Gasper    4.80\n",
      "7    34     Lee    3.78\n",
      "8    40   David    2.98\n",
      "11   46  Andres    3.65\n",
      "10   51  Betina    4.10\n"
     ]
    }
   ],
   "source": [
    "import pandas as pd\n",
    "import numpy as np\n",
    "#Create a Dictionary of series\n",
    "d = {'Name':pd.Series(['Tom','James','Ricky','Vin','Steve','Smith','Jack',\n",
    "   'Lee','David','Gasper','Betina','Andres']),\n",
    "   'Age':pd.Series([25,26,25,23,30,29,23,34,40,30,51,46]),\n",
    "   'Rating':pd.Series([4.23,3.24,3.98,2.56,3.20,4.6,3.8,3.78,2.98,4.80,4.10,3.65])}\n",
    "x=pd.DataFrame(d)\n",
    "print(x.sort_values(by='Age',kind='mergesort'))"
   ]
  },
  {
   "cell_type": "code",
   "execution_count": 165,
   "metadata": {},
   "outputs": [
    {
     "name": "stdout",
     "output_type": "stream",
     "text": [
      "   1234  Alber@t  John  SteveSmith  Tom  William Rick\n",
      "0     0        0     0           0    1             0\n",
      "1     0        0     0           0    0             1\n",
      "2     0        0     1           0    0             0\n",
      "3     0        1     0           0    0             0\n",
      "4     0        0     0           0    0             0\n",
      "5     1        0     0           0    0             0\n",
      "6     0        0     0           1    0             0\n"
     ]
    }
   ],
   "source": [
    "import pandas as pd\n",
    "import numpy as np\n",
    "\n",
    "s = pd.Series(['Tom', 'William Rick', 'John', 'Alber@t', np.nan, '1234','SteveSmith'])\n",
    "#print(s.str.lower())\n",
    "#print(s.str.upper())\n",
    "#print(s.str.len())\n",
    "#print(s.str.strip(','))\n",
    "#print(s.str.split(' '))\n",
    "#print(s.str.cat(sep='_'))\n",
    "#print(s.str.get_dummies())\n",
    "\n"
   ]
  },
  {
   "cell_type": "code",
   "execution_count": 12,
   "metadata": {},
   "outputs": [
    {
     "name": "stdout",
     "output_type": "stream",
     "text": [
      "a    1.788047\n",
      "b   -1.984793\n",
      "c    0.427916\n",
      "d   -0.524903\n",
      "e    1.189855\n",
      "dtype: float64\n",
      "a    5.0\n",
      "b    1.5\n",
      "c    3.0\n",
      "d    1.5\n",
      "e    4.0\n",
      "dtype: float64\n"
     ]
    }
   ],
   "source": [
    "import pandas as pd\n",
    "import numpy as np\n",
    "s = pd.Series(np.random.np.random.randn(5), index=list('abcde'))\n",
    "print(s)\n",
    "s['d'] = s['b'] # so there's a tie\n",
    "print(s.rank())\n"
   ]
  },
  {
   "cell_type": "code",
   "execution_count": 21,
   "metadata": {},
   "outputs": [
    {
     "name": "stdout",
     "output_type": "stream",
     "text": [
      "    Points  Rank    Team  Year\n",
      "0      876     1  Riders  2014\n",
      "6      756     1   Kings  2016\n",
      "7      788     1   Kings  2017\n",
      "10     804     1  Royals  2015\n"
     ]
    }
   ],
   "source": [
    "import pandas as pd\n",
    "data = {'Team': ['Riders', 'Riders', 'Devils', 'Devils', 'Kings',\n",
    "         'kings', 'Kings', 'Kings', 'Riders', 'Royals', 'Royals', 'Riders'],\n",
    "         'Rank': [1, 2, 2, 3, 3,4 ,1 ,1,2 , 4,1,2],\n",
    "         'Year': [2014,2015,2014,2015,2014,2015,2016,2017,2016,2014,2015,2017],\n",
    "         'Points':[876,789,863,673,741,812,756,788,694,701,804,690]}\n",
    "#x= pd.DataFrame(data)\n",
    "#print(x)\n",
    "#print(x.groupby('Rank').groups)\n",
    "#print(x.groupby(['Rank','Year']).groups)\n",
    "#y=x.groupby('Rank')\n",
    "#print(y.get_group(2014))\n",
    "df = pd.DataFrame(data)\n",
    "\n",
    "grouped = df.groupby('Rank')\n",
    "print(grouped.get_group(1))\n"
   ]
  },
  {
   "cell_type": "code",
   "execution_count": 16,
   "metadata": {},
   "outputs": [
    {
     "name": "stdout",
     "output_type": "stream",
     "text": [
      "    Points  Rank    Team  Year\n",
      "0      876     1  Riders  2014\n",
      "1      789     2  Riders  2015\n",
      "4      741     3   Kings  2014\n",
      "6      756     1   Kings  2016\n",
      "7      788     1   Kings  2017\n",
      "8      694     2  Riders  2016\n",
      "11     690     2  Riders  2017\n"
     ]
    }
   ],
   "source": [
    "import pandas as pd\n",
    "data = {'Team': ['Riders', 'Riders', 'Devils', 'Devils', 'Kings',\n",
    "         'kings', 'Kings', 'Kings', 'Riders', 'Royals', 'Royals', 'Riders'],\n",
    "         'Rank': [1, 2, 2, 3, 3,4 ,1 ,1,2 , 4,1,2],\n",
    "         'Year': [2014,2015,2014,2015,2014,2015,2016,2017,2016,2014,2015,2017],\n",
    "         'Points':[876,789,863,673,741,812,756,788,694,701,804,690]}\n",
    "df=pd.DataFrame(data)\n",
    "print(df.groupby('Team').filter(lambda x: len(x)>=3))\n",
    "#print(grouped.agg(np.size))\n",
    "#print(grouped['Points'].agg([np.sum,np.mean,np.std]))\n",
    "#filter(lambda x:len(x)>=3))"
   ]
  },
  {
   "cell_type": "code",
   "execution_count": 26,
   "metadata": {},
   "outputs": [
    {
     "name": "stdout",
     "output_type": "stream",
     "text": [
      "    Name  id_x subject_id_x  id_y subject_id_y\n",
      "0   Alex   1.0         sub1     3         sub3\n",
      "1  Billy   NaN          NaN     1         sub2\n",
      "2  Brian   NaN          NaN     2         sub4\n",
      "3  Bryce   NaN          NaN     4         sub6\n",
      "4  Betty   NaN          NaN     5         sub5\n"
     ]
    }
   ],
   "source": [
    "import pandas as pd\n",
    "x = pd.DataFrame({'id':[1,2,3,4,5],'Name': ['Alex', 'Amy', 'Allen', 'Alice', 'Ayoung'],'subject_id':['sub1','sub2','sub4','sub6','sub5']})\n",
    "y = pd.DataFrame( {'id':[1,2,3,4,5],'Name': ['Billy', 'Brian', 'Alex', 'Bryce', 'Betty'],'subject_id':['sub2','sub4','sub3','sub6','sub5']})\n",
    "#print(x)\n",
    "#print(pd.merge(x,y,on=['id','subject_id']))\n",
    "#print(pd.merge(x,y,on='subject_id',how='left'))\n",
    "#print(pd.merge(x,y,on='Name',how='right'))\n",
    "#print(pd.merge(x,y,on='subject_id',how='outer'))\n",
    "#print(pd.merge(x,y,on='subject_id',how='inner'))\n",
    "#print(pd.concat([x,y]))\n"
   ]
  },
  {
   "cell_type": "code",
   "execution_count": null,
   "metadata": {},
   "outputs": [],
   "source": []
  },
  {
   "cell_type": "code",
   "execution_count": null,
   "metadata": {},
   "outputs": [],
   "source": []
  }
 ],
 "metadata": {
  "kernelspec": {
   "display_name": "Python 3",
   "language": "python",
   "name": "python3"
  },
  "language_info": {
   "codemirror_mode": {
    "name": "ipython",
    "version": 3
   },
   "file_extension": ".py",
   "mimetype": "text/x-python",
   "name": "python",
   "nbconvert_exporter": "python",
   "pygments_lexer": "ipython3",
   "version": "3.6.4"
  }
 },
 "nbformat": 4,
 "nbformat_minor": 2
}
