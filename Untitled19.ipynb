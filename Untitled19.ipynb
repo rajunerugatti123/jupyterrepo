{
 "cells": [
  {
   "cell_type": "code",
   "execution_count": 13,
   "metadata": {},
   "outputs": [
    {
     "name": "stdout",
     "output_type": "stream",
     "text": [
      "this is pickle module in dump\n",
      "1 \t raju \t ramasamudram\n"
     ]
    }
   ],
   "source": [
    "import pickle\n",
    "class A:\n",
    "        def __init__(self,eno,ename,eadd):\n",
    "            self.eno=eno\n",
    "            self.ename=ename\n",
    "            self.eadd=eadd\n",
    "        def display(self):\n",
    "             print(self.eno,\"\\t\",self.ename,\"\\t\",self.eadd)\n",
    "with open(\"data.txt\",\"wb\") as f:\n",
    "    e=A(1,\"raju\",\"ramasamudram\")\n",
    "    pickle.dump(e,f)\n",
    "    print(\"this is pickle module in dump\")\n",
    "with open(\"data.txt\",\"rb\") as f:\n",
    "    obj=pickle.load(f)\n",
    "    obj.display()"
   ]
  },
  {
   "cell_type": "code",
   "execution_count": 14,
   "metadata": {},
   "outputs": [
    {
     "ename": "FileExistsError",
     "evalue": "[Errno 17] File exists: 'emp.txt'",
     "output_type": "error",
     "traceback": [
      "\u001b[1;31m---------------------------------------------------------------------------\u001b[0m",
      "\u001b[1;31mFileExistsError\u001b[0m                           Traceback (most recent call last)",
      "\u001b[1;32m<ipython-input-14-d48539798ff2>\u001b[0m in \u001b[0;36m<module>\u001b[1;34m()\u001b[0m\n\u001b[0;32m      7\u001b[0m     \u001b[1;32mdef\u001b[0m \u001b[0mdisplay\u001b[0m\u001b[1;33m(\u001b[0m\u001b[0mself\u001b[0m\u001b[1;33m)\u001b[0m\u001b[1;33m:\u001b[0m\u001b[1;33m\u001b[0m\u001b[0m\n\u001b[0;32m      8\u001b[0m         \u001b[0mprint\u001b[0m\u001b[1;33m(\u001b[0m\u001b[0mself\u001b[0m\u001b[1;33m.\u001b[0m\u001b[0meno\u001b[0m\u001b[1;33m,\u001b[0m\u001b[1;34m'\\t'\u001b[0m\u001b[1;33m,\u001b[0m\u001b[0mself\u001b[0m\u001b[1;33m.\u001b[0m\u001b[0mename\u001b[0m\u001b[1;33m,\u001b[0m\u001b[1;34m'\\t'\u001b[0m\u001b[1;33m,\u001b[0m\u001b[0mself\u001b[0m\u001b[1;33m.\u001b[0m\u001b[0meaddr\u001b[0m\u001b[1;33m)\u001b[0m\u001b[1;33m\u001b[0m\u001b[0m\n\u001b[1;32m----> 9\u001b[1;33m \u001b[1;32mwith\u001b[0m \u001b[0mopen\u001b[0m\u001b[1;33m(\u001b[0m\u001b[1;34m'emp.txt'\u001b[0m\u001b[1;33m,\u001b[0m\u001b[1;34m'xb'\u001b[0m\u001b[1;33m)\u001b[0m \u001b[1;32mas\u001b[0m \u001b[0mf\u001b[0m\u001b[1;33m:\u001b[0m\u001b[1;33m\u001b[0m\u001b[0m\n\u001b[0m\u001b[0;32m     10\u001b[0m     \u001b[0me\u001b[0m\u001b[1;33m=\u001b[0m\u001b[0mA\u001b[0m\u001b[1;33m(\u001b[0m\u001b[1;36m100\u001b[0m\u001b[1;33m,\u001b[0m\u001b[1;34m'raju'\u001b[0m\u001b[1;33m,\u001b[0m\u001b[1;34m'hyd'\u001b[0m\u001b[1;33m)\u001b[0m\u001b[1;33m\u001b[0m\u001b[0m\n\u001b[0;32m     11\u001b[0m     \u001b[0mpickle\u001b[0m\u001b[1;33m.\u001b[0m\u001b[0mdump\u001b[0m\u001b[1;33m(\u001b[0m\u001b[0me\u001b[0m\u001b[1;33m,\u001b[0m\u001b[0mf\u001b[0m\u001b[1;33m)\u001b[0m\u001b[1;33m\u001b[0m\u001b[0m\n",
      "\u001b[1;31mFileExistsError\u001b[0m: [Errno 17] File exists: 'emp.txt'"
     ]
    }
   ],
   "source": [
    "#same operator behavies differently with different ways\n",
    "class Book:\n",
    "    def __init__(self,pages):\n",
    "        self.pages=pages\n",
    "    def __add__(self,other):\n",
    "        return self.pages+other.pages\n",
    "x=Book(100)\n",
    "y=Book(200)\n",
    "print(x+y)\n"
   ]
  },
  {
   "cell_type": "code",
   "execution_count": 6,
   "metadata": {},
   "outputs": [
    {
     "name": "stdout",
     "output_type": "stream",
     "text": [
      "the total no of books:200\n"
     ]
    }
   ],
   "source": [
    "class Book:\n",
    "    def __init__(self,pages):\n",
    "        self.pages=pages\n",
    "    def __str__(self):\n",
    "        return \"the total no of books:\"+str(self.pages)\n",
    "x=Book(200)\n",
    "print(x)"
   ]
  },
  {
   "cell_type": "code",
   "execution_count": 17,
   "metadata": {},
   "outputs": [
    {
     "name": "stdout",
     "output_type": "stream",
     "text": [
      "1\n"
     ]
    }
   ],
   "source": [
    "class A:\n",
    "    def name(self,a=None,b=None,c=None):\n",
    "        s=0\n",
    "        if a!=None and b!=None and c!=None:\n",
    "            s=a+b+c\n",
    "        elif a!=None and b!=None:\n",
    "            s=a+b\n",
    "        else:\n",
    "            s=a\n",
    "        return int(s)\n",
    "x=A()\n",
    "print(x.name(1))"
   ]
  },
  {
   "cell_type": "code",
   "execution_count": 30,
   "metadata": {},
   "outputs": [
    {
     "name": "stdout",
     "output_type": "stream",
     "text": [
      "software developer\n",
      "accountent\n"
     ]
    }
   ],
   "source": [
    "class A:\n",
    "    def name(self):\n",
    "        print(\"this is raju\")\n",
    "    def position(self):\n",
    "        print(\"software developer\")\n",
    "class B(A):\n",
    "    def position(self):\n",
    "        super().position()\n",
    "        print(\"accountent\")\n",
    "x=B()\n",
    "x.position()"
   ]
  },
  {
   "cell_type": "code",
   "execution_count": 41,
   "metadata": {},
   "outputs": [
    {
     "name": "stdout",
     "output_type": "stream",
     "text": [
      "2.0\n",
      "2.0\n"
     ]
    }
   ],
   "source": [
    "def div(a,b):\n",
    "    print(a/b)\n",
    "def outer(func):\n",
    "    def inner(a,b):\n",
    "        if a<b:\n",
    "            a,b=b,a\n",
    "        return func(a,b)\n",
    "    return inner\n",
    "x=outer(div)\n",
    "x(2,4)\n",
    "x(4,2)"
   ]
  },
  {
   "cell_type": "code",
   "execution_count": 36,
   "metadata": {},
   "outputs": [
    {
     "name": "stdout",
     "output_type": "stream",
     "text": [
      "Enter the number:50\n",
      "the binary number of given number is: 0b110010\n"
     ]
    }
   ],
   "source": [
    "n=int(input(\"Enter the number:\"))\n",
    "x=bin(n)\n",
    "print(\"the binary number of given number is:\",x)"
   ]
  },
  {
   "cell_type": "code",
   "execution_count": 16,
   "metadata": {},
   "outputs": [
    {
     "name": "stdout",
     "output_type": "stream",
     "text": [
      "23\n",
      "10\n"
     ]
    }
   ],
   "source": [
    "a=10\n",
    "b=23\n",
    "print(a if a>b else b)\n",
    "print(a) if a<b else print(b)"
   ]
  },
  {
   "cell_type": "code",
   "execution_count": 20,
   "metadata": {},
   "outputs": [
    {
     "name": "stdout",
     "output_type": "stream",
     "text": [
      "    August 2019\n",
      "Su Mo Tu We Th Fr Sa\n",
      "             1  2  3\n",
      " 4  5  6  7  8  9 10\n",
      "11 12 13 14 15 16 17\n",
      "18 19 20 21 22 23 24\n",
      "25 26 27 28 29 30 31\n",
      "\n"
     ]
    }
   ],
   "source": [
    "import calendar\n",
    "x=calendar.TextCalendar(calendar.SUNDAY)\n",
    "y=x.formatmonth(2019,8)\n",
    "print(y)"
   ]
  },
  {
   "cell_type": "code",
   "execution_count": 21,
   "metadata": {},
   "outputs": [
    {
     "name": "stdout",
     "output_type": "stream",
     "text": [
      "                                  2019\n",
      "\n",
      "      January                   February                   March\n",
      "Mo Tu We Th Fr Sa Su      Mo Tu We Th Fr Sa Su      Mo Tu We Th Fr Sa Su\n",
      "    1  2  3  4  5  6                   1  2  3                   1  2  3\n",
      " 7  8  9 10 11 12 13       4  5  6  7  8  9 10       4  5  6  7  8  9 10\n",
      "14 15 16 17 18 19 20      11 12 13 14 15 16 17      11 12 13 14 15 16 17\n",
      "21 22 23 24 25 26 27      18 19 20 21 22 23 24      18 19 20 21 22 23 24\n",
      "28 29 30 31               25 26 27 28               25 26 27 28 29 30 31\n",
      "\n",
      "       April                      May                       June\n",
      "Mo Tu We Th Fr Sa Su      Mo Tu We Th Fr Sa Su      Mo Tu We Th Fr Sa Su\n",
      " 1  2  3  4  5  6  7             1  2  3  4  5                      1  2\n",
      " 8  9 10 11 12 13 14       6  7  8  9 10 11 12       3  4  5  6  7  8  9\n",
      "15 16 17 18 19 20 21      13 14 15 16 17 18 19      10 11 12 13 14 15 16\n",
      "22 23 24 25 26 27 28      20 21 22 23 24 25 26      17 18 19 20 21 22 23\n",
      "29 30                     27 28 29 30 31            24 25 26 27 28 29 30\n",
      "\n",
      "        July                     August                  September\n",
      "Mo Tu We Th Fr Sa Su      Mo Tu We Th Fr Sa Su      Mo Tu We Th Fr Sa Su\n",
      " 1  2  3  4  5  6  7                1  2  3  4                         1\n",
      " 8  9 10 11 12 13 14       5  6  7  8  9 10 11       2  3  4  5  6  7  8\n",
      "15 16 17 18 19 20 21      12 13 14 15 16 17 18       9 10 11 12 13 14 15\n",
      "22 23 24 25 26 27 28      19 20 21 22 23 24 25      16 17 18 19 20 21 22\n",
      "29 30 31                  26 27 28 29 30 31         23 24 25 26 27 28 29\n",
      "                                                    30\n",
      "\n",
      "      October                   November                  December\n",
      "Mo Tu We Th Fr Sa Su      Mo Tu We Th Fr Sa Su      Mo Tu We Th Fr Sa Su\n",
      "    1  2  3  4  5  6                   1  2  3                         1\n",
      " 7  8  9 10 11 12 13       4  5  6  7  8  9 10       2  3  4  5  6  7  8\n",
      "14 15 16 17 18 19 20      11 12 13 14 15 16 17       9 10 11 12 13 14 15\n",
      "21 22 23 24 25 26 27      18 19 20 21 22 23 24      16 17 18 19 20 21 22\n",
      "28 29 30 31               25 26 27 28 29 30         23 24 25 26 27 28 29\n",
      "                                                    30 31\n",
      "\n"
     ]
    }
   ],
   "source": [
    "import calendar\n",
    "x=calendar.calendar(2019)\n",
    "print(x)"
   ]
  },
  {
   "cell_type": "code",
   "execution_count": 22,
   "metadata": {},
   "outputs": [
    {
     "name": "stdout",
     "output_type": "stream",
     "text": [
      "\n",
      "January\n",
      "February\n",
      "March\n",
      "April\n",
      "May\n",
      "June\n",
      "July\n",
      "August\n",
      "September\n",
      "October\n",
      "November\n",
      "December\n"
     ]
    }
   ],
   "source": [
    "import calendar\n",
    "for i in calendar.month_name:\n",
    "    print(i)"
   ]
  },
  {
   "cell_type": "code",
   "execution_count": 23,
   "metadata": {},
   "outputs": [
    {
     "name": "stdout",
     "output_type": "stream",
     "text": [
      "Monday\n",
      "Tuesday\n",
      "Wednesday\n",
      "Thursday\n",
      "Friday\n",
      "Saturday\n",
      "Sunday\n"
     ]
    }
   ],
   "source": [
    "import calendar\n",
    "for j in calendar.day_name:\n",
    "    print(j)"
   ]
  },
  {
   "cell_type": "code",
   "execution_count": 1,
   "metadata": {},
   "outputs": [
    {
     "name": "stdout",
     "output_type": "stream",
     "text": [
      "enter the number:5\n",
      "\n",
      "the total is : 120\n"
     ]
    }
   ],
   "source": [
    "n=int(input(\"enter the number:\"))\n",
    "if n<0:\n",
    "    print(\"this is not negative numbers;\")\n",
    "elif n==0:\n",
    "    print(\"the factoira numbre id 1\")\n",
    "else:\n",
    "    total=1\n",
    "    for i in range(1,n+1):\n",
    "        total=total*i\n",
    "    print()\n",
    "print(\"the total is :\",total)"
   ]
  },
  {
   "cell_type": "code",
   "execution_count": 4,
   "metadata": {},
   "outputs": [
    {
     "name": "stdout",
     "output_type": "stream",
     "text": [
      "Enter the number:100000\n",
      "5000050000\n"
     ]
    }
   ],
   "source": [
    "n=int(input(\"Enter the number:\"))\n",
    "x=0\n",
    "for i in range(1,n+1):\n",
    "    x=x+i\n",
    "print(x)\n",
    "    "
   ]
  },
  {
   "cell_type": "code",
   "execution_count": 6,
   "metadata": {},
   "outputs": [
    {
     "name": "stdout",
     "output_type": "stream",
     "text": [
      "enter the number:35\n",
      "1\n",
      "5\n",
      "7\n",
      "35\n"
     ]
    }
   ],
   "source": [
    "n=int(input(\"enter the number:\"))\n",
    "for i in range(1,n+1):\n",
    "    if n%i==0:\n",
    "        print(i)\n",
    "        "
   ]
  },
  {
   "cell_type": "code",
   "execution_count": 24,
   "metadata": {},
   "outputs": [
    {
     "name": "stdout",
     "output_type": "stream",
     "text": [
      "Enter the year1996\n",
      "this is a leap year\n"
     ]
    }
   ],
   "source": [
    "year=int(input(\"Enter the year\"))\n",
    "if year%4==0:\n",
    "    if year%100==0:\n",
    "        if year%400==0:\n",
    "            print(\"this is leap year\")\n",
    "        else:\n",
    "            print(\"this not a leap year\")\n",
    "    else:\n",
    "        print(\"this is a leap year\")\n",
    "else:\n",
    "    print(\"this is not a leap year\")"
   ]
  },
  {
   "cell_type": "code",
   "execution_count": 24,
   "metadata": {},
   "outputs": [
    {
     "name": "stdout",
     "output_type": "stream",
     "text": [
      "enter the number:676\n",
      "19\n"
     ]
    }
   ],
   "source": [
    "string=int(input(\"enter the number:\"))\n",
    "x=str(string)\n",
    "y=x[::-1]\n",
    "if x==y:\n",
    "    total=0\n",
    "    for i in x:\n",
    "        total=total+int(i)\n",
    "    print(total)\n",
    "elif x!=y:\n",
    "    print(\"this not palindrome\")\n",
    "else:\n",
    "    print(\"good bye\")\n",
    "        "
   ]
  },
  {
   "cell_type": "code",
   "execution_count": 34,
   "metadata": {},
   "outputs": [
    {
     "name": "stdout",
     "output_type": "stream",
     "text": [
      "emordnilap aton si gnirts\n",
      "emordnilap aton si gnirts\n",
      "string is nota palindrome\n",
      "string is nota palindrome\n",
      "string is nota palindrome\n",
      "string is nota palindrome\n",
      "['', 'tring i', ' nota palindrome']\n",
      "strzng zs nota palzndrome\n",
      "s*t*r*i*n*g* *i*s* *n*o*t*a* *p*a*l*i*n*d*r*o*m*e\n",
      "e m o r d n i l a p   a t o n   s i   g n i r t s\n",
      "emordnilap aton si gnirts\n"
     ]
    }
   ],
   "source": [
    "x=\"string is nota palindrome\"\n",
    "print(\"\".join(reversed(x)))\n",
    "print(x[::-1])\n",
    "print(x[::])\n",
    "print(x.lstrip())\n",
    "print(x.rstrip())\n",
    "print(x.strip())\n",
    "print(x.split(\"s\"))\n",
    "print(x.replace(\"i\",\"z\"))\n",
    "x.capitalize()\n",
    "x.title()\n",
    "print(\"*\".join(x))\n",
    "print(\" \".join(reversed(x)))\n",
    "print(x[::-1])\n"
   ]
  },
  {
   "cell_type": "code",
   "execution_count": 93,
   "metadata": {},
   "outputs": [
    {
     "data": {
      "text/plain": [
       "{1, 2, 3, 4, 5, 6, 7, 10, 56}"
      ]
     },
     "execution_count": 93,
     "metadata": {},
     "output_type": "execute_result"
    }
   ],
   "source": [
    "x={1,2,3,4,5,6,7,8,9}\n",
    "y={8,9,10,56}\n",
    "x.symmetric_difference(y)"
   ]
  },
  {
   "cell_type": "code",
   "execution_count": 20,
   "metadata": {},
   "outputs": [
    {
     "name": "stdout",
     "output_type": "stream",
     "text": [
      "1\n",
      "2\n",
      "3\n",
      "4\n",
      "5\n",
      "6\n",
      "7\n",
      "8\n",
      "9\n",
      "10\n"
     ]
    }
   ],
   "source": [
    "from threading import *\n",
    "class A(Thread):\n",
    "    def run(self):\n",
    "        for i in range(1,11):\n",
    "            if i%2!=0:\n",
    "                print(i)\n",
    "                sleep(0.3)\n",
    "class B(Thread):\n",
    "    def run(self):\n",
    "        for j in range(1,11):\n",
    "            if j%2==0:\n",
    "                print(j)\n",
    "                sleep(0.3)\n"
   ]
  },
  {
   "cell_type": "code",
   "execution_count": null,
   "metadata": {},
   "outputs": [],
   "source": []
  }
 ],
 "metadata": {
  "kernelspec": {
   "display_name": "Python 3",
   "language": "python",
   "name": "python3"
  },
  "language_info": {
   "codemirror_mode": {
    "name": "ipython",
    "version": 3
   },
   "file_extension": ".py",
   "mimetype": "text/x-python",
   "name": "python",
   "nbconvert_exporter": "python",
   "pygments_lexer": "ipython3",
   "version": "3.6.4"
  }
 },
 "nbformat": 4,
 "nbformat_minor": 2
}
