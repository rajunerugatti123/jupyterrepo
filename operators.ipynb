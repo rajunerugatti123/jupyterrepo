{
 "cells": [
  {
   "cell_type": "code",
   "execution_count": 1,
   "metadata": {},
   "outputs": [
    {
     "name": "stdout",
     "output_type": "stream",
     "text": [
      "16\n",
      "addtion: 16\n",
      "substraction: 4\n",
      "multiplication: 60\n",
      "division: 1.6666666666666667\n",
      "module division: 4\n",
      "exponentional: 1000000\n",
      "floar division: 1\n"
     ]
    }
   ],
   "source": [
    "#Airthmetic operations\n",
    "a,b=10,6\n",
    "print(a+b)\n",
    "print(\"addtion:\",a+b)\n",
    "print(\"substraction:\",a-b)\n",
    "print(\"multiplication:\",a*b)\n",
    "print(\"division:\",a/b)\n",
    "print(\"module division:\",a%b)\n",
    "print(\"exponentional:\",a**b)\n",
    "print(\"floar division:\",a//b)"
   ]
  },
  {
   "cell_type": "code",
   "execution_count": 13,
   "metadata": {},
   "outputs": [
    {
     "name": "stdout",
     "output_type": "stream",
     "text": [
      "10 10 10\n",
      "15\n",
      "75\n",
      "15.0\n"
     ]
    }
   ],
   "source": [
    "#Assignment operators\n",
    "a=b=c=10             #     =\n",
    "print(a,b,c)         #    +=\n",
    "x,y=10,5             #    -=\n",
    "x+=y                 #    /=\n",
    "print(x)             #    *=\n",
    "x*=y                 #   **=\n",
    "print(x)             #   //=\n",
    "x/=y\n",
    "print(x)\n"
   ]
  },
  {
   "cell_type": "code",
   "execution_count": 19,
   "metadata": {},
   "outputs": [
    {
     "name": "stdout",
     "output_type": "stream",
     "text": [
      "False\n",
      "True\n",
      "False\n",
      "True\n",
      "True\n",
      "False\n"
     ]
    }
   ],
   "source": [
    "#Comparision operators\n",
    "x,y=77,8\n",
    "print(x==y)\n",
    "print(x!=y)\n",
    "print(x<y)\n",
    "print(x>y)\n",
    "print(x>=y)\n",
    "print(x<=y)"
   ]
  },
  {
   "cell_type": "code",
   "execution_count": 1,
   "metadata": {},
   "outputs": [
    {
     "name": "stdout",
     "output_type": "stream",
     "text": [
      "True\n",
      "True\n",
      "False\n"
     ]
    }
   ],
   "source": [
    "#Logical operators\n",
    "x=20\n",
    "y=30\n",
    "print(x==20 and y==30)\n",
    "print(x==25 or y==30)\n",
    "print(not(x==20 or y==45))\n"
   ]
  },
  {
   "cell_type": "code",
   "execution_count": null,
   "metadata": {},
   "outputs": [],
   "source": []
  }
 ],
 "metadata": {
  "kernelspec": {
   "display_name": "Python 3",
   "language": "python",
   "name": "python3"
  },
  "language_info": {
   "codemirror_mode": {
    "name": "ipython",
    "version": 3
   },
   "file_extension": ".py",
   "mimetype": "text/x-python",
   "name": "python",
   "nbconvert_exporter": "python",
   "pygments_lexer": "ipython3",
   "version": "3.6.4"
  }
 },
 "nbformat": 4,
 "nbformat_minor": 2
}
