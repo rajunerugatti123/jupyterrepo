{
 "cells": [
  {
   "cell_type": "code",
   "execution_count": 1,
   "metadata": {},
   "outputs": [
    {
     "name": "stdout",
     "output_type": "stream",
     "text": [
      "6\n",
      "      * \n",
      "     * * \n",
      "    * * * \n",
      "   * * * * \n",
      "  * * * * * \n",
      " * * * * * * \n"
     ]
    }
   ],
   "source": [
    "n=int(input())\n",
    "for i in range(n):\n",
    "    print(\" \"*(n-i)+\"* \"*(i+1))"
   ]
  },
  {
   "cell_type": "code",
   "execution_count": 2,
   "metadata": {},
   "outputs": [
    {
     "name": "stdout",
     "output_type": "stream",
     "text": [
      "6\n",
      "* * * * * * \n",
      " * * * * * \n",
      "  * * * * \n",
      "   * * * \n",
      "    * * \n",
      "     * \n"
     ]
    }
   ],
   "source": [
    "n=int(input())\n",
    "for i in range(n,0,-1):\n",
    "    print(\" \"*(n-i)+\"* \"*i)"
   ]
  },
  {
   "cell_type": "code",
   "execution_count": 2,
   "metadata": {},
   "outputs": [
    {
     "name": "stdout",
     "output_type": "stream",
     "text": [
      "6\n",
      "\n",
      "2 \n",
      "3 4 \n",
      "5 6 7 \n",
      "8 9 10 11 \n",
      "12 13 14 15 16 \n"
     ]
    }
   ],
   "source": [
    "n=int(input())\n",
    "x=1\n",
    "for i in range(n):\n",
    "    for j in range(i):\n",
    "        x=x+1\n",
    "        print(x,end=\" \")\n",
    "    print()"
   ]
  },
  {
   "cell_type": "code",
   "execution_count": 9,
   "metadata": {},
   "outputs": [
    {
     "name": "stdout",
     "output_type": "stream",
     "text": [
      "Enter the number:5\n",
      "*  \n",
      "* *  \n",
      "* * *  \n",
      "* * * *  \n",
      "* * * * *  \n"
     ]
    }
   ],
   "source": [
    "n=int(input(\"Enter the number:\"))\n",
    "for i in range(n):\n",
    "    print(\"* \"*(i+1),end=\" \")\n",
    "    print()"
   ]
  },
  {
   "cell_type": "code",
   "execution_count": 6,
   "metadata": {},
   "outputs": [
    {
     "name": "stdout",
     "output_type": "stream",
     "text": [
      "enter the number:50\n",
      "Enter the number:60\n",
      "53\n",
      "59\n"
     ]
    }
   ],
   "source": [
    "lower=int(input(\"enter the number:\"))\n",
    "upper=int(input(\"Enter the number:\"))\n",
    "for i in range(lower,upper+1):\n",
    "    if i>0:\n",
    "        for j in range(2,i):\n",
    "            if i%j==0:\n",
    "                break\n",
    "        else:\n",
    "            print(i)"
   ]
  },
  {
   "cell_type": "code",
   "execution_count": 9,
   "metadata": {},
   "outputs": [
    {
     "name": "stdout",
     "output_type": "stream",
     "text": [
      "Enter the input:5\n",
      "0\n",
      "1\n",
      "1\n",
      "2\n",
      "3\n"
     ]
    }
   ],
   "source": [
    "n=int(input(\"Enter the input:\"))\n",
    "a=0\n",
    "b=1\n",
    "print(a)\n",
    "print(b)\n",
    "for i in range(2,n):\n",
    "    c=a+b\n",
    "    a=b\n",
    "    b=c\n",
    "    print(c)\n",
    "    "
   ]
  },
  {
   "cell_type": "code",
   "execution_count": 20,
   "metadata": {},
   "outputs": [
    {
     "name": "stdout",
     "output_type": "stream",
     "text": [
      "[2, 4, 6, 8, 10]\n",
      "55\n",
      "[1, 4, 9, 16, 25, 36, 49, 64, 81, 100]\n"
     ]
    }
   ],
   "source": [
    "from functools import reduce\n",
    "def even(a):\n",
    "    return a%2==0\n",
    "def odd(b):\n",
    "    return b%2==0\n",
    "x=[1,2,3,4,5,6,7,8,9,10]\n",
    "y=list(filter(even,x))\n",
    "print(y)\n",
    "a=reduce(lambda x,y:x+y,x)\n",
    "print(a)\n",
    "b=list(map(lambda x:x**2,x))\n",
    "print(b)"
   ]
  },
  {
   "cell_type": "code",
   "execution_count": 22,
   "metadata": {},
   "outputs": [
    {
     "name": "stdout",
     "output_type": "stream",
     "text": [
      "1\n",
      "2\n",
      "3\n",
      "4\n",
      "5\n",
      "6\n",
      "7\n",
      "8\n",
      "9\n"
     ]
    }
   ],
   "source": [
    "from threading import *\n",
    "from time import sleep\n",
    "class A(Thread):\n",
    "    def run(self):\n",
    "        for i in range(1,10):\n",
    "            if i%2!=0:\n",
    "                print(i)\n",
    "                sleep(0.5)\n",
    "class B(Thread):\n",
    "    def run(self):\n",
    "        for j in range(1,10):\n",
    "            if j%2==0:\n",
    "                print(j)\n",
    "                sleep(0.5)\n",
    "x=A()\n",
    "y=B()\n",
    "x.start()\n",
    "sleep(0.1)\n",
    "y.start()\n",
    "    "
   ]
  },
  {
   "cell_type": "code",
   "execution_count": 13,
   "metadata": {},
   "outputs": [
    {
     "name": "stdout",
     "output_type": "stream",
     "text": [
      "Enter the number:5\n",
      "these is prime number\n"
     ]
    }
   ],
   "source": [
    "n=int(input(\"Enter the number:\"))\n",
    "if n>0:\n",
    "    for i in range(2,n):\n",
    "        if n%i==0:\n",
    "            print(\"this is not prime number:\")\n",
    "            break\n",
    "    else:\n",
    "        print(\"these is prime number\")\n",
    "        "
   ]
  },
  {
   "cell_type": "code",
   "execution_count": 14,
   "metadata": {},
   "outputs": [
    {
     "name": "stdout",
     "output_type": "stream",
     "text": [
      "successfully dump was created\n",
      "100 \t raju \t hyd\n"
     ]
    }
   ],
   "source": [
    "import pickle\n",
    "class Employee:\n",
    "    def __init__(self,eno,ename,eaddr):\n",
    "        self.eno=eno\n",
    "        self.ename=ename\n",
    "        self.eaddr=eaddr\n",
    "    def display(self):\n",
    "        print(self.eno,\"\\t\",self.ename,\"\\t\",self.eaddr)\n",
    "with open(\"data.txt\",\"wb\")as f:\n",
    "    e=Employee(100,'raju','hyd')\n",
    "    pickle.dump(e,f)\n",
    "    print(\"successfully dump was created\")\n",
    "with open(\"data.txt\",\"rb\")as f:\n",
    "    obj=pickle.load(f)\n",
    "    obj.display()"
   ]
  },
  {
   "cell_type": "code",
   "execution_count": 5,
   "metadata": {},
   "outputs": [
    {
     "name": "stdout",
     "output_type": "stream",
     "text": [
      "300\n"
     ]
    }
   ],
   "source": [
    "#operator overloading\n",
    "class Book:\n",
    "    def __init__(self,pages):\n",
    "        self.pages=pages\n",
    "    def __add__(self,other):\n",
    "        return self.pages+other.pages\n",
    "x=Book(100)\n",
    "y=Book(200)\n",
    "print(x+y)"
   ]
  },
  {
   "cell_type": "code",
   "execution_count": 43,
   "metadata": {},
   "outputs": [
    {
     "name": "stdout",
     "output_type": "stream",
     "text": [
      "this no of pages:100\n"
     ]
    }
   ],
   "source": [
    "#operator overiding\n",
    "class Book:\n",
    "    def __init__(self,pages):\n",
    "        self.pages=pages\n",
    "    def __str__(self):\n",
    "        return \"this no of pages:\"+str(self.pages)\n",
    "x=Book(100)\n",
    "print(x)"
   ]
  },
  {
   "cell_type": "code",
   "execution_count": 6,
   "metadata": {},
   "outputs": [
    {
     "ename": "NameError",
     "evalue": "name 'Nonea' is not defined",
     "output_type": "error",
     "traceback": [
      "\u001b[1;31m---------------------------------------------------------------------------\u001b[0m",
      "\u001b[1;31mNameError\u001b[0m                                 Traceback (most recent call last)",
      "\u001b[1;32m<ipython-input-6-20e7b98da284>\u001b[0m in \u001b[0;36m<module>\u001b[1;34m()\u001b[0m\n\u001b[0;32m     10\u001b[0m         \u001b[1;32mreturn\u001b[0m \u001b[0ms\u001b[0m\u001b[1;33m\u001b[0m\u001b[0m\n\u001b[0;32m     11\u001b[0m \u001b[0mx\u001b[0m\u001b[1;33m=\u001b[0m\u001b[0mstudent\u001b[0m\u001b[1;33m(\u001b[0m\u001b[1;33m)\u001b[0m\u001b[1;33m\u001b[0m\u001b[0m\n\u001b[1;32m---> 12\u001b[1;33m \u001b[0mx\u001b[0m\u001b[1;33m.\u001b[0m\u001b[0mraju\u001b[0m\u001b[1;33m(\u001b[0m\u001b[1;36m1\u001b[0m\u001b[1;33m,\u001b[0m\u001b[1;36m2\u001b[0m\u001b[1;33m)\u001b[0m\u001b[1;33m\u001b[0m\u001b[0m\n\u001b[0m",
      "\u001b[1;32m<ipython-input-6-20e7b98da284>\u001b[0m in \u001b[0;36mraju\u001b[1;34m(self, a, b, c)\u001b[0m\n\u001b[0;32m      4\u001b[0m         \u001b[1;32mif\u001b[0m \u001b[0ma\u001b[0m\u001b[1;33m!=\u001b[0m\u001b[1;32mNone\u001b[0m \u001b[1;32mand\u001b[0m \u001b[0mb\u001b[0m\u001b[1;33m!=\u001b[0m\u001b[1;32mNone\u001b[0m \u001b[1;32mand\u001b[0m \u001b[0mc\u001b[0m\u001b[1;33m!=\u001b[0m\u001b[1;32mNone\u001b[0m\u001b[1;33m:\u001b[0m\u001b[1;33m\u001b[0m\u001b[0m\n\u001b[0;32m      5\u001b[0m             \u001b[0ms\u001b[0m\u001b[1;33m=\u001b[0m\u001b[0ma\u001b[0m\u001b[1;33m+\u001b[0m\u001b[0mb\u001b[0m\u001b[1;33m+\u001b[0m\u001b[0mc\u001b[0m\u001b[1;33m\u001b[0m\u001b[0m\n\u001b[1;32m----> 6\u001b[1;33m         \u001b[1;32melif\u001b[0m \u001b[0ma\u001b[0m\u001b[1;33m!=\u001b[0m\u001b[0mNonea\u001b[0m \u001b[1;32mand\u001b[0m \u001b[0mb\u001b[0m\u001b[1;33m!=\u001b[0m\u001b[1;32mNone\u001b[0m\u001b[1;33m:\u001b[0m\u001b[1;33m\u001b[0m\u001b[0m\n\u001b[0m\u001b[0;32m      7\u001b[0m             \u001b[0ms\u001b[0m\u001b[1;33m=\u001b[0m\u001b[0ma\u001b[0m\u001b[1;33m+\u001b[0m\u001b[0mb\u001b[0m\u001b[1;33m\u001b[0m\u001b[0m\n\u001b[0;32m      8\u001b[0m         \u001b[1;32melse\u001b[0m\u001b[1;33m:\u001b[0m\u001b[1;33m\u001b[0m\u001b[0m\n",
      "\u001b[1;31mNameError\u001b[0m: name 'Nonea' is not defined"
     ]
    }
   ],
   "source": [
    "class student:\n",
    "    def raju(self,a=None,b=None,c=None):\n",
    "        s=0\n",
    "        if a!=None and b!=None and c!=None:\n",
    "            s=a+b+c\n",
    "        elif a!=Nonea and b!=None:\n",
    "            s=a+b\n",
    "        else:\n",
    "            s=a\n",
    "        return s\n",
    "x=student()\n",
    "x.raju(1,2)"
   ]
  },
  {
   "cell_type": "code",
   "execution_count": 50,
   "metadata": {},
   "outputs": [
    {
     "data": {
      "text/plain": [
       "('the total is', 15)"
      ]
     },
     "execution_count": 50,
     "metadata": {},
     "output_type": "execute_result"
    }
   ],
   "source": [
    "class raju:\n",
    "    def sum(self,*a):\n",
    "        total=0\n",
    "        for i in a:\n",
    "            total=total+i\n",
    "        return \"the total is\",total\n",
    "x=raju()\n",
    "x.sum(1,2,3,4,5)"
   ]
  },
  {
   "cell_type": "code",
   "execution_count": 59,
   "metadata": {},
   "outputs": [
    {
     "name": "stdout",
     "output_type": "stream",
     "text": [
      "cash+gold+land\n",
      "katrina\n",
      "ramya\n"
     ]
    }
   ],
   "source": [
    "#method overriding\n",
    "class A:\n",
    "    def propertys(self):\n",
    "        print(\"cash+gold+land\")\n",
    "    def marry(self):\n",
    "        print(\"katrina\")\n",
    "class B(A):\n",
    "    def marry(self):\n",
    "        super().marry()\n",
    "        print(\"ramya\")\n",
    "x=B()\n",
    "x.propertys()\n",
    "x.marry()"
   ]
  },
  {
   "cell_type": "code",
   "execution_count": 60,
   "metadata": {},
   "outputs": [
    {
     "name": "stdout",
     "output_type": "stream",
     "text": [
      "this is f1\n"
     ]
    }
   ],
   "source": [
    "#inheritence\n",
    "class A:\n",
    "    def f1(self):\n",
    "        print(\"this is f1\")\n",
    "    def f2(self):\n",
    "        print(\"this is f2\")\n",
    "class B(A):\n",
    "    def f3(self):\n",
    "        print(\"this is f3\")\n",
    "    def f4(self):\n",
    "        print(\"this is f4\")\n",
    "x=B()\n",
    "x.f1()\n",
    "    "
   ]
  },
  {
   "cell_type": "code",
   "execution_count": 64,
   "metadata": {},
   "outputs": [
    {
     "name": "stdout",
     "output_type": "stream",
     "text": [
      "enter the number:5\n",
      "your number factorail is 120\n",
      "ok bye\n"
     ]
    }
   ],
   "source": [
    "import math\n",
    "n=int(input(\"enter the number:\"))\n",
    "try:\n",
    "    x=math.factorial(n)\n",
    "    print(\"your number factorail is %s\"%x)\n",
    "except:\n",
    "    print(\"negative numbers not allowed:\")\n",
    "finally:\n",
    "    print(\"ok bye\")"
   ]
  },
  {
   "cell_type": "code",
   "execution_count": null,
   "metadata": {},
   "outputs": [],
   "source": [
    "import gc\n",
    "gc.isenabled()\n",
    "gc.disable()\n",
    "gc.enable()"
   ]
  },
  {
   "cell_type": "code",
   "execution_count": 69,
   "metadata": {},
   "outputs": [
    {
     "name": "stdout",
     "output_type": "stream",
     "text": [
      "ramesh\n",
      "{'eno': 100, 'ename': 'raju', 'eadd': 'hyd'}\n"
     ]
    }
   ],
   "source": [
    "def raju(name,**data):\n",
    "    print(name)\n",
    "    print(data)\n",
    "raju('ramesh',eno=100,ename='raju',eadd='hyd')"
   ]
  },
  {
   "cell_type": "code",
   "execution_count": 73,
   "metadata": {},
   "outputs": [
    {
     "name": "stdout",
     "output_type": "stream",
     "text": [
      "Enter the number:6\n",
      "6\n",
      "5\n",
      "4\n",
      "3\n",
      "2\n",
      "1\n"
     ]
    },
    {
     "ename": "TypeError",
     "evalue": "'NoneType' object is not iterable",
     "output_type": "error",
     "traceback": [
      "\u001b[1;31m---------------------------------------------------------------------------\u001b[0m",
      "\u001b[1;31mTypeError\u001b[0m                                 Traceback (most recent call last)",
      "\u001b[1;32m<ipython-input-73-54b561aacbc8>\u001b[0m in \u001b[0;36m<module>\u001b[1;34m()\u001b[0m\n\u001b[0;32m      6\u001b[0m         \u001b[0mn\u001b[0m\u001b[1;33m=\u001b[0m\u001b[0mn\u001b[0m\u001b[1;33m-\u001b[0m\u001b[1;36m1\u001b[0m\u001b[1;33m\u001b[0m\u001b[0m\n\u001b[0;32m      7\u001b[0m \u001b[0mx\u001b[0m\u001b[1;33m=\u001b[0m\u001b[0mcount\u001b[0m\u001b[1;33m(\u001b[0m\u001b[0mn\u001b[0m\u001b[1;33m)\u001b[0m\u001b[1;33m\u001b[0m\u001b[0m\n\u001b[1;32m----> 8\u001b[1;33m \u001b[1;32mfor\u001b[0m \u001b[0mi\u001b[0m \u001b[1;32min\u001b[0m \u001b[0mx\u001b[0m\u001b[1;33m:\u001b[0m\u001b[1;33m\u001b[0m\u001b[0m\n\u001b[0m\u001b[0;32m      9\u001b[0m     \u001b[0mprint\u001b[0m\u001b[1;33m(\u001b[0m\u001b[0mi\u001b[0m\u001b[1;33m)\u001b[0m\u001b[1;33m\u001b[0m\u001b[0m\n",
      "\u001b[1;31mTypeError\u001b[0m: 'NoneType' object is not iterable"
     ]
    }
   ],
   "source": [
    "#generators\n",
    "n=int(input(\"Enter the number:\"))\n",
    "def count(n):\n",
    "    while n>0:\n",
    "        print(n)\n",
    "        n=n-1\n",
    "x=count(n)\n",
    "for i in x:\n",
    "    print(i)\n"
   ]
  },
  {
   "cell_type": "code",
   "execution_count": 76,
   "metadata": {},
   "outputs": [
    {
     "data": {
      "text/plain": [
       "'HII GOOD MORNING'"
      ]
     },
     "execution_count": 76,
     "metadata": {},
     "output_type": "execute_result"
    }
   ],
   "source": [
    "#decorators\n",
    "def outer(func):\n",
    "    def inner():\n",
    "        x=func()\n",
    "        return x.swapcase()\n",
    "    return inner\n",
    "@outer\n",
    "def raju():\n",
    "    return \"hii good morning\"\n",
    "raju()"
   ]
  },
  {
   "cell_type": "code",
   "execution_count": 38,
   "metadata": {},
   "outputs": [
    {
     "name": "stdout",
     "output_type": "stream",
     "text": [
      "7500899932\n"
     ]
    }
   ],
   "source": [
    "from random import *\n",
    "def raj():\n",
    "    x=randint(7,9)\n",
    "    y=\" \"+str(x)\n",
    "    for i in range(0,9):\n",
    "        y=y+str(randint(0,9))\n",
    "    return int(y)\n",
    "print(raj())"
   ]
  },
  {
   "cell_type": "code",
   "execution_count": 4,
   "metadata": {},
   "outputs": [
    {
     "name": "stdout",
     "output_type": "stream",
     "text": [
      "5\n",
      "3\n",
      "ab\n"
     ]
    }
   ],
   "source": [
    "import re\n",
    "count=0\n",
    "x=re.compile('ab')\n",
    "y=x.finditer('abaababa')\n",
    "for i in y:\n",
    "    count+=1\n",
    "print(i.start())\n",
    "print(count)\n",
    "print(i.group())\n",
    "\n"
   ]
  },
  {
   "cell_type": "code",
   "execution_count": 12,
   "metadata": {},
   "outputs": [
    {
     "name": "stdout",
     "output_type": "stream",
     "text": [
      "1\n",
      "3\n",
      "4\n",
      "5\n",
      "6\n"
     ]
    }
   ],
   "source": [
    "import re\n",
    "x=re.finditer(\"[abc]\",\"a&y8bI$c\")\n",
    "for i in x:\n",
    "    print()"
   ]
  },
  {
   "cell_type": "code",
   "execution_count": 5,
   "metadata": {},
   "outputs": [
    {
     "name": "stdout",
     "output_type": "stream",
     "text": [
      "raju\n",
      "{'age': 28, 'city': 'hyd', 'mobi': 75490498}\n"
     ]
    }
   ],
   "source": [
    "def person(name,**data):\n",
    "    print(name)\n",
    "    print(data)\n",
    "person('raju',age=28,city='hyd',mobi=75490498)"
   ]
  },
  {
   "cell_type": "code",
   "execution_count": 7,
   "metadata": {},
   "outputs": [
    {
     "name": "stdout",
     "output_type": "stream",
     "text": [
      "('raju', 'ravi', 'rajesh')\n"
     ]
    }
   ],
   "source": [
    "def person(*name):\n",
    "    print(name)\n",
    "person('raju','ravi','rajesh')"
   ]
  },
  {
   "cell_type": "code",
   "execution_count": 4,
   "metadata": {},
   "outputs": [],
   "source": [
    "from threading import *\n",
    "from time import sleep\n",
    "class A(Thread):\n",
    "    def run(self):\n",
    "        for i in range(1,11):\n",
    "            if i%2==0:\n",
    "                break\n",
    "                print(i)\n",
    "                sleep(0.5)\n",
    "class B(Thread):\n",
    "    def run(self):\n",
    "        for j in range(1,11):\n",
    "            if j%2!=0:\n",
    "                break\n",
    "                print(j)\n",
    "                sleep(0.5)\n",
    "a=A()\n",
    "b=B()\n",
    "a.start()\n",
    "sleep(0.1)\n",
    "b.start()"
   ]
  },
  {
   "cell_type": "code",
   "execution_count": 2,
   "metadata": {},
   "outputs": [
    {
     "ename": "NameError",
     "evalue": "name 'number' is not defined",
     "output_type": "error",
     "traceback": [
      "\u001b[1;31m---------------------------------------------------------------------------\u001b[0m",
      "\u001b[1;31mNameError\u001b[0m                                 Traceback (most recent call last)",
      "\u001b[1;32m<ipython-input-2-e814afbf721b>\u001b[0m in \u001b[0;36m<module>\u001b[1;34m()\u001b[0m\n\u001b[0;32m      6\u001b[0m     \u001b[1;32myield\u001b[0m \u001b[1;36m4\u001b[0m\u001b[1;33m\u001b[0m\u001b[0m\n\u001b[0;32m      7\u001b[0m     \u001b[1;32myield\u001b[0m \u001b[1;36m5\u001b[0m\u001b[1;33m\u001b[0m\u001b[0m\n\u001b[1;32m----> 8\u001b[1;33m \u001b[0mx\u001b[0m\u001b[1;33m=\u001b[0m\u001b[0mnumber\u001b[0m\u001b[1;33m(\u001b[0m\u001b[1;33m)\u001b[0m\u001b[1;33m\u001b[0m\u001b[0m\n\u001b[0m\u001b[0;32m      9\u001b[0m \u001b[0mprint\u001b[0m\u001b[1;33m(\u001b[0m\u001b[0mx\u001b[0m\u001b[1;33m.\u001b[0m\u001b[0m__next__\u001b[0m\u001b[1;33m(\u001b[0m\u001b[1;33m)\u001b[0m\u001b[1;33m)\u001b[0m\u001b[1;33m\u001b[0m\u001b[0m\n",
      "\u001b[1;31mNameError\u001b[0m: name 'number' is not defined"
     ]
    }
   ],
   "source": [
    "#generators\n",
    "def numbers():\n",
    "    yield 1\n",
    "    yield 2\n",
    "    yield 3\n",
    "    yield 4\n",
    "    yield 5\n",
    "x=number()\n",
    "print(x.__next__())"
   ]
  },
  {
   "cell_type": "code",
   "execution_count": 2,
   "metadata": {},
   "outputs": [
    {
     "name": "stdout",
     "output_type": "stream",
     "text": [
      "r:a:j:u:r:a:j:e:s:h:r:a:v:i\n"
     ]
    }
   ],
   "source": [
    "name=\"raju\"\n",
    "marks=100\n",
    "salary=1000\n",
    "print(\"name:{},marks:{}\")"
   ]
  },
  {
   "cell_type": "code",
   "execution_count": 22,
   "metadata": {},
   "outputs": [
    {
     "data": {
      "text/plain": [
       "('total is:', 11)"
      ]
     },
     "execution_count": 22,
     "metadata": {},
     "output_type": "execute_result"
    }
   ],
   "source": [
    "class Test:\n",
    "    def sum(self,*a):\n",
    "        total=0\n",
    "        for i in a:\n",
    "            total=total+i\n",
    "        return \"total is:\",total\n",
    "x=Test()\n",
    "x.sum(1,2,3,5)"
   ]
  },
  {
   "cell_type": "code",
   "execution_count": 8,
   "metadata": {},
   "outputs": [
    {
     "name": "stdout",
     "output_type": "stream",
     "text": [
      "Enter the number:6\n",
      "its is  prime numbe:\n"
     ]
    }
   ],
   "source": [
    "n=int(input(\"Enter the number:\"))\n",
    "if n>1:\n",
    "    for i in range(1,n+1):\n",
    "        if n%i==0:\n",
    "            print(\"its is not prime numbe:\")\n",
    "            break\n",
    "        else:\n",
    "            print(\"ita is prime number:\")\n",
    "else:\n",
    "        print(\"it is not aprime anumbera\")"
   ]
  },
  {
   "cell_type": "code",
   "execution_count": 15,
   "metadata": {},
   "outputs": [
    {
     "name": "stdout",
     "output_type": "stream",
     "text": [
      "Enter the number550\n",
      "the factors of 550 are:\n",
      "1\n",
      "2\n",
      "5\n",
      "10\n",
      "11\n",
      "22\n",
      "25\n",
      "50\n",
      "55\n",
      "110\n",
      "275\n",
      "550\n"
     ]
    }
   ],
   "source": [
    "#find the factors of the number\n",
    "n=int(input(\"Enter the number\"))\n",
    "print(\"the factors of\",n,\"are:\")\n",
    "for i in range(1,n+1):\n",
    "        if n%i==0:\n",
    "            print(i)"
   ]
  },
  {
   "cell_type": "code",
   "execution_count": 1,
   "metadata": {},
   "outputs": [
    {
     "name": "stdout",
     "output_type": "stream",
     "text": [
      "enter the factorial5\n",
      "the factorail is: 120\n"
     ]
    }
   ],
   "source": [
    "n=int(input(\"enter the factorial\"))\n",
    "factorial=1\n",
    "if n<0:\n",
    "    print(\"sorry\")\n",
    "elif n==0:\n",
    "    print(\"the factorail of 0 is 1\")\n",
    "else:\n",
    "    for i in range(1,n+1):\n",
    "        factorial=factorial*i\n",
    "    print(\"the factorail is:\",factorial)"
   ]
  },
  {
   "cell_type": "code",
   "execution_count": 16,
   "metadata": {},
   "outputs": [
    {
     "name": "stdout",
     "output_type": "stream",
     "text": [
      "5\n",
      "the factorial is: 120\n"
     ]
    }
   ],
   "source": [
    "n=int(input())\n",
    "x=1\n",
    "if n<0:\n",
    "    print(\"sorry\")\n",
    "elif n==0:\n",
    "    print(\"the factorial is 1\")\n",
    "else:\n",
    "    for i in range(1,n+1):\n",
    "        x=x*i\n",
    "    print(\"the factorial is:\",x)"
   ]
  },
  {
   "cell_type": "code",
   "execution_count": 24,
   "metadata": {},
   "outputs": [
    {
     "name": "stdout",
     "output_type": "stream",
     "text": [
      "Enter the number:4\n",
      "this is positive number\n"
     ]
    }
   ],
   "source": [
    "n=int(input(\"Enter the number:\"))\n",
    "if n<0:\n",
    "    print(\"this is negitive number\")\n",
    "elif n>0:\n",
    "    print(\"this is positive number\")\n",
    "else:\n",
    "    print(\"this is zero\")"
   ]
  },
  {
   "cell_type": "code",
   "execution_count": 5,
   "metadata": {},
   "outputs": [
    {
     "name": "stdout",
     "output_type": "stream",
     "text": [
      "Enter the number:54\n",
      "enter the number:24\n",
      "6\n"
     ]
    }
   ],
   "source": [
    "#hcf and gcf\n",
    "f=int(input(\"Enter the number:\"))\n",
    "s=int(input(\"enter the number:\"))\n",
    "if f>s:\n",
    "    small=s\n",
    "else:\n",
    "    small=f\n",
    "for i in range(1,small+1):\n",
    "    if((f%i==0) and (s%i==0)):\n",
    "        hcf=i\n",
    "print(hcf)"
   ]
  },
  {
   "cell_type": "code",
   "execution_count": 4,
   "metadata": {},
   "outputs": [
    {
     "name": "stdout",
     "output_type": "stream",
     "text": [
      "enter the number:54\n",
      "enter the number:24\n",
      "6\n"
     ]
    }
   ],
   "source": [
    "x=int(input(\"enter the number:\"))\n",
    "y=int(input(\"enter the number:\"))\n",
    "if x>y:\n",
    "    small=y\n",
    "else:\n",
    "    small=x\n",
    "for i in range(1,small+1):\n",
    "    if ((x%i==0) and (y%i==0)):\n",
    "        hcf=i\n",
    "print(hcf)"
   ]
  },
  {
   "cell_type": "code",
   "execution_count": 9,
   "metadata": {},
   "outputs": [
    {
     "name": "stdout",
     "output_type": "stream",
     "text": [
      "enter the year2001\n",
      "this is not a leep year\n"
     ]
    }
   ],
   "source": [
    "#leap year\n",
    "year=int(input(\"enter the year\"))\n",
    "if year%4==0:\n",
    "    if year%100==0:\n",
    "        if year%400==0:\n",
    "            print(\"this is leap year\")\n",
    "        else:\n",
    "            print(\"this is not leap year:\")\n",
    "    else:\n",
    "        print(\"this is leap year\")\n",
    "else:\n",
    "    print(\"this is not a leep year\")"
   ]
  },
  {
   "cell_type": "code",
   "execution_count": 8,
   "metadata": {},
   "outputs": [
    {
     "name": "stdout",
     "output_type": "stream",
     "text": [
      "enter the number:5\n",
      "this is not a prime number\n"
     ]
    }
   ],
   "source": [
    "n=int(input(\"enter the number:\"))\n",
    "if n>0:\n",
    "    for i in range(2,n+1):\n",
    "        if n%i==0:\n",
    "            print(\"this is not a prime \")\n",
    "            break\n",
    "    else:\n",
    "        print(\"this is prime number\")"
   ]
  },
  {
   "cell_type": "code",
   "execution_count": 13,
   "metadata": {},
   "outputs": [
    {
     "name": "stdout",
     "output_type": "stream",
     "text": [
      "Enter the start numberr:1\n",
      "enter the ending number:10\n",
      "1\n",
      "2\n",
      "3\n",
      "5\n",
      "7\n"
     ]
    }
   ],
   "source": [
    "f=int(input(\"Enter the start numberr:\"))\n",
    "s=int(input(\"enter the ending number:\"))\n",
    "for i in range(f,s+1):\n",
    "    if i>0:\n",
    "        for j in range(2,i):\n",
    "            if i%j==0:\n",
    "                break\n",
    "        else:\n",
    "            print(i)"
   ]
  },
  {
   "cell_type": "code",
   "execution_count": 19,
   "metadata": {},
   "outputs": [
    {
     "name": "stdout",
     "output_type": "stream",
     "text": [
      "Enter the number:10\n",
      "0\n",
      "1\n",
      "1\n",
      "2\n",
      "3\n",
      "5\n",
      "8\n",
      "13\n",
      "21\n",
      "34\n"
     ]
    }
   ],
   "source": [
    "n=int(input(\"Enter the number:\"))\n",
    "a=0\n",
    "b=1\n",
    "print(a)\n",
    "print(b)\n",
    "for i in range(2,n):\n",
    "    c=a+b\n",
    "    a=b\n",
    "    b=c\n",
    "    print(c)"
   ]
  },
  {
   "cell_type": "code",
   "execution_count": 9,
   "metadata": {},
   "outputs": [
    {
     "name": "stdout",
     "output_type": "stream",
     "text": [
      "Enter the number:-1\n",
      "the factorial does not considered the negative values\n"
     ]
    }
   ],
   "source": [
    "#factorial\n",
    "n=int(input(\"Enter the number:\"))\n",
    "factorial=1\n",
    "if n<0:\n",
    "    print(\"the factorial does not considered the negative values\")\n",
    "else:\n",
    "    for i in range(1,n+1):\n",
    "        factorial=factorial*i\n",
    "    print(\"the factorial is: \",factorial)"
   ]
  },
  {
   "cell_type": "code",
   "execution_count": 11,
   "metadata": {},
   "outputs": [
    {
     "name": "stdout",
     "output_type": "stream",
     "text": [
      "Enter the number:320\n",
      "1\n",
      "2\n",
      "4\n",
      "5\n",
      "8\n",
      "10\n",
      "16\n",
      "20\n",
      "32\n",
      "40\n",
      "64\n",
      "80\n",
      "160\n",
      "320\n"
     ]
    }
   ],
   "source": [
    "#find the factors of number\n",
    "n=int(input(\"Enter the number:\"))\n",
    "for i in range(1,n+1):\n",
    "    if n%i==0:\n",
    "        print(i)\n"
   ]
  },
  {
   "cell_type": "code",
   "execution_count": 18,
   "metadata": {},
   "outputs": [
    {
     "name": "stdout",
     "output_type": "stream",
     "text": [
      "enter the number100\n",
      "5050\n"
     ]
    }
   ],
   "source": [
    "#find the sum of n natural numbers\n",
    "n=int(input(\"enter the number\"))\n",
    "x=0\n",
    "for i in range(1,n+1):\n",
    "    x=x+i\n",
    "print(x)"
   ]
  },
  {
   "cell_type": "code",
   "execution_count": 20,
   "metadata": {},
   "outputs": [
    {
     "name": "stdout",
     "output_type": "stream",
     "text": [
      "enter the string raar\n",
      "this is palidrome\n"
     ]
    }
   ],
   "source": [
    "#given number is palindrome or not\n",
    "string=input(\"enter the string \")\n",
    "rstring=string[::-1]\n",
    "if string==rstring:\n",
    "    print(\"this is palidrome\")\n",
    "else:\n",
    "    print(\"this is not a plindrome\")"
   ]
  },
  {
   "cell_type": "code",
   "execution_count": 30,
   "metadata": {},
   "outputs": [
    {
     "name": "stdout",
     "output_type": "stream",
     "text": [
      "8853082711\n"
     ]
    }
   ],
   "source": [
    "from random import *\n",
    "x=randint(7,9)\n",
    "num=\"\"+str(x)\n",
    "for i in range(9):\n",
    "    num=num+str(randint(0,9))\n",
    "print(num)"
   ]
  },
  {
   "cell_type": "code",
   "execution_count": 31,
   "metadata": {},
   "outputs": [
    {
     "name": "stdout",
     "output_type": "stream",
     "text": [
      "Enter the number:1\n",
      "123\n"
     ]
    }
   ],
   "source": [
    "n=input(\"Enter the number:\")\n",
    "a=int(\"{}\".format(n))\n",
    "b=int(\"{}{}\".format(n,n))\n",
    "c=int(\"{}{}{}\".format(n,n,n))\n",
    "print(a+b+c)\n"
   ]
  },
  {
   "cell_type": "code",
   "execution_count": 8,
   "metadata": {},
   "outputs": [
    {
     "name": "stdout",
     "output_type": "stream",
     "text": [
      "enter the lower interval:1\n",
      "enter the upper interval:10\n",
      "2\n",
      "3\n",
      "5\n",
      "7\n"
     ]
    }
   ],
   "source": [
    "lower=int(input(\"enter the lower interval:\"))\n",
    "upper=int(input(\"enter the upper interval:\"))\n",
    "for num in range(lower,upper+1):\n",
    "    if num>1:\n",
    "        for i in range(2,num):\n",
    "            if (num%i==0):\n",
    "                break\n",
    "        else:\n",
    "            print(num)"
   ]
  },
  {
   "cell_type": "code",
   "execution_count": 39,
   "metadata": {},
   "outputs": [
    {
     "name": "stdout",
     "output_type": "stream",
     "text": [
      "[2, 4, 6, 8, 10]\n"
     ]
    }
   ],
   "source": [
    "x=[i for i in range(1,11) if i%2==0]\n",
    "print(x)"
   ]
  },
  {
   "cell_type": "code",
   "execution_count": 40,
   "metadata": {},
   "outputs": [
    {
     "name": "stdout",
     "output_type": "stream",
     "text": [
      "{1: 10, 3: 30, 5: 50, 7: 70, 9: 90}\n"
     ]
    }
   ],
   "source": [
    "x={i:i*10 for i in range(1,11) if i%2!=0}\n",
    "print(x)"
   ]
  },
  {
   "cell_type": "code",
   "execution_count": 41,
   "metadata": {},
   "outputs": [
    {
     "name": "stdout",
     "output_type": "stream",
     "text": [
      "56\n"
     ]
    }
   ],
   "source": [
    "a=10\n",
    "b=56\n",
    "print(a) if a>b else print(b)"
   ]
  },
  {
   "cell_type": "code",
   "execution_count": 42,
   "metadata": {},
   "outputs": [
    {
     "name": "stdout",
     "output_type": "stream",
     "text": [
      "3.1622776601683795\n"
     ]
    }
   ],
   "source": [
    "import math\n",
    "print(math.sqrt(10))"
   ]
  },
  {
   "cell_type": "code",
   "execution_count": 1,
   "metadata": {},
   "outputs": [
    {
     "name": "stdout",
     "output_type": "stream",
     "text": [
      "pickle of employee object\n",
      "100 \t raju \t 1000\n"
     ]
    }
   ],
   "source": [
    "import pickle\n",
    "class Employee:\n",
    "    def __init__(self,eno,ename,esal):\n",
    "        self.eno=eno\n",
    "        self.ename=ename\n",
    "        self.esal=esal\n",
    "    def dispaly(self):\n",
    "        print(self.eno,\"\\t\",self.ename,\"\\t\",self.esal)\n",
    "with open(\"emp.data\",\"wb\") as f:\n",
    "    e=Employee(100,\"raju\",1000)\n",
    "    pickle.dump(e,f)\n",
    "    print(\"pickle of employee object\")\n",
    "with open(\"emp.data\",\"rb\") as f:\n",
    "    obj=pickle.load(f)\n",
    "    obj.dispaly()"
   ]
  },
  {
   "cell_type": "code",
   "execution_count": 54,
   "metadata": {},
   "outputs": [
    {
     "name": "stdout",
     "output_type": "stream",
     "text": [
      "pickle of employee object completed\n",
      "100 \t raju \t 1000\n",
      "<__main__.Employee object at 0x000001E9E7497668>\n"
     ]
    }
   ],
   "source": [
    "import pickle\n",
    "class Employee:\n",
    "    def __init__(self,eno,ename,esal):\n",
    "        self.eno=eno\n",
    "        self.ename=ename\n",
    "        self.esal=esal\n",
    "    def display(self):\n",
    "        print(self.eno,\"\\t\",self.ename,\"\\t\",self.esal)\n",
    "with open(\"emp.data\",\"wb\") as f:\n",
    "    e=Employee(100,\"raju\",1000)\n",
    "    pickle.dump(e,f)\n",
    "    print(\"pickle of employee object completed\")\n",
    "with open(\"emp.data\",\"rb\") as f:\n",
    "    obj=pickle.load(f)\n",
    "    obj.display()\n",
    "    print(obj)"
   ]
  },
  {
   "cell_type": "code",
   "execution_count": 70,
   "metadata": {},
   "outputs": [
    {
     "name": "stdout",
     "output_type": "stream",
     "text": [
      "enter the lower interval:1\n",
      "enter the upper interval:10\n",
      "3\n",
      "2\n",
      "4\n",
      "6\n"
     ]
    }
   ],
   "source": [
    "lower=int(input(\"enter the lower interval:\"))\n",
    "upper=int(input(\"enter the upper interval:\"))\n",
    "for num in range(lower,upper+1):\n",
    "    if num>1:\n",
    "        for i in range(2,num):\n",
    "            if num%i==0:\n",
    "                break\n",
    "        else:\n",
    "            print(i)"
   ]
  },
  {
   "cell_type": "code",
   "execution_count": 6,
   "metadata": {},
   "outputs": [
    {
     "name": "stdout",
     "output_type": "stream",
     "text": [
      "enter the number:5\n",
      "this is not palindrome\n"
     ]
    }
   ],
   "source": [
    "n=int(input(\"enter the number:\"))\n",
    "if n>1:\n",
    "    for i in range(2,n+1):\n",
    "        if n%i==0:\n",
    "            print(\"this is not palindrome\")\n",
    "            break\n",
    "    else:\n",
    "            print(\"this is palindrome\")\n",
    "else:\n",
    "        print(\"this is not palindrome\")"
   ]
  },
  {
   "cell_type": "code",
   "execution_count": 22,
   "metadata": {},
   "outputs": [],
   "source": [
    "def raju(*args):\n",
    "    total=0\n",
    "    for i in args:\n",
    "        total=total+i\n",
    "    return total\n",
    "print(raju(1,2,3,5,6))"
   ]
  },
  {
   "cell_type": "code",
   "execution_count": 8,
   "metadata": {},
   "outputs": [
    {
     "name": "stdout",
     "output_type": "stream",
     "text": [
      "raju\n",
      "{'age': 200, 'address': 'banglore', 'contact': 984847474774}\n"
     ]
    }
   ],
   "source": [
    "def raju(name,**data):\n",
    "    print(name)\n",
    "    print(data)\n",
    "raju('raju',age=200,address='banglore',contact=984847474774)"
   ]
  },
  {
   "cell_type": "code",
   "execution_count": 3,
   "metadata": {},
   "outputs": [
    {
     "name": "stdout",
     "output_type": "stream",
     "text": [
      "raju\n",
      "{'age': 45, 'address': 'hyd', 'contact': 9888477474}\n"
     ]
    }
   ],
   "source": [
    "def proper(name,**data):\n",
    "    print(name)\n",
    "    print(data)\n",
    "proper('raju',age=45,address='hyd',contact=9888477474)"
   ]
  },
  {
   "cell_type": "code",
   "execution_count": 5,
   "metadata": {},
   "outputs": [
    {
     "name": "stdout",
     "output_type": "stream",
     "text": [
      "enter the number:5\n",
      "this is not palindrome\n"
     ]
    }
   ],
   "source": [
    "n=int(input(\"enter the number:\"))\n",
    "if n>1:\n",
    "    for i in range(1,n+1):\n",
    "        if n%i==0:\n",
    "            print(\"this is not palindrome\")\n",
    "            break\n",
    "    else:\n",
    "            print(\"this is palindrome\")\n",
    "else:\n",
    "    print(\"this is not palindrome\")"
   ]
  },
  {
   "cell_type": "code",
   "execution_count": 6,
   "metadata": {},
   "outputs": [
    {
     "name": "stdout",
     "output_type": "stream",
     "text": [
      "enter the number:5\n",
      "     * \n",
      "    * * \n",
      "   * * * \n",
      "  * * * * \n",
      " * * * * * \n"
     ]
    }
   ],
   "source": [
    "n=int(input(\"enter the number:\"))\n",
    "for i in range(n):\n",
    "    print(\" \"*(n-i)+\"* \"*(i+1))\n",
    "            "
   ]
  },
  {
   "cell_type": "code",
   "execution_count": 18,
   "metadata": {},
   "outputs": [
    {
     "name": "stdout",
     "output_type": "stream",
     "text": [
      "Enter the input8\n",
      "Enter the number:45\n",
      "\n",
      "45 \n",
      "46 47 \n",
      "48 49 50 \n",
      "51 52 53 54 \n",
      "55 56 57 58 59 \n",
      "60 61 62 63 64 65 \n",
      "66 67 68 69 70 71 72 \n"
     ]
    }
   ],
   "source": [
    "n=int(input(\"Enter the input\"))\n",
    "x=int(input(\"Enter the number:\"))\n",
    "for i in range(n):\n",
    "    for j in range(i):\n",
    "            print(x,end=\" \")\n",
    "            x=x+1\n",
    "    print()"
   ]
  },
  {
   "cell_type": "code",
   "execution_count": 1,
   "metadata": {},
   "outputs": [
    {
     "name": "stdout",
     "output_type": "stream",
     "text": [
      "enter the number:10\n",
      "10\n",
      "9\n",
      "8\n",
      "7\n",
      "6\n",
      "5\n",
      "4\n",
      "3\n",
      "2\n",
      "1\n"
     ]
    }
   ],
   "source": [
    "n=int(input(\"enter the number:\"))\n",
    "def count(n):\n",
    "    while n>0:\n",
    "        yield n\n",
    "        n=n-1\n",
    "x=count(n)\n",
    "for i in x:\n",
    "    print(i)"
   ]
  },
  {
   "cell_type": "code",
   "execution_count": 8,
   "metadata": {},
   "outputs": [
    {
     "name": "stdout",
     "output_type": "stream",
     "text": [
      "1\n",
      "2\n",
      "3\n",
      "4\n",
      "6\n",
      "5\n",
      "8\n",
      "7\n",
      "9\n"
     ]
    }
   ],
   "source": [
    "from time import sleep\n",
    "from threading import *\n",
    "class A(Thread):\n",
    "    def run(self):\n",
    "        for i in range(1,10):\n",
    "            if i%2!=0:\n",
    "                print(i)\n",
    "                sleep(2)\n",
    "class B(Thread):\n",
    "    def run(self):\n",
    "        for j in range(1,10):\n",
    "            if j%2==0:\n",
    "                print(j)\n",
    "                sleep(1.5)\n",
    "x=A()\n",
    "y=B()\n",
    "x.start()\n",
    "sleep(0.7)\n",
    "y.start()"
   ]
  },
  {
   "cell_type": "code",
   "execution_count": 72,
   "metadata": {},
   "outputs": [
    {
     "name": "stdout",
     "output_type": "stream",
     "text": [
      "Enter the number:5\n"
     ]
    }
   ],
   "source": [
    "n=int(input(\"Enter the number:\"))\n",
    "def count(n):\n",
    "    while n>0:\n",
    "        yield n\n",
    "        n=n-1\n",
    "x=count(n)\n"
   ]
  },
  {
   "cell_type": "code",
   "execution_count": 4,
   "metadata": {},
   "outputs": [
    {
     "name": "stdout",
     "output_type": "stream",
     "text": [
      "Enter the number7\n",
      "countdown\n",
      "7\n",
      "6\n",
      "5\n",
      "4\n",
      "3\n",
      "2\n",
      "1\n"
     ]
    }
   ],
   "source": [
    "n=int(input(\"Enter the number\"))\n",
    "print(\"countdown\")\n",
    "def count(n):\n",
    "    while n>0:\n",
    "        yield n\n",
    "        n=n-1\n",
    "x=count(n)\n",
    "for i in x:\n",
    "    print(i)"
   ]
  },
  {
   "cell_type": "code",
   "execution_count": 19,
   "metadata": {},
   "outputs": [
    {
     "name": "stdout",
     "output_type": "stream",
     "text": [
      "the total no of pages:100\n"
     ]
    }
   ],
   "source": [
    "class Book:\n",
    "    def __init__(self,pages):\n",
    "        self.pages=pages\n",
    "    def __str__(self):\n",
    "        return \"the total no of pages:\"+str(self.pages)\n",
    "x=Book(100)\n",
    "print(x)"
   ]
  },
  {
   "cell_type": "code",
   "execution_count": 23,
   "metadata": {},
   "outputs": [
    {
     "name": "stdout",
     "output_type": "stream",
     "text": [
      "6\n"
     ]
    }
   ],
   "source": [
    "def raju(*args):\n",
    "    total=0\n",
    "    for i in args:\n",
    "        total=total+i\n",
    "    return total\n",
    "print(raju(1,2,3))"
   ]
  },
  {
   "cell_type": "code",
   "execution_count": 24,
   "metadata": {},
   "outputs": [
    {
     "name": "stdout",
     "output_type": "stream",
     "text": [
      "rajesh\n",
      "{'a': 'apple', 'b': 'banana'}\n"
     ]
    }
   ],
   "source": [
    "def raju(name,**data):\n",
    "    print(name)\n",
    "    print(data)\n",
    "x=raju('rajesh',a='apple',b='banana')"
   ]
  },
  {
   "cell_type": "code",
   "execution_count": 4,
   "metadata": {},
   "outputs": [
    {
     "ename": "NameError",
     "evalue": "name 'x' is not defined",
     "output_type": "error",
     "traceback": [
      "\u001b[1;31m---------------------------------------------------------------------------\u001b[0m",
      "\u001b[1;31mNameError\u001b[0m                                 Traceback (most recent call last)",
      "\u001b[1;32m<ipython-input-4-c8e69f406791>\u001b[0m in \u001b[0;36m<module>\u001b[1;34m()\u001b[0m\n\u001b[0;32m      7\u001b[0m     \u001b[0mx\u001b[0m\u001b[1;33m=\u001b[0m\u001b[0mmultiprocessing\u001b[0m\u001b[1;33m.\u001b[0m\u001b[0mprocess\u001b[0m\u001b[1;33m(\u001b[0m\u001b[0mtarget\u001b[0m\u001b[1;33m=\u001b[0m\u001b[0mcube\u001b[0m\u001b[1;33m,\u001b[0m\u001b[0margs\u001b[0m\u001b[1;33m=\u001b[0m\u001b[1;33m(\u001b[0m\u001b[1;36m10\u001b[0m\u001b[1;33m,\u001b[0m\u001b[1;33m)\u001b[0m\u001b[1;33m)\u001b[0m\u001b[1;33m\u001b[0m\u001b[0m\n\u001b[0;32m      8\u001b[0m     \u001b[0my\u001b[0m\u001b[1;33m=\u001b[0m\u001b[0mmultiprocessing\u001b[0m\u001b[1;33m.\u001b[0m\u001b[0mprocess\u001b[0m\u001b[1;33m(\u001b[0m\u001b[0mtarget\u001b[0m\u001b[1;33m=\u001b[0m\u001b[0msquare\u001b[0m\u001b[1;33m,\u001b[0m\u001b[0margs\u001b[0m\u001b[1;33m=\u001b[0m\u001b[1;33m(\u001b[0m\u001b[1;36m10\u001b[0m\u001b[1;33m,\u001b[0m\u001b[1;33m)\u001b[0m\u001b[1;33m)\u001b[0m\u001b[1;33m\u001b[0m\u001b[0m\n\u001b[1;32m----> 9\u001b[1;33m \u001b[0mx\u001b[0m\u001b[1;33m.\u001b[0m\u001b[0mstart\u001b[0m\u001b[1;33m(\u001b[0m\u001b[1;33m)\u001b[0m\u001b[1;33m\u001b[0m\u001b[0m\n\u001b[0m\u001b[0;32m     10\u001b[0m \u001b[0my\u001b[0m\u001b[1;33m.\u001b[0m\u001b[0mstart\u001b[0m\u001b[1;33m(\u001b[0m\u001b[1;33m)\u001b[0m\u001b[1;33m\u001b[0m\u001b[0m\n\u001b[0;32m     11\u001b[0m \u001b[0mx\u001b[0m\u001b[1;33m.\u001b[0m\u001b[0mjoin\u001b[0m\u001b[1;33m(\u001b[0m\u001b[1;33m)\u001b[0m\u001b[1;33m\u001b[0m\u001b[0m\n",
      "\u001b[1;31mNameError\u001b[0m: name 'x' is not defined"
     ]
    }
   ],
   "source": [
    "import multiprocessing\n",
    "def cube(num):\n",
    "    print(\"cube is {}\".format(num*num*num))\n",
    "def square(num):\n",
    "    print('square is {}'.format(num*num))\n",
    "if __name__=='main':\n",
    "    x=multiprocessing.process(target=cube,args=(10,))\n",
    "    y=multiprocessing.process(target=square,args=(10,))\n",
    "x.start()\n",
    "y.start()\n",
    "x.join()\n",
    "y.join()"
   ]
  },
  {
   "cell_type": "code",
   "execution_count": 1,
   "metadata": {},
   "outputs": [
    {
     "name": "stdout",
     "output_type": "stream",
     "text": [
      "Done!\n"
     ]
    }
   ],
   "source": [
    "import multiprocessing \n",
    "def print_cube(num): \n",
    "    print(\"Cube: {}\".format(num * num * num)) \n",
    "def print_square(num):\n",
    "    print(\"Square: {}\".format(num * num)) \n",
    "if __name__ == \"__main__\": \n",
    "    p1 = multiprocessing.Process(target=print_square, args=(10, )) \n",
    "    p2 = multiprocessing.Process(target=print_cube, args=(10, )) \n",
    "    p1.start() \n",
    "    p2.start() \n",
    "  \n",
    "    p1.join() \n",
    "    p2.join() \n",
    "  \n",
    "    \n",
    "    print(\"Done!\") "
   ]
  },
  {
   "cell_type": "code",
   "execution_count": 15,
   "metadata": {},
   "outputs": [
    {
     "name": "stdout",
     "output_type": "stream",
     "text": [
      "[4, 16, 36, 64, 100]\n"
     ]
    }
   ],
   "source": [
    "x=[i**2 for i in range(1,11) if i%2==0]\n",
    "print(x)"
   ]
  },
  {
   "cell_type": "code",
   "execution_count": 19,
   "metadata": {},
   "outputs": [
    {
     "name": "stdout",
     "output_type": "stream",
     "text": [
      "[7, 8]\n"
     ]
    }
   ],
   "source": [
    "x=[1,2,3,4,5,6,7,8]\n",
    "print(x[-2:])"
   ]
  },
  {
   "cell_type": "code",
   "execution_count": 23,
   "metadata": {},
   "outputs": [
    {
     "name": "stdout",
     "output_type": "stream",
     "text": [
      "[1, 2, 3, 4, 5, 6, 7, 8, 9, 10]\n",
      "5\n",
      "5\n"
     ]
    }
   ],
   "source": [
    "x=[i for i in range(1,11)]\n",
    "print(x)\n",
    "total=0\n",
    "for i in x:\n",
    "    if i%2!=0:\n",
    "        total=total+1\n",
    "print(total)\n",
    "y=len(x)-total\n",
    "print(y)"
   ]
  },
  {
   "cell_type": "code",
   "execution_count": 24,
   "metadata": {},
   "outputs": [
    {
     "name": "stdout",
     "output_type": "stream",
     "text": [
      "10\n"
     ]
    }
   ],
   "source": [
    "x=10\n",
    "y=20\n",
    "print(x)"
   ]
  },
  {
   "cell_type": "code",
   "execution_count": 34,
   "metadata": {},
   "outputs": [
    {
     "name": "stdout",
     "output_type": "stream",
     "text": [
      "[[1, 22], 3, 4, 5, 6]\n",
      "[[1, 2], 3, 4, 5]\n"
     ]
    }
   ],
   "source": [
    "import copy\n",
    "x=[[1,2],3,4,5]\n",
    "y=copy.deepcopy(x)\n",
    "y.append(6)\n",
    "y[0][1]=22\n",
    "print(y)\n",
    "print(x)"
   ]
  },
  {
   "cell_type": "code",
   "execution_count": 2,
   "metadata": {},
   "outputs": [
    {
     "ename": "TypeError",
     "evalue": "object() takes no parameters",
     "output_type": "error",
     "traceback": [
      "\u001b[1;31m---------------------------------------------------------------------------\u001b[0m",
      "\u001b[1;31mTypeError\u001b[0m                                 Traceback (most recent call last)",
      "\u001b[1;32m<ipython-input-2-98423009e00f>\u001b[0m in \u001b[0;36m<module>\u001b[1;34m()\u001b[0m\n\u001b[0;32m      8\u001b[0m     \u001b[1;32mdef\u001b[0m \u001b[0mmul\u001b[0m\u001b[1;33m(\u001b[0m\u001b[0ma\u001b[0m\u001b[1;33m,\u001b[0m\u001b[0mb\u001b[0m\u001b[1;33m)\u001b[0m\u001b[1;33m:\u001b[0m\u001b[1;33m\u001b[0m\u001b[0m\n\u001b[0;32m      9\u001b[0m         \u001b[1;32mreturn\u001b[0m \u001b[0ma\u001b[0m\u001b[1;33m*\u001b[0m\u001b[0mb\u001b[0m\u001b[1;33m\u001b[0m\u001b[0m\n\u001b[1;32m---> 10\u001b[1;33m \u001b[0mx\u001b[0m\u001b[1;33m=\u001b[0m\u001b[0mC\u001b[0m\u001b[1;33m(\u001b[0m\u001b[1;36m2\u001b[0m\u001b[1;33m,\u001b[0m\u001b[1;36m3\u001b[0m\u001b[1;33m)\u001b[0m\u001b[1;33m\u001b[0m\u001b[0m\n\u001b[0m\u001b[0;32m     11\u001b[0m \u001b[0mx\u001b[0m\u001b[1;33m.\u001b[0m\u001b[0madd\u001b[0m\u001b[1;33m(\u001b[0m\u001b[1;33m)\u001b[0m\u001b[1;33m\u001b[0m\u001b[0m\n",
      "\u001b[1;31mTypeError\u001b[0m: object() takes no parameters"
     ]
    }
   ],
   "source": [
    "class A:\n",
    "    def add(a,b):\n",
    "        return a+b\n",
    "class B(A):\n",
    "    def sub(a,b):\n",
    "        return a-b\n",
    "class C(B):\n",
    "    def mul(a,b):\n",
    "        return a*b\n",
    "x=C(2,3)\n",
    "x.add()"
   ]
  },
  {
   "cell_type": "code",
   "execution_count": 9,
   "metadata": {},
   "outputs": [
    {
     "name": "stdout",
     "output_type": "stream",
     "text": [
      "the index is: 0 the value of :apple\n",
      "the index is: 1 the value of :banana\n",
      "the index is: 2 the value of :carrot\n",
      "the index is: 3 the value of :drums\n"
     ]
    }
   ],
   "source": [
    "x=['apple','banana','carrot','drums']\n",
    "list(enumerate(x,start=6))\n",
    "for index,value in enumerate(x):\n",
    "    print(\"the index is: \"+str(index),\"the value of :\"+str(value))"
   ]
  },
  {
   "cell_type": "code",
   "execution_count": 10,
   "metadata": {},
   "outputs": [
    {
     "name": "stdout",
     "output_type": "stream",
     "text": [
      "{'a': 'apple', 'b': 'banana', 'c': 'carrot', 'd': 'drums'}\n"
     ]
    }
   ],
   "source": [
    "x=['a','b','c','d']\n",
    "y=['apple','banana','carrot','drums']\n",
    "a={i:j for i,j in zip(x,y)}\n",
    "print(a)"
   ]
  },
  {
   "cell_type": "code",
   "execution_count": 27,
   "metadata": {},
   "outputs": [],
   "source": [
    "x=\"thepresentingoftheentire\"\n",
    "y=[]\n",
    "for i in x:\n",
    "    y.append(i)\n",
    "for j in y:\n",
    "    if j in y:\n",
    "        break\n",
    "    else:\n",
    "        x=y.count(j)\n",
    "        print(x,\"the character is: \",j)"
   ]
  },
  {
   "cell_type": "code",
   "execution_count": 5,
   "metadata": {},
   "outputs": [
    {
     "name": "stdout",
     "output_type": "stream",
     "text": [
      "5 1\n",
      "6 2\n",
      "7 3\n",
      "8 4\n",
      "9 5\n",
      "10 6\n"
     ]
    }
   ],
   "source": [
    "x=[1,2,3,4,5,6]\n",
    "y=list(enumerate(x,start=5))\n",
    "for i,j in y:\n",
    "    print(i,j)\n"
   ]
  },
  {
   "cell_type": "code",
   "execution_count": 10,
   "metadata": {},
   "outputs": [
    {
     "data": {
      "text/plain": [
       "'Hii Good Morning'"
      ]
     },
     "execution_count": 10,
     "metadata": {},
     "output_type": "execute_result"
    }
   ],
   "source": [
    "def outer(func):\n",
    "    def inner():\n",
    "        x=func()\n",
    "        return x.swapcase()\n",
    "    return inner\n",
    "def outer1(func):\n",
    "    def inner():\n",
    "        x=func()\n",
    "        return x.title()\n",
    "    return inner\n",
    "@outer1\n",
    "@outer\n",
    "def wish():\n",
    "    return \"hii good morning\"\n",
    "wish()"
   ]
  },
  {
   "cell_type": "code",
   "execution_count": null,
   "metadata": {},
   "outputs": [],
   "source": [
    "x=[1,2,3,4,5,6]\n",
    "y=enumerate(x,start=7)\n",
    "for i in y:\n",
    "    print(i)"
   ]
  },
  {
   "cell_type": "code",
   "execution_count": 14,
   "metadata": {},
   "outputs": [
    {
     "name": "stdout",
     "output_type": "stream",
     "text": [
      "3\n"
     ]
    },
    {
     "ename": "ValueError",
     "evalue": "list.remove(x): x not in list",
     "output_type": "error",
     "traceback": [
      "\u001b[1;31m---------------------------------------------------------------------------\u001b[0m",
      "\u001b[1;31mValueError\u001b[0m                                Traceback (most recent call last)",
      "\u001b[1;32m<ipython-input-14-fa4088466f82>\u001b[0m in \u001b[0;36m<module>\u001b[1;34m()\u001b[0m\n\u001b[0;32m      3\u001b[0m \u001b[0mtuple\u001b[0m\u001b[1;33m(\u001b[0m\u001b[0mx\u001b[0m\u001b[1;33m)\u001b[0m\u001b[1;33m\u001b[0m\u001b[0m\n\u001b[0;32m      4\u001b[0m \u001b[0mstr\u001b[0m\u001b[1;33m(\u001b[0m\u001b[0mx\u001b[0m\u001b[1;33m)\u001b[0m\u001b[1;33m\u001b[0m\u001b[0m\n\u001b[1;32m----> 5\u001b[1;33m \u001b[0mx\u001b[0m\u001b[1;33m.\u001b[0m\u001b[0mremove\u001b[0m\u001b[1;33m(\u001b[0m\u001b[1;34m','\u001b[0m\u001b[1;33m)\u001b[0m\u001b[1;33m\u001b[0m\u001b[0m\n\u001b[0m",
      "\u001b[1;31mValueError\u001b[0m: list.remove(x): x not in list"
     ]
    }
   ],
   "source": [
    "n=int(input())\n",
    "x=[i for i in range(1,n+1)]\n",
    "tuple(x)\n",
    "str(x)\n",
    "fo"
   ]
  },
  {
   "cell_type": "code",
   "execution_count": 25,
   "metadata": {},
   "outputs": [
    {
     "name": "stdout",
     "output_type": "stream",
     "text": [
      "[5, 4, 3, 3, 2, 2, 2, 1]\n"
     ]
    }
   ],
   "source": [
    "x=[1,2,3,4,5,3,2,2]\n",
    "x.sort(reverse=True)\n",
    "print(x)"
   ]
  },
  {
   "cell_type": "code",
   "execution_count": 32,
   "metadata": {},
   "outputs": [
    {
     "name": "stdout",
     "output_type": "stream",
     "text": [
      "fjajd erts\n"
     ]
    }
   ],
   "source": [
    "x=\"stre djajf\"\n",
    "x[::-1]\n",
    "print(\"\".join(reversed(x)))"
   ]
  },
  {
   "cell_type": "code",
   "execution_count": 33,
   "metadata": {},
   "outputs": [
    {
     "name": "stdout",
     "output_type": "stream",
     "text": [
      "['a', 'b', 'c', 'd']\n"
     ]
    }
   ],
   "source": [
    "x={'a':'apple','d':'door','c':'carrot','b':'banana'}\n",
    "print(sorted(x))"
   ]
  },
  {
   "cell_type": "code",
   "execution_count": 37,
   "metadata": {},
   "outputs": [
    {
     "name": "stdout",
     "output_type": "stream",
     "text": [
      "this is raju 1 and from 2\n"
     ]
    }
   ],
   "source": [
    "print(\"this is raju {} and from {}\".format(1,2))"
   ]
  },
  {
   "cell_type": "code",
   "execution_count": null,
   "metadata": {},
   "outputs": [],
   "source": []
  }
 ],
 "metadata": {
  "kernelspec": {
   "display_name": "Python 3",
   "language": "python",
   "name": "python3"
  },
  "language_info": {
   "codemirror_mode": {
    "name": "ipython",
    "version": 3
   },
   "file_extension": ".py",
   "mimetype": "text/x-python",
   "name": "python",
   "nbconvert_exporter": "python",
   "pygments_lexer": "ipython3",
   "version": "3.6.4"
  }
 },
 "nbformat": 4,
 "nbformat_minor": 2
}
