{
 "cells": [
  {
   "cell_type": "code",
   "execution_count": 6,
   "metadata": {},
   "outputs": [
    {
     "name": "stdout",
     "output_type": "stream",
     "text": [
      "this is feature1\n",
      "this is feature2\n",
      "this is feature3\n",
      "this is feature4\n"
     ]
    }
   ],
   "source": [
    "#inheritence: is nothing but it works on call by reference\n",
    "class A:\n",
    "    def feature1(self):\n",
    "        print(\"this is feature1\")\n",
    "    def feature2(self):\n",
    "        print(\"this is feature2\")\n",
    "class B(A):\n",
    "    def feature3(self):                    #Single level inheritence    A-->B\n",
    "        print(\"this is feature3\")\n",
    "    def feature4(self):\n",
    "        print(\"this is feature4\")\n",
    "b=B()\n",
    "b.feature1()\n",
    "b.feature2()\n",
    "b.feature3()\n",
    "b.feature4()"
   ]
  },
  {
   "cell_type": "code",
   "execution_count": 9,
   "metadata": {},
   "outputs": [
    {
     "name": "stdout",
     "output_type": "stream",
     "text": [
      "this is feature1\n",
      "this is feature3\n",
      "this is feature5\n"
     ]
    }
   ],
   "source": [
    "# Multi Level inheritence\n",
    "class A:\n",
    "    def feature1(self):\n",
    "        print(\"this is feature1\")\n",
    "    def feature2(self):\n",
    "        print(\"this is feature2\")          # A-->B-->c\n",
    "class B(A):\n",
    "    def feature3(self):                 \n",
    "        print(\"this is feature3\")\n",
    "    def feature4(self):\n",
    "        print(\"this is feature4\")\n",
    "class C(B):\n",
    "    def feature5(self):\n",
    "        print(\"this is feature5\")\n",
    "c=C()\n",
    "c.feature1()\n",
    "c.feature3()\n",
    "c.feature5()\n"
   ]
  },
  {
   "cell_type": "code",
   "execution_count": 13,
   "metadata": {},
   "outputs": [
    {
     "name": "stdout",
     "output_type": "stream",
     "text": [
      "this is feature1\n",
      "this is feature2\n",
      "this is feature4\n",
      "this is feature5\n"
     ]
    }
   ],
   "source": [
    "#Multiple inheritenc\n",
    "class A:\n",
    "    def feature1(self):\n",
    "        print(\"this is feature1\")\n",
    "    def feature2(self):\n",
    "        print(\"this is feature2\")          # C-->A,B\n",
    "class B:\n",
    "    def feature3(self):                 \n",
    "        print(\"this is feature3\")\n",
    "    def feature4(self):\n",
    "        print(\"this is feature4\")\n",
    "class C(A,B):\n",
    "    def feature5(self):\n",
    "        print(\"this is feature5\")\n",
    "c=C()\n",
    "c.feature1()\n",
    "c.feature2()\n",
    "c.feature4()\n",
    "c.feature5()"
   ]
  },
  {
   "cell_type": "code",
   "execution_count": 1,
   "metadata": {},
   "outputs": [
    {
     "name": "stdout",
     "output_type": "stream",
     "text": [
      "constructor A\n"
     ]
    }
   ],
   "source": [
    "#Constructor used in inheritence\n",
    "class A:\n",
    "    def __init__(self):\n",
    "        print(\"constructor A\")\n",
    "    def feature1(self):\n",
    "        print(\"this is feature1\")\n",
    "    def feature2(self):\n",
    "        print(\"this is feature2\")       \n",
    "class B(A):\n",
    "    def feature3(self):                 \n",
    "        print(\"this is feature3\")\n",
    "    def feature4(self):\n",
    "        print(\"this is feature4\")\n",
    "b=B()"
   ]
  },
  {
   "cell_type": "code",
   "execution_count": 15,
   "metadata": {},
   "outputs": [
    {
     "name": "stdout",
     "output_type": "stream",
     "text": [
      "constructor B\n"
     ]
    }
   ],
   "source": [
    "class A:\n",
    "    def __init__(self):\n",
    "        print(\"constructor A\")\n",
    "    def feature1(self):\n",
    "        print(\"this is feature1\")\n",
    "    def feature2(self):\n",
    "        print(\"this is feature2\")       \n",
    "class B(A):\n",
    "    def __init__(self):\n",
    "        print(\"constructor B\")\n",
    "    def feature3(self):                 \n",
    "        print(\"this is feature3\")\n",
    "    def feature4(self):\n",
    "        print(\"this is feature4\")\n",
    "b=B()"
   ]
  },
  {
   "cell_type": "code",
   "execution_count": 1,
   "metadata": {},
   "outputs": [
    {
     "name": "stdout",
     "output_type": "stream",
     "text": [
      "constructor A\n",
      "constructor B\n"
     ]
    }
   ],
   "source": [
    "class A:\n",
    "    def __init__(self):\n",
    "        print(\"constructor A\")\n",
    "    def feature1(self):\n",
    "        print(\"this is feature1\")\n",
    "    def feature2(self):\n",
    "        print(\"this is feature2\")       \n",
    "class B(A):\n",
    "    def __init__(self):\n",
    "        super().__init__()#It is the super set of the super class\n",
    "        print(\"constructor B\")\n",
    "    def feature3(self):                 \n",
    "        print(\"this is feature3\")\n",
    "    def feature4(self):\n",
    "        print(\"this is feature4\")\n",
    "b=B()"
   ]
  },
  {
   "cell_type": "code",
   "execution_count": 21,
   "metadata": {},
   "outputs": [
    {
     "name": "stdout",
     "output_type": "stream",
     "text": [
      "constructor A\n",
      "constructor C\n"
     ]
    }
   ],
   "source": [
    "class A:\n",
    "    def __init__(self):\n",
    "        print(\"constructor A\")\n",
    "    def feature1(self):\n",
    "        print(\"this is feature1\")\n",
    "    def feature2(self):\n",
    "        print(\"this is feature2\")       \n",
    "class B:\n",
    "    def __init__(self):\n",
    "        print(\"constructor B\")\n",
    "    def feature3(self):                 \n",
    "        print(\"this is feature3\")\n",
    "    def feature4(self):\n",
    "        print(\"this is feature4\")\n",
    "class C(A,B):\n",
    "    def __init__(self):\n",
    "        super().__init__()\n",
    "        print(\"constructor C\")\n",
    "    def feature5(self):\n",
    "        print(\"this is freature5\")#because always constructor go to the left class only.it depends on (MODULE RESOLUTION OREDER) formula\n",
    "c=C()"
   ]
  },
  {
   "cell_type": "code",
   "execution_count": null,
   "metadata": {},
   "outputs": [],
   "source": []
  },
  {
   "cell_type": "code",
   "execution_count": null,
   "metadata": {},
   "outputs": [],
   "source": []
  }
 ],
 "metadata": {
  "kernelspec": {
   "display_name": "Python 3",
   "language": "python",
   "name": "python3"
  },
  "language_info": {
   "codemirror_mode": {
    "name": "ipython",
    "version": 3
   },
   "file_extension": ".py",
   "mimetype": "text/x-python",
   "name": "python",
   "nbconvert_exporter": "python",
   "pygments_lexer": "ipython3",
   "version": "3.6.4"
  }
 },
 "nbformat": 4,
 "nbformat_minor": 2
}
