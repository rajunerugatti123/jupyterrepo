{
 "cells": [
  {
   "cell_type": "code",
   "execution_count": 2,
   "metadata": {},
   "outputs": [
    {
     "name": "stdout",
     "output_type": "stream",
     "text": [
      "{'product_id': 1234, 'value': 'CameraModule'}\n"
     ]
    }
   ],
   "source": [
    "x={'ProductId':1234,'value':'CameraModule'}\n",
    "y=[]\n",
    "z=[]\n",
    "for i in x.keys():\n",
    "    a=\"\"\n",
    "    for j in i:\n",
    "        if j==j.upper():\n",
    "            j=j.lower()\n",
    "            j=\"_\"+j\n",
    "            a=a+j\n",
    "        else:\n",
    "            a=a+j\n",
    "    if a[0]==\"_\":\n",
    "        a=a[1:]\n",
    "        y.append(a)\n",
    "    else:\n",
    "        y.append(a)\n",
    "for k in x.values():\n",
    "    z.append(k)\n",
    "b={m:n for m,n in zip(y,z)}\n",
    "print(b)\n",
    "    "
   ]
  },
  {
   "cell_type": "code",
   "execution_count": 2,
   "metadata": {},
   "outputs": [
    {
     "name": "stdout",
     "output_type": "stream",
     "text": [
      "Enter the number:10\n",
      "\n",
      "9 \n",
      "9 8 \n",
      "9 8 7 \n",
      "9 8 7 6 \n",
      "9 8 7 6 5 \n",
      "9 8 7 6 5 4 \n",
      "9 8 7 6 5 4 3 \n",
      "9 8 7 6 5 4 3 2 \n",
      "9 8 7 6 5 4 3 2 1 \n"
     ]
    }
   ],
   "source": [
    "n=int(input(\"Enter the number:\"))\n",
    "for i in range(n):\n",
    "    for j in range(1,i+1):\n",
    "        print(n-j,end=\" \")\n",
    "    print()"
   ]
  },
  {
   "cell_type": "code",
   "execution_count": 9,
   "metadata": {},
   "outputs": [
    {
     "name": "stdout",
     "output_type": "stream",
     "text": [
      "[7, 6, 6, 5, 5, 4, 4, 3, 3, 2, 2, 1, 1]\n"
     ]
    }
   ],
   "source": [
    "x=[\"apple\", \"banana\", \"cherry\"]\n",
    "y=[1,2,3,4,5,6,7,6,5,4,3,2,1]\n",
    "y.sort(reverse=True)\n",
    "print(y)"
   ]
  },
  {
   "cell_type": "code",
   "execution_count": 53,
   "metadata": {},
   "outputs": [
    {
     "name": "stdout",
     "output_type": "stream",
     "text": [
      "('apple', 'banana', 'cherry', 1, 2, 3)\n"
     ]
    }
   ],
   "source": [
    "x=(\"apple\", \"banana\", \"cherry\")\n",
    "y=(1,2,3)\n",
    "z=x+y\n",
    "print(z)"
   ]
  },
  {
   "cell_type": "code",
   "execution_count": 68,
   "metadata": {},
   "outputs": [
    {
     "name": "stdout",
     "output_type": "stream",
     "text": [
      "Ford\n",
      "raju\n",
      "1964\n",
      "brand\n",
      "model\n",
      "year\n",
      "brand Ford\n",
      "model raju\n",
      "year 1964\n",
      "{'brand': 'Ford', 'model': 'raju', 'year': 1964, 'name': 'raju'}\n",
      "{'brand': 'Ford', 'model': 'raju', 'year': 1964}\n",
      "{'brand': 'Ford', 'model': 'raju'}\n",
      "{}\n"
     ]
    }
   ],
   "source": [
    "x={\"brand\": \"Ford\",\"model\": \"Mustang\",\"year\": 1964}\n",
    "x['model']='raju'\n",
    "x.get('model')\n",
    "for i in x:\n",
    "    print(x[i])\n",
    "for i in x.keys():\n",
    "    print(i)\n",
    "for i,j in x.items():\n",
    "    print(i,j)\n",
    "x['name']='raju'\n",
    "print(x)\n",
    "x.pop('name')\n",
    "print(x)\n",
    "x.popitem()\n",
    "print(x)\n",
    "x.clear()\n",
    "print(x)"
   ]
  },
  {
   "cell_type": "code",
   "execution_count": 77,
   "metadata": {},
   "outputs": [
    {
     "name": "stdout",
     "output_type": "stream",
     "text": [
      "{'brand': 'Ford', 'model': 'Mustang', 'year': 1964}\n",
      "{'brand': 'Ford', 'model': 'Mustang', 'year': 1964, 'color': 'yellow'}\n",
      "['a', 'b', 'c']\n"
     ]
    }
   ],
   "source": [
    "x=dict(brand=\"Ford\", model=\"Mustang\", year=1964)\n",
    "print(x)\n",
    "x.update({'color':'red'})\n",
    "x.update({'color':'yellow'})\n",
    "print(x)\n",
    "y={'a':1,'b':2,'c':3}"
   ]
  },
  {
   "cell_type": "code",
   "execution_count": 85,
   "metadata": {},
   "outputs": [
    {
     "name": "stdout",
     "output_type": "stream",
     "text": [
      "{'apple', 'cherry', 'orange', 'banana'}\n",
      "{'orange', 'a', 'banana', 'b', 'cherry', 'apple', 'c'}\n",
      "{'orange', 'banana', 'b', 'cherry', 'apple', 'c'}\n",
      "{'orange', 'banana', 'cherry', 'apple', 'c'}\n",
      "{'banana', 'cherry', 'apple', 'c'}\n",
      "set()\n"
     ]
    }
   ],
   "source": [
    "x={\"apple\", \"banana\", \"cherry\"}\n",
    "x.add('orange')\n",
    "print(x)\n",
    "x.update(['a','b','c'])\n",
    "print(x)\n",
    "x.remove('a')\n",
    "print(x)\n",
    "x.discard('b')\n",
    "print(x)\n",
    "x.pop()\n",
    "print(x)"
   ]
  },
  {
   "cell_type": "code",
   "execution_count": 95,
   "metadata": {},
   "outputs": [
    {
     "name": "stdout",
     "output_type": "stream",
     "text": [
      "{1, 2, 4, 'b', 'c'}\n"
     ]
    }
   ],
   "source": [
    "x={'a','b','c'}\n",
    "y={1,2,4,'a'}\n",
    "#z=x.difference(y)\n",
    "z=x.symmetric_difference(y)\n",
    "print(z)"
   ]
  },
  {
   "cell_type": "code",
   "execution_count": 13,
   "metadata": {},
   "outputs": [
    {
     "data": {
      "text/plain": [
       "'taaerg eht si ujar'"
      ]
     },
     "execution_count": 13,
     "metadata": {},
     "output_type": "execute_result"
    }
   ],
   "source": [
    "x=\"raju is the greaat\"\n",
    "x.split(\",\")\n",
    "x.replace('i',\"1\")\n",
    "x.capitalize()\n",
    "x.casefold()\n",
    "x.center(20)\n",
    "x.count('i')\n",
    "x.encode()\n",
    "x.endswith('t')\n",
    "x.find('i')\n",
    "\"*\".join(x)\n",
    "x[::-1]\n",
    "\"\".join(reversed(x))\n",
    "\n"
   ]
  },
  {
   "cell_type": "code",
   "execution_count": 2,
   "metadata": {},
   "outputs": [
    {
     "data": {
      "text/plain": [
       "'raju'"
      ]
     },
     "execution_count": 2,
     "metadata": {},
     "output_type": "execute_result"
    }
   ],
   "source": []
  },
  {
   "cell_type": "code",
   "execution_count": null,
   "metadata": {},
   "outputs": [],
   "source": []
  }
 ],
 "metadata": {
  "kernelspec": {
   "display_name": "Python 3",
   "language": "python",
   "name": "python3"
  },
  "language_info": {
   "codemirror_mode": {
    "name": "ipython",
    "version": 3
   },
   "file_extension": ".py",
   "mimetype": "text/x-python",
   "name": "python",
   "nbconvert_exporter": "python",
   "pygments_lexer": "ipython3",
   "version": "3.6.4"
  }
 },
 "nbformat": 4,
 "nbformat_minor": 2
}
