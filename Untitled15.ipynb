{
 "cells": [
  {
   "cell_type": "code",
   "execution_count": 16,
   "metadata": {},
   "outputs": [
    {
     "name": "stdout",
     "output_type": "stream",
     "text": [
      "['apple', 'banana', 'cherry', 'orange']\n"
     ]
    }
   ],
   "source": [
    "x = ['apple', 'banana', 'cherry']\n",
    "y=['stawberry','blackberry','whiteberry']\n",
    "x.append(\"orange\")\n",
    "x.remove(\"banana\")\n",
    "x.sort()\n",
    "x.insert(1,\"stawberry\")\n",
    "x.count(\"apple\")\n",
    "x.index(\"appple\")\n",
    "x.pop()\n",
    "x.extend(y)\n",
    "x.clear()\n",
    "x.copy()\n",
    "x.reverse()\n",
    "print(x)"
   ]
  },
  {
   "cell_type": "code",
   "execution_count": 35,
   "metadata": {},
   "outputs": [
    {
     "name": "stdout",
     "output_type": "stream",
     "text": [
      "{'apple', 'cherry', 'banana', 'stawberry', 'whiteberry'}\n"
     ]
    }
   ],
   "source": [
    "x={\"apple\", \"banana\", \"cherry\"}\n",
    "y={'stawberry','banana','whiteberry'}\n",
    "a=x.union(y)\n",
    "print(a)\n"
   ]
  },
  {
   "cell_type": "code",
   "execution_count": 39,
   "metadata": {},
   "outputs": [
    {
     "name": "stdout",
     "output_type": "stream",
     "text": [
      "15\n"
     ]
    }
   ],
   "source": [
    "x=lambda a:a+10\n",
    "print(x(5))"
   ]
  },
  {
   "cell_type": "code",
   "execution_count": 40,
   "metadata": {},
   "outputs": [
    {
     "name": "stdout",
     "output_type": "stream",
     "text": [
      "50\n"
     ]
    }
   ],
   "source": [
    "def myfunc(n):\n",
    "    return lambda a:a*n\n",
    "x=myfunc(5)\n",
    "print(x(10))"
   ]
  },
  {
   "cell_type": "code",
   "execution_count": 47,
   "metadata": {},
   "outputs": [
    {
     "name": "stdout",
     "output_type": "stream",
     "text": [
      "10\n",
      "None\n",
      "20\n",
      "None\n"
     ]
    }
   ],
   "source": [
    "x=10\n",
    "def raju():\n",
    "        print(x)\n",
    "def rajesh():\n",
    "        x=20\n",
    "        print(x)\n",
    "print(raju())\n",
    "print(rajesh())"
   ]
  },
  {
   "cell_type": "code",
   "execution_count": null,
   "metadata": {},
   "outputs": [],
   "source": []
  },
  {
   "cell_type": "code",
   "execution_count": null,
   "metadata": {},
   "outputs": [],
   "source": []
  }
 ],
 "metadata": {
  "kernelspec": {
   "display_name": "Python 3",
   "language": "python",
   "name": "python3"
  },
  "language_info": {
   "codemirror_mode": {
    "name": "ipython",
    "version": 3
   },
   "file_extension": ".py",
   "mimetype": "text/x-python",
   "name": "python",
   "nbconvert_exporter": "python",
   "pygments_lexer": "ipython3",
   "version": "3.6.4"
  }
 },
 "nbformat": 4,
 "nbformat_minor": 2
}
