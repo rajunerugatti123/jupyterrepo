{
 "cells": [
  {
   "cell_type": "code",
   "execution_count": 4,
   "metadata": {},
   "outputs": [
    {
     "name": "stdout",
     "output_type": "stream",
     "text": [
      "300\n"
     ]
    }
   ],
   "source": [
    "class BOOK:\n",
    "    def __init__(self,pages):\n",
    "        self.pages=pages\n",
    "    def __add__(self,other):\n",
    "        print(self.pages+other.pages)\n",
    "x=BOOK(100)\n",
    "y=BOOK(200)\n",
    "x+y"
   ]
  },
  {
   "cell_type": "code",
   "execution_count": 16,
   "metadata": {},
   "outputs": [],
   "source": [
    "class BOOK:\n",
    "    def __init__(self,pages):\n",
    "        self.pages=pages\n",
    "    def __str__(self):\n",
    "        return \"the total pages are\"+str(self.pages)\n",
    "x=BOOK(100)"
   ]
  },
  {
   "cell_type": "code",
   "execution_count": 17,
   "metadata": {},
   "outputs": [
    {
     "data": {
      "text/plain": [
       "3"
      ]
     },
     "execution_count": 17,
     "metadata": {},
     "output_type": "execute_result"
    }
   ],
   "source": [
    "#method overlaoding\n",
    "class student:\n",
    "    def raju(self,a=None,b=None,c=None):\n",
    "        s=0\n",
    "        if a!=None and b!=None and c!=None:\n",
    "            s=a+b+c\n",
    "        elif a!=None and b!=None:\n",
    "            s=a+b\n",
    "        else:\n",
    "            s=a\n",
    "        return s\n",
    "x=student()\n",
    "x.raju(1,2)"
   ]
  },
  {
   "cell_type": "code",
   "execution_count": 30,
   "metadata": {},
   "outputs": [
    {
     "name": "stdout",
     "output_type": "stream",
     "text": [
      "raju\n",
      "raakesh\n"
     ]
    }
   ],
   "source": [
    "#method overriding\n",
    "class A:\n",
    "    def proper(self):\n",
    "        print(\"100 ecors\")\n",
    "    def friend(self):\n",
    "        print(\"raju\")\n",
    "class B(A):\n",
    "    def friend(self):\n",
    "        super().friend()\n",
    "        print(\"raakesh\")\n",
    "x=B()\n",
    "x.friend()"
   ]
  },
  {
   "cell_type": "code",
   "execution_count": 36,
   "metadata": {},
   "outputs": [
    {
     "name": "stdout",
     "output_type": "stream",
     "text": [
      "1\n",
      "2\n",
      "3\n",
      "4\n",
      "5\n",
      "6\n",
      "7\n",
      "8\n",
      "9\n",
      "10\n"
     ]
    }
   ],
   "source": [
    "from threading import Thread\n",
    "from time import sleep\n",
    "class A(Thread):\n",
    "    def run(self):\n",
    "        for i in range(1,11):\n",
    "            if i%2!=0:\n",
    "                print(i)\n",
    "                sleep(0.5)\n",
    "class B(Thread):\n",
    "    def run(self):\n",
    "        for j in range(1,11):\n",
    "            if j%2==0:\n",
    "                print(j)\n",
    "                sleep(0.5)\n",
    "x=A()\n",
    "y=B()\n",
    "x.start()\n",
    "sleep(0.3)\n",
    "y.start()"
   ]
  },
  {
   "cell_type": "code",
   "execution_count": 46,
   "metadata": {},
   "outputs": [
    {
     "name": "stdout",
     "output_type": "stream",
     "text": [
      "Enter the number:0\n",
      "1\n",
      "this the entire problem\n"
     ]
    }
   ],
   "source": [
    "import math\n",
    "n=int(input(\"Enter the number:\"))\n",
    "try:\n",
    "    y=math.factorial(n)\n",
    "    print(y)\n",
    "except:\n",
    "    print(\"negative numberas ar not allowed\")\n",
    "finally:\n",
    "    print(\"this the entire problem\")"
   ]
  },
  {
   "cell_type": "code",
   "execution_count": 55,
   "metadata": {},
   "outputs": [
    {
     "name": "stdout",
     "output_type": "stream",
     "text": [
      "aa\n",
      "\n",
      "\n",
      "\n",
      "\n",
      "\n",
      "\n",
      "\n"
     ]
    }
   ],
   "source": [
    "import re\n",
    "m=re.finditer('a*','aa7b@k9z')\n",
    "for i in m:\n",
    "    print(i.group())"
   ]
  },
  {
   "cell_type": "code",
   "execution_count": 2,
   "metadata": {},
   "outputs": [
    {
     "name": "stdout",
     "output_type": "stream",
     "text": [
      "aa\n"
     ]
    }
   ],
   "source": [
    "import re\n",
    "x=re.finditer(\"a+\",\"aa7b@k9z\")\n",
    "for i in x:\n",
    "    print(i.group())"
   ]
  },
  {
   "cell_type": "code",
   "execution_count": null,
   "metadata": {},
   "outputs": [],
   "source": [
    "import math\n",
    "n=int(input(\"enter the input\"))\n",
    "if n<0:\n",
    "    print(\"negative values does not exist\")\n",
    "e"
   ]
  }
 ],
 "metadata": {
  "kernelspec": {
   "display_name": "Python 3",
   "language": "python",
   "name": "python3"
  },
  "language_info": {
   "codemirror_mode": {
    "name": "ipython",
    "version": 3
   },
   "file_extension": ".py",
   "mimetype": "text/x-python",
   "name": "python",
   "nbconvert_exporter": "python",
   "pygments_lexer": "ipython3",
   "version": "3.6.4"
  }
 },
 "nbformat": 4,
 "nbformat_minor": 2
}
