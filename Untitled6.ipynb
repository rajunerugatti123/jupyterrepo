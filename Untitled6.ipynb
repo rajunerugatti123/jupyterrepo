{
 "cells": [
  {
   "cell_type": "code",
   "execution_count": 1,
   "metadata": {},
   "outputs": [
    {
     "name": "stdout",
     "output_type": "stream",
     "text": [
      "{1: 'a', 2: 'd', 4: 'c', 6: 'e', 5: 'f'}\n",
      "[1, 2, 4, 5, 6]\n"
     ]
    }
   ],
   "source": [
    "x=[1,2,4,2,6,5]\n",
    "y=['a','b','c','d','e','f']\n",
    "z={i:j for (i,j) in zip(x,y)}\n",
    "print(z)\n",
    "print(sorted(z.keys()))"
   ]
  },
  {
   "cell_type": "code",
   "execution_count": 19,
   "metadata": {},
   "outputs": [
    {
     "name": "stdout",
     "output_type": "stream",
     "text": [
      "d\n",
      "c\n"
     ]
    }
   ],
   "source": [
    "x=[1,2,4,2,6,5]\n",
    "y=['a','b','c','d','e','f']\n",
    "z={i:j for (i,j) in zip(x,y)}\n",
    "m=sorted(z.items())\n",
    "print(m[1][1])\n",
    "print(m[2][1])"
   ]
  },
  {
   "cell_type": "code",
   "execution_count": 15,
   "metadata": {},
   "outputs": [
    {
     "name": "stdout",
     "output_type": "stream",
     "text": [
      "[('c', 3), ('b', 2), ('a', 1)]\n"
     ]
    },
    {
     "ename": "AttributeError",
     "evalue": "'list' object has no attribute 'keys'",
     "output_type": "error",
     "traceback": [
      "\u001b[1;31m---------------------------------------------------------------------------\u001b[0m",
      "\u001b[1;31mAttributeError\u001b[0m                            Traceback (most recent call last)",
      "\u001b[1;32m<ipython-input-15-3c633baed834>\u001b[0m in \u001b[0;36m<module>\u001b[1;34m()\u001b[0m\n\u001b[0;32m      4\u001b[0m \u001b[0mcd\u001b[0m \u001b[1;33m=\u001b[0m \u001b[0msorted\u001b[0m\u001b[1;33m(\u001b[0m\u001b[0md\u001b[0m\u001b[1;33m.\u001b[0m\u001b[0mitems\u001b[0m\u001b[1;33m(\u001b[0m\u001b[1;33m)\u001b[0m\u001b[1;33m,\u001b[0m\u001b[0mkey\u001b[0m\u001b[1;33m=\u001b[0m\u001b[0moperator\u001b[0m\u001b[1;33m.\u001b[0m\u001b[0mitemgetter\u001b[0m\u001b[1;33m(\u001b[0m\u001b[1;36m1\u001b[0m\u001b[1;33m)\u001b[0m\u001b[1;33m,\u001b[0m\u001b[0mreverse\u001b[0m\u001b[1;33m=\u001b[0m\u001b[1;32mTrue\u001b[0m\u001b[1;33m)\u001b[0m\u001b[1;33m\u001b[0m\u001b[0m\n\u001b[0;32m      5\u001b[0m \u001b[0mprint\u001b[0m\u001b[1;33m(\u001b[0m\u001b[0mcd\u001b[0m\u001b[1;33m)\u001b[0m\u001b[1;33m\u001b[0m\u001b[0m\n\u001b[1;32m----> 6\u001b[1;33m \u001b[1;32mfor\u001b[0m \u001b[0mi\u001b[0m \u001b[1;32min\u001b[0m \u001b[0mcd\u001b[0m\u001b[1;33m.\u001b[0m\u001b[0mkeys\u001b[0m\u001b[1;33m(\u001b[0m\u001b[1;33m)\u001b[0m\u001b[1;33m:\u001b[0m\u001b[1;33m\u001b[0m\u001b[0m\n\u001b[0m\u001b[0;32m      7\u001b[0m     \u001b[0mprint\u001b[0m\u001b[1;33m(\u001b[0m\u001b[0mi\u001b[0m\u001b[1;33m)\u001b[0m\u001b[1;33m\u001b[0m\u001b[0m\n",
      "\u001b[1;31mAttributeError\u001b[0m: 'list' object has no attribute 'keys'"
     ]
    }
   ],
   "source": [
    "import operator\n",
    "\n",
    "d = {\"a\":1, \"b\":2, \"c\":3}\n",
    "cd = sorted(d.items(),key=operator.itemgetter(1),reverse=True)\n",
    "print(cd)\n",
    "for i in cd.keys():\n",
    "    print(i)\n"
   ]
  },
  {
   "cell_type": "code",
   "execution_count": 9,
   "metadata": {},
   "outputs": [
    {
     "name": "stdout",
     "output_type": "stream",
     "text": [
      "4\n",
      "2\n"
     ]
    }
   ],
   "source": [
    "a1 = {'a':1, 'b':13, 'b':4, 'c':2, 'e':30}\n",
    "x=[]\n",
    "for i in a1.values():\n",
    "    x.append(i)\n",
    "print(x[1])\n",
    "print(x[2])\n"
   ]
  },
  {
   "cell_type": "code",
   "execution_count": 16,
   "metadata": {},
   "outputs": [
    {
     "name": "stdout",
     "output_type": "stream",
     "text": [
      "6.5\n"
     ]
    }
   ],
   "source": [
    "a=1.5\n",
    "b=5\n",
    "print(a+b)"
   ]
  },
  {
   "cell_type": "code",
   "execution_count": 25,
   "metadata": {},
   "outputs": [
    {
     "name": "stdout",
     "output_type": "stream",
     "text": [
      "[[1, 2], [7, 6], [9, 5], [11, 4]]\n"
     ]
    }
   ],
   "source": [
    "x=[[1,2],[11,4],[7,6],[9,5]]\n",
    "print(sorted(x))"
   ]
  },
  {
   "cell_type": "code",
   "execution_count": 35,
   "metadata": {},
   "outputs": [
    {
     "name": "stdout",
     "output_type": "stream",
     "text": [
      "5\n",
      "harry\n",
      "37.21\n",
      "barry\n",
      "37.21\n",
      "carry\n",
      "37.2\n",
      "marry\n",
      "43.5\n",
      "dorry\n",
      "56.7\n",
      "[[37.21, 'harry'], [37.21, 'barry'], [37.2, 'carry'], [43.5, 'marry'], [56.7, 'dorry']]\n",
      "barry\n"
     ]
    }
   ],
   "source": [
    "x=[]\n",
    "for i in range(int(input())):\n",
    "    y=[]\n",
    "    name = input()\n",
    "    score = float(input())\n",
    "    y.append(score)\n",
    "    y.append(name)\n",
    "    x.append(y)\n",
    "sorted(x)\n",
    "print(x)\n",
    "if x[0][0]==x[1][0]:\n",
    "    print(x[0][1])\n",
    "    print(x[1][1])\n",
    "else:\n",
    "    print(x[0][1])\n",
    "\n",
    "\n"
   ]
  },
  {
   "cell_type": "code",
   "execution_count": 10,
   "metadata": {},
   "outputs": [
    {
     "name": "stdout",
     "output_type": "stream",
     "text": [
      "2\n",
      "raju 3 4 5\n",
      "ramesh 3 6 4\n",
      "ramesh\n",
      "4.33\n"
     ]
    }
   ],
   "source": [
    "d={}\n",
    "for i in range(int(input())):\n",
    "    line=input().split()\n",
    "    d[line[0]]=sum(map(float,line[1:]))/3\n",
    "print('%.2f' % d[input()])"
   ]
  },
  {
   "cell_type": "code",
   "execution_count": 14,
   "metadata": {},
   "outputs": [
    {
     "name": "stdout",
     "output_type": "stream",
     "text": [
      "[0, 1, 2, 4, 6, 8]\n"
     ]
    }
   ],
   "source": [
    "x=[[1,7],[13,1],[5,6,2]]\n",
    "y=[4,8,6,2,1,0]\n",
    "print(sorted(y))"
   ]
  },
  {
   "cell_type": "raw",
   "metadata": {},
   "source": [
    "print(\"raju)"
   ]
  },
  {
   "cell_type": "code",
   "execution_count": 17,
   "metadata": {},
   "outputs": [
    {
     "name": "stdout",
     "output_type": "stream",
     "text": [
      "[1, 2, 3, 4, 5, [6, 7]]\n",
      "[1, 2, 3, 4, 5, [6, 7], 9]\n",
      "[1, 2, 3, 4, 5, [77, 7], 9]\n",
      "[1, 2, 3, 4, 5, [77, 7]]\n"
     ]
    }
   ],
   "source": [
    "x=[1,2,3,4,5,[6,7]]\n",
    "import copy\n",
    "y=copy.copy(x)\n",
    "print(y)\n",
    "y.append(9)\n",
    "print(y)\n",
    "y[5][0]=77\n",
    "print(y)\n",
    "print(x)"
   ]
  },
  {
   "cell_type": "code",
   "execution_count": 23,
   "metadata": {},
   "outputs": [
    {
     "name": "stdout",
     "output_type": "stream",
     "text": [
      "0 = a\n",
      "1 = b\n",
      "2 = c\n",
      "10 = a\n"
     ]
    }
   ],
   "source": [
    "import re\n",
    "x=re.finditer('[abc]',\"abcddkj477a838\")\n",
    "for i in x:\n",
    "    print(i.start(),'=',i.group())"
   ]
  },
  {
   "cell_type": "code",
   "execution_count": 25,
   "metadata": {},
   "outputs": [
    {
     "data": {
      "text/plain": [
       "('the sum of total', 6)"
      ]
     },
     "execution_count": 25,
     "metadata": {},
     "output_type": "execute_result"
    }
   ],
   "source": [
    "def sum(*a):\n",
    "    total=0\n",
    "    for i in a:\n",
    "        total=total+i\n",
    "    return 'the sum of total',total\n",
    "sum(1,2,3)"
   ]
  },
  {
   "cell_type": "code",
   "execution_count": 31,
   "metadata": {},
   "outputs": [
    {
     "name": "stdout",
     "output_type": "stream",
     "text": [
      "raju\n",
      "{'a': 20, 'names': 'rajjj', 'addr': 'hyd'}\n"
     ]
    }
   ],
   "source": [
    "def rrr(name,**data):\n",
    "    print(name)\n",
    "    print(data)\n",
    "rrr('raju',a=20,names='rajjj',addr='hyd')"
   ]
  },
  {
   "cell_type": "code",
   "execution_count": 34,
   "metadata": {},
   "outputs": [
    {
     "name": "stdout",
     "output_type": "stream",
     "text": [
      "<class 'dict'>\n",
      "{\"a\": \"apple\", \"b\": \"banana\"}\n",
      "<class 'str'>\n"
     ]
    }
   ],
   "source": [
    "import json\n",
    "x={'a':'apple','b':'banana'}\n",
    "print(type(x))\n",
    "y=json.dumps(x)\n",
    "print(y)\n",
    "print(type(y))\n",
    "#to convert the python dictionary into json format string."
   ]
  },
  {
   "cell_type": "code",
   "execution_count": 35,
   "metadata": {},
   "outputs": [
    {
     "name": "stdout",
     "output_type": "stream",
     "text": [
      "<class 'str'>\n",
      "<class 'dict'>\n",
      "{'a': 'apple', 'b': 'bannaa'}\n"
     ]
    }
   ],
   "source": [
    "import json\n",
    "x={'a':'apple','b':'bannaa'}\n",
    "y=json.dumps(x)\n",
    "print(type(y))\n",
    "z=json.loads(y)\n",
    "print(type(z))\n",
    "print(z)\n",
    "#to convert  the json format string into python dictionary."
   ]
  },
  {
   "cell_type": "code",
   "execution_count": 6,
   "metadata": {},
   "outputs": [
    {
     "name": "stdout",
     "output_type": "stream",
     "text": [
      "1 a\n",
      "2 b\n",
      "4 c\n",
      "5 d\n",
      "6 e\n"
     ]
    }
   ],
   "source": [
    "from itertools import *\n",
    "x=[1,2,4,5,6]\n",
    "y=[\"a\",\"b\",\"c\",\"d\",\"e\"]\n",
    "for i,j in zip(x,y):\n",
    "    print(i,j)"
   ]
  },
  {
   "cell_type": "code",
   "execution_count": 12,
   "metadata": {
    "scrolled": true
   },
   "outputs": [
    {
     "name": "stdout",
     "output_type": "stream",
     "text": [
      "[7, 7, 7, 7, 7, 7]\n",
      "[7, 7, 7, 7, 7, 7]\n"
     ]
    },
    {
     "ename": "TypeError",
     "evalue": "object of type 'int' has no len()",
     "output_type": "error",
     "traceback": [
      "\u001b[1;31m---------------------------------------------------------------------------\u001b[0m",
      "\u001b[1;31mTypeError\u001b[0m                                 Traceback (most recent call last)",
      "\u001b[1;32m<ipython-input-12-32bffc51b64d>\u001b[0m in \u001b[0;36m<module>\u001b[1;34m()\u001b[0m\n\u001b[0;32m      6\u001b[0m \u001b[0mprint\u001b[0m\u001b[1;33m(\u001b[0m\u001b[0mz\u001b[0m\u001b[1;33m)\u001b[0m\u001b[1;33m\u001b[0m\u001b[0m\n\u001b[0;32m      7\u001b[0m \u001b[0mprint\u001b[0m\u001b[1;33m(\u001b[0m\u001b[0mlist\u001b[0m\u001b[1;33m(\u001b[0m\u001b[0mmap\u001b[0m\u001b[1;33m(\u001b[0m\u001b[0msum\u001b[0m\u001b[1;33m,\u001b[0m\u001b[0mzip\u001b[0m\u001b[1;33m(\u001b[0m\u001b[0mx\u001b[0m\u001b[1;33m,\u001b[0m\u001b[0my\u001b[0m\u001b[1;33m)\u001b[0m\u001b[1;33m)\u001b[0m\u001b[1;33m)\u001b[0m\u001b[1;33m)\u001b[0m\u001b[1;33m\u001b[0m\u001b[0m\n\u001b[1;32m----> 8\u001b[1;33m \u001b[0mprint\u001b[0m\u001b[1;33m(\u001b[0m\u001b[0mlist\u001b[0m\u001b[1;33m(\u001b[0m\u001b[0mmap\u001b[0m\u001b[1;33m(\u001b[0m\u001b[0mlen\u001b[0m\u001b[1;33m,\u001b[0m\u001b[0mx\u001b[0m\u001b[1;33m)\u001b[0m\u001b[1;33m)\u001b[0m\u001b[1;33m)\u001b[0m\u001b[1;33m\u001b[0m\u001b[0m\n\u001b[0m\u001b[0;32m      9\u001b[0m \u001b[1;33m\u001b[0m\u001b[0m\n",
      "\u001b[1;31mTypeError\u001b[0m: object of type 'int' has no len()"
     ]
    }
   ],
   "source": [
    "x=[1,2,3,4,5,6]\n",
    "y=[6,5,4,3,2,1]\n",
    "z=[]\n",
    "for i in range(len(x)):\n",
    "    z.append(x[i]+y[i])\n",
    "print(z)\n",
    "print(list(map(sum,zip(x,y))))\n",
    "print(list(map(len,x)))\n",
    "    "
   ]
  },
  {
   "cell_type": "code",
   "execution_count": 12,
   "metadata": {},
   "outputs": [
    {
     "name": "stdout",
     "output_type": "stream",
     "text": [
      "3\n",
      "a 67 68 69\n",
      "b 70 98 60\n",
      "c 52 56 60\n",
      "['a', 'b', 'c']\n",
      "[68.0, 76.0, 56.0]\n"
     ]
    }
   ],
   "source": [
    "n=int(input())\n",
    "a=[]\n",
    "b=[]\n",
    "for i in range(n):\n",
    "    x=list(map(str,input().split()))\n",
    "    a.append(x[0])\n",
    "    x.remove(x[0])\n",
    "    total=0\n",
    "    for i in x:\n",
    "        total=total+int(i)\n",
    "        \n",
    "    total='.2f'format((total/3))\n",
    "    b.append(total)\n",
    "print(a)\n",
    "print(b)\n",
    "    \n",
    "        \n",
    "    "
   ]
  },
  {
   "cell_type": "code",
   "execution_count": 6,
   "metadata": {},
   "outputs": [
    {
     "name": "stdout",
     "output_type": "stream",
     "text": [
      "2\n",
      "h 25 26.5 28\n",
      "a 26 28 30\n",
      "h\n",
      "26.50\n"
     ]
    }
   ],
   "source": [
    "n=int(input())\n",
    "a=[]\n",
    "b=[]\n",
    "for i in range(n):\n",
    "    x=list(map(str,input().split()))\n",
    "    a.append(x[0])\n",
    "    x.remove(x[0])\n",
    "    total=0\n",
    "    for i in x:\n",
    "        total=total+float(i)\n",
    "    y=total/3\n",
    "    total='%.2f'%y\n",
    "    b.append(total)\n",
    "z={k:v for k,v in zip(a,b)}\n",
    "m=input()\n",
    "print(z[m])\n",
    "    \n",
    "        \n",
    "    "
   ]
  },
  {
   "cell_type": "code",
   "execution_count": 7,
   "metadata": {},
   "outputs": [
    {
     "name": "stdout",
     "output_type": "stream",
     "text": [
      "email is valid\n"
     ]
    }
   ],
   "source": [
    "import re\n",
    "x=\"^\\w+([\\.-]?\\w+)*@\\w+([\\.-]?\\w+)*(\\.\\w{2,3})+$\"\n",
    "def rrr(email):\n",
    "    if(re.search(x,email)):\n",
    "        print('email is valid')\n",
    "    else:\n",
    "        print(\"not valid\")\n",
    "rrr('nrajubasi@gmail.com')"
   ]
  },
  {
   "cell_type": "code",
   "execution_count": null,
   "metadata": {},
   "outputs": [],
   "source": [
    "import re\n",
    "x=\"\\w+([\\.-]?\\w+)*@\\w+([\\.-]?\\w+)*(\\.\\w{2,3})+$\"\n",
    "def raju(email):\n",
    "    if(re.search(x,email)):\n",
    "        print('email is valid')\n",
    "    else:\n",
    "        print(\"email is not valid\")\n",
    "raju('ranfjjdkflkdjraju@gmail.com')"
   ]
  },
  {
   "cell_type": "code",
   "execution_count": 32,
   "metadata": {},
   "outputs": [],
   "source": [
    "from functools import *\n",
    "x=[5,5,5,5,5]\n",
    "y=[]\n",
    "a=[]\n",
    "for i in range(len(x)):\n",
    "    y.append(x[0])\n",
    "    del x[0]\n",
    "    z=reduce(lambda a,b:a+b,x)\n",
    "    a.append(z)\n",
    "    x.extend(y)\n",
    "    y.clear()\n"
   ]
  },
  {
   "cell_type": "code",
   "execution_count": 35,
   "metadata": {},
   "outputs": [
    {
     "name": "stdout",
     "output_type": "stream",
     "text": [
      "2\n"
     ]
    }
   ],
   "source": [
    "n=int(input())\n",
    "x=list(map(int,input().split()))\n",
    "a=max(x)\n",
    "print(x.count(a))"
   ]
  },
  {
   "cell_type": "code",
   "execution_count": 36,
   "metadata": {},
   "outputs": [
    {
     "name": "stdout",
     "output_type": "stream",
     "text": [
      "04:45:23 AM\n",
      "04:45:23 \n"
     ]
    }
   ],
   "source": [
    "s = input()\n",
    "zn = s[-2:]\n",
    "if zn == \"PM\" and s[:2] != \"12\":\n",
    "    s = str(12 + int(s[:2])) + s[2:]\n",
    "if zn == \"AM\" and s[:2] == \"12\":\n",
    "    s = \"00\" + s[2:]\n",
    "print(s[:-2])\n"
   ]
  },
  {
   "cell_type": "code",
   "execution_count": null,
   "metadata": {},
   "outputs": [],
   "source": [
    "n=input()\n",
    "x=n.split(\".\")\n",
    "y=\"\"\n",
    "for i in x:\n",
    "    i=int(i)\n",
    "    y=y+str(i)+\".\"\n",
    "z=y.rstrip('.')\n",
    "print(z)"
   ]
  },
  {
   "cell_type": "code",
   "execution_count": 18,
   "metadata": {},
   "outputs": [
    {
     "name": "stdout",
     "output_type": "stream",
     "text": [
      "rajdkjfajdl\n"
     ]
    }
   ],
   "source": [
    "x=\"09:12:45AM\"\n",
    "a=[-2:]\n",
    "if a=\"AM\" and x[:2]=='12':\n",
    "    x=x[:-2]\n",
    "if a==\"PM\" and x[:2]!='12':\n",
    "    x=str(x)"
   ]
  },
  {
   "cell_type": "code",
   "execution_count": null,
   "metadata": {},
   "outputs": [],
   "source": [
    "import pickle\n",
    "class employee:\n",
    "    def __init___(self,eno,ename,eaddr):\n",
    "        self.eno=eno\n",
    "        self.ename=ename\n",
    "        self.eaddr=eaddr\n",
    "    def display(self):\n",
    "        print(self.eno,'\\t',self.ename,'\\t',self.eaddr)\n",
    "with open('data.txt','wb')as f:\n",
    "    e=employee(100,'raju','hyd')\n",
    "    pickle.dump(e,f)\n",
    "    print(\"these is successfully saved in these file\")\n",
    "with open('data.txt','rb')as f:\n",
    "    obj=pickle.load(f)\n",
    "    print(obj.display())    "
   ]
  },
  {
   "cell_type": "code",
   "execution_count": null,
   "metadata": {},
   "outputs": [],
   "source": []
  }
 ],
 "metadata": {
  "kernelspec": {
   "display_name": "Python 3",
   "language": "python",
   "name": "python3"
  },
  "language_info": {
   "codemirror_mode": {
    "name": "ipython",
    "version": 3
   },
   "file_extension": ".py",
   "mimetype": "text/x-python",
   "name": "python",
   "nbconvert_exporter": "python",
   "pygments_lexer": "ipython3",
   "version": "3.6.4"
  }
 },
 "nbformat": 4,
 "nbformat_minor": 2
}
