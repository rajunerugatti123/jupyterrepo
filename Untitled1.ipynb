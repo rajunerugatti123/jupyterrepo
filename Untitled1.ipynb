{
 "cells": [
  {
   "cell_type": "code",
   "execution_count": 7,
   "metadata": {},
   "outputs": [
    {
     "name": "stdout",
     "output_type": "stream",
     "text": [
      "[0, 1, 2, 3, 4, 5, 6, 7, 'raju', 'rajesh', 'a', 'b', 'c', 'd', 'e']\n",
      "[0, 'raju', 'a', 'b']\n"
     ]
    }
   ],
   "source": [
    "from itertools import *\n",
    "a=[0,1,2,3,4,5,6,7]\n",
    "b=['raju','rajesh']\n",
    "c=['a','b','c','d','e']\n",
    "#for i in chain(a,b,c):\n",
    "    #print(i)\n",
    "print(list(chain(a,b,c)))\n",
    "print(list(chain(a[:1],b[:1],c[:2])))"
   ]
  },
  {
   "cell_type": "code",
   "execution_count": 12,
   "metadata": {},
   "outputs": [
    {
     "name": "stdout",
     "output_type": "stream",
     "text": [
      "[0, 1, 2, 3, 4, 5, 6, 'a', 'b', 'c', 'apple', 'banana', 'carrot']\n",
      "[0, 'a', 'b', 'apple', 'banana', 'carrot']\n"
     ]
    }
   ],
   "source": [
    "from itertools import *\n",
    "a=[0,1,2,3,4,5,6]\n",
    "b=['a','b','c']\n",
    "c=['apple','banana','carrot']\n",
    "#for i in zip(a,b,c):\n",
    "    #print(i)\n",
    "print(list(chain(a,b,c)))\n",
    "print(list(chain(a[:1],b[:2],c[:])))"
   ]
  },
  {
   "cell_type": "code",
   "execution_count": 13,
   "metadata": {},
   "outputs": [
    {
     "ename": "NameError",
     "evalue": "name 'itertools' is not defined",
     "output_type": "error",
     "traceback": [
      "\u001b[1;31m---------------------------------------------------------------------------\u001b[0m",
      "\u001b[1;31mNameError\u001b[0m                                 Traceback (most recent call last)",
      "\u001b[1;32m<ipython-input-13-c5af4cfc558f>\u001b[0m in \u001b[0;36m<module>\u001b[1;34m()\u001b[0m\n\u001b[0;32m      1\u001b[0m \u001b[1;32mfrom\u001b[0m \u001b[0mitertools\u001b[0m \u001b[1;32mimport\u001b[0m \u001b[1;33m*\u001b[0m\u001b[1;33m\u001b[0m\u001b[0m\n\u001b[1;32m----> 2\u001b[1;33m \u001b[0mprint\u001b[0m\u001b[1;33m(\u001b[0m\u001b[0mitertools\u001b[0m\u001b[1;33m.\u001b[0m\u001b[0mcount\u001b[0m\u001b[1;33m(\u001b[0m\u001b[1;33m)\u001b[0m\u001b[1;33m)\u001b[0m\u001b[1;33m\u001b[0m\u001b[0m\n\u001b[0m",
      "\u001b[1;31mNameError\u001b[0m: name 'itertools' is not defined"
     ]
    }
   ],
   "source": [
    "from itertools import *\n",
    "x=itertools.count()\n",
    "for i in x:\n",
    "    print(i)"
   ]
  },
  {
   "cell_type": "code",
   "execution_count": 10,
   "metadata": {},
   "outputs": [
    {
     "ename": "SyntaxError",
     "evalue": "invalid syntax (<ipython-input-10-8ed4037119ad>, line 8)",
     "output_type": "error",
     "traceback": [
      "\u001b[1;36m  File \u001b[1;32m\"<ipython-input-10-8ed4037119ad>\"\u001b[1;36m, line \u001b[1;32m8\u001b[0m\n\u001b[1;33m    for i range(7):\u001b[0m\n\u001b[1;37m              ^\u001b[0m\n\u001b[1;31mSyntaxError\u001b[0m\u001b[1;31m:\u001b[0m invalid syntax\n"
     ]
    }
   ],
   "source": [
    "from itertools import *\n",
    "x=[1,2,3,4,5,6]\n",
    "z=['abc','c']\n",
    "y=[1,3,9,3,4,1]\n",
    "list(map(sum,zip(x,y)))\n",
    "list(map(len,z))\n",
    "list(map(max,zip(x,y)))\n",
    "for i range(7):\n",
    "    print(x[:i]+y[:i])"
   ]
  },
  {
   "cell_type": "code",
   "execution_count": 6,
   "metadata": {},
   "outputs": [],
   "source": [
    "for i in islice(count(),5,151,5):\n",
    "    print(i)"
   ]
  },
  {
   "cell_type": "code",
   "execution_count": 21,
   "metadata": {},
   "outputs": [
    {
     "name": "stdout",
     "output_type": "stream",
     "text": [
      "1 A\n",
      "2 B\n",
      "3 C\n",
      "4 D\n",
      "5 A\n",
      "6 B\n",
      "7 C\n",
      "8 D\n",
      "9 A\n",
      "10 B\n",
      "11 C\n",
      "12 D\n"
     ]
    }
   ],
   "source": [
    "n=0\n",
    "for i in cycle('ABCD'):\n",
    "    n+=1\n",
    "    if n==13:\n",
    "        break\n",
    "    else:\n",
    "        print(n,i)\n",
    "    "
   ]
  },
  {
   "cell_type": "code",
   "execution_count": 3,
   "metadata": {},
   "outputs": [
    {
     "name": "stdout",
     "output_type": "stream",
     "text": [
      "1 A\n",
      "2 B\n",
      "3 C\n",
      "4 D\n",
      "5 A\n",
      "6 B\n",
      "7 C\n",
      "8 D\n",
      "9 A\n",
      "10 B\n",
      "11 C\n",
      "12 D\n"
     ]
    }
   ],
   "source": [
    "from itertools import *\n",
    "n=0\n",
    "for i in cycle('ABCD'):\n",
    "    n=n+1\n",
    "    if n==13:\n",
    "        break\n",
    "    else:\n",
    "        print(n,i)\n",
    "    "
   ]
  },
  {
   "cell_type": "code",
   "execution_count": 12,
   "metadata": {},
   "outputs": [
    {
     "name": "stdout",
     "output_type": "stream",
     "text": [
      "enter the nb_operations:2\n",
      "enter the number:1222\n",
      "1132\n",
      "enter the number:1132\n",
      "211312\n"
     ]
    }
   ],
   "source": [
    "m=int(input(\"enter the nb_operations:\"))\n",
    "for k in range(m):\n",
    "    n=input(\"enter the number:\")\n",
    "    y=\"\"\n",
    "    x=[]\n",
    "    for i in n:\n",
    "        if i not in x:\n",
    "            x.append(i)\n",
    "            y=y+str(n.count(i))+str(i)\n",
    "    print(y)\n",
    "    x.clear()\n"
   ]
  },
  {
   "cell_type": "code",
   "execution_count": 13,
   "metadata": {},
   "outputs": [
    {
     "name": "stdout",
     "output_type": "stream",
     "text": [
      "1\n",
      "2\n"
     ]
    }
   ],
   "source": [
    "n=0\n",
    "for i in range(2):\n",
    "    n=n+1\n",
    "    print(n)"
   ]
  },
  {
   "cell_type": "code",
   "execution_count": 13,
   "metadata": {},
   "outputs": [],
   "source": [
    "def raju(m,n):\n",
    "    for k in range(m):\n",
    "        def ravi(n):\n",
    "            y=\"\"\n",
    "            x=[]\n",
    "            for i in n:\n",
    "                if i not in x:\n",
    "                    x.append(i)\n",
    "                    y=y+str(n.count(i))+str(i)\n",
    "                    y=n\n",
    "            x.clear()\n",
    "            return y\n",
    "raju(2,'111115')"
   ]
  },
  {
   "cell_type": "code",
   "execution_count": 16,
   "metadata": {},
   "outputs": [
    {
     "data": {
      "text/plain": [
       "'211312'"
      ]
     },
     "execution_count": 16,
     "metadata": {},
     "output_type": "execute_result"
    }
   ],
   "source": [
    "def raju(m,n):\n",
    "    for k in range(m):\n",
    "        def ravi(n):\n",
    "            y=\"\"\n",
    "            x=[]\n",
    "            for i in n:\n",
    "                if i not in x:\n",
    "                    x.append(i)\n",
    "                    y=y+str(n.count(i))+str(i)\n",
    "        x.clear()\n",
    "        return y\n",
    "raju(2,'1111')"
   ]
  },
  {
   "cell_type": "code",
   "execution_count": 18,
   "metadata": {},
   "outputs": [
    {
     "data": {
      "text/plain": [
       "'211312'"
      ]
     },
     "execution_count": 18,
     "metadata": {},
     "output_type": "execute_result"
    }
   ],
   "source": [
    "def raju(m,n):\n",
    "    for k in range(m):\n",
    "        def ravi(n):\n",
    "            y=\"\"\n",
    "            x=[]\n",
    "            for i in n:\n",
    "                if i not in x:\n",
    "                    x.append(i)\n",
    "                    y=y+str(n.count(i))+str(i)\n",
    "        x.clear()\n",
    "        return y\n",
    "raju(2,'1111')"
   ]
  },
  {
   "cell_type": "code",
   "execution_count": null,
   "metadata": {},
   "outputs": [],
   "source": []
  }
 ],
 "metadata": {
  "kernelspec": {
   "display_name": "Python 3",
   "language": "python",
   "name": "python3"
  },
  "language_info": {
   "codemirror_mode": {
    "name": "ipython",
    "version": 3
   },
   "file_extension": ".py",
   "mimetype": "text/x-python",
   "name": "python",
   "nbconvert_exporter": "python",
   "pygments_lexer": "ipython3",
   "version": "3.6.4"
  }
 },
 "nbformat": 4,
 "nbformat_minor": 2
}
