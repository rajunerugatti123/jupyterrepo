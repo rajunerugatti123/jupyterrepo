{
 "cells": [
  {
   "cell_type": "code",
   "execution_count": 4,
   "metadata": {},
   "outputs": [
    {
     "data": {
      "text/plain": [
       "'H*I*I* *G*O*O*D* *M*O*R*N*I*N*G'"
      ]
     },
     "execution_count": 4,
     "metadata": {},
     "output_type": "execute_result"
    }
   ],
   "source": [
    "#decorators::> decorators are dynamically alter the functionality of function or method,class with\n",
    "# out modifying exsting code.\n",
    "def outer(func):\n",
    "    def inner():\n",
    "        x=func()\n",
    "        return x.swapcase()\n",
    "    return inner\n",
    "def outer1(func):\n",
    "    def inner():\n",
    "        x=func()\n",
    "        return \"*\".join(x)\n",
    "    return inner\n",
    "@outer1\n",
    "@outer\n",
    "def wish():\n",
    "    return \"hii good morning\"\n",
    "wish()"
   ]
  },
  {
   "cell_type": "code",
   "execution_count": 6,
   "metadata": {},
   "outputs": [
    {
     "name": "stdout",
     "output_type": "stream",
     "text": [
      "enter the number:10\n",
      "countdown is start\n",
      "10\n",
      "9\n",
      "8\n",
      "7\n",
      "6\n",
      "5\n",
      "4\n",
      "3\n",
      "2\n",
      "1\n"
     ]
    }
   ],
   "source": [
    "#generators ::> generators are used to create the iterators but with differenct approches using the \n",
    "#yield keyword\n",
    "from time import sleep\n",
    "n=int(input(\"enter the number:\"))\n",
    "print(\"countdown is start\")\n",
    "def count(n):\n",
    "    while n>0:\n",
    "        yield n\n",
    "        n=n-1\n",
    "        sleep(1)\n",
    "x=count(n)\n",
    "for i in x:\n",
    "    print(i)"
   ]
  },
  {
   "cell_type": "code",
   "execution_count": 9,
   "metadata": {},
   "outputs": [
    {
     "name": "stdout",
     "output_type": "stream",
     "text": [
      "5\n",
      "hellogreeks\n"
     ]
    }
   ],
   "source": [
    "def raju(datatype,*args):\n",
    "    if datatype=='int':\n",
    "        answer=0\n",
    "    if datatype=='str':\n",
    "        answer=''\n",
    "    for i in args:\n",
    "        answer=answer+i\n",
    "    print(answer)\n",
    "raju('int',2,3)\n",
    "raju('str','hello','greeks')"
   ]
  },
  {
   "cell_type": "code",
   "execution_count": null,
   "metadata": {},
   "outputs": [],
   "source": [
    "class A:\n",
    "    def work(self):\n",
    "        print(\"cognizant\")\n",
    "    def location(self):\n",
    "        print(\"banglore\")\n",
    "class B()"
   ]
  }
 ],
 "metadata": {
  "kernelspec": {
   "display_name": "Python 3",
   "language": "python",
   "name": "python3"
  },
  "language_info": {
   "codemirror_mode": {
    "name": "ipython",
    "version": 3
   },
   "file_extension": ".py",
   "mimetype": "text/x-python",
   "name": "python",
   "nbconvert_exporter": "python",
   "pygments_lexer": "ipython3",
   "version": "3.6.4"
  }
 },
 "nbformat": 4,
 "nbformat_minor": 2
}
