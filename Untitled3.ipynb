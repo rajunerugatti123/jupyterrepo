{
 "cells": [
  {
   "cell_type": "code",
   "execution_count": 25,
   "metadata": {},
   "outputs": [
    {
     "name": "stdout",
     "output_type": "stream",
     "text": [
      "enter the input:abccbcbc\n",
      "a\n"
     ]
    }
   ],
   "source": [
    "string=input(\"enter the input:\")\n",
    "max(st)\n",
    "for j in string:\n",
    "    \n",
    "        print(j)\n",
    "        break\n",
    "else:\n",
    "    print(\"No Such Charecter\")"
   ]
  },
  {
   "cell_type": "code",
   "execution_count": 29,
   "metadata": {},
   "outputs": [
    {
     "name": "stdout",
     "output_type": "stream",
     "text": [
      "1 a\n",
      "3 m\n",
      "2 n\n",
      "4 f\n",
      "1 c\n",
      "2 d\n",
      "2 d\n",
      "1 e\n",
      "4 f\n",
      "4 f\n",
      "1 g\n",
      "4 f\n",
      "1 k\n",
      "1 l\n",
      "3 m\n",
      "3 m\n",
      "2 n\n"
     ]
    }
   ],
   "source": [
    "x='amnfcddeffgfklmmn'\n",
    "for i in x:\n",
    "    print(x.count(i),i)"
   ]
  },
  {
   "cell_type": "code",
   "execution_count": null,
   "metadata": {},
   "outputs": [],
   "source": []
  }
 ],
 "metadata": {
  "kernelspec": {
   "display_name": "Python 3",
   "language": "python",
   "name": "python3"
  },
  "language_info": {
   "codemirror_mode": {
    "name": "ipython",
    "version": 3
   },
   "file_extension": ".py",
   "mimetype": "text/x-python",
   "name": "python",
   "nbconvert_exporter": "python",
   "pygments_lexer": "ipython3",
   "version": "3.6.4"
  }
 },
 "nbformat": 4,
 "nbformat_minor": 2
}
