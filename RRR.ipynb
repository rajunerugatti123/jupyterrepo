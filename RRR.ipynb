{
 "cells": [
  {
   "cell_type": "code",
   "execution_count": 4,
   "metadata": {},
   "outputs": [
    {
     "data": {
      "text/plain": [
       "'HII GOOD MORNING'"
      ]
     },
     "execution_count": 4,
     "metadata": {},
     "output_type": "execute_result"
    }
   ],
   "source": [
    "#decorators are dynamically alter the fuctionality of function or class or method with out modify in existing code\n",
    "def outer(func):\n",
    "    def inner():\n",
    "        x=func()\n",
    "        return x.swapcase()\n",
    "    return inner\n",
    "@outer\n",
    "def wish():\n",
    "    return \"hii good morning\"\n",
    "wish()"
   ]
  },
  {
   "cell_type": "code",
   "execution_count": 9,
   "metadata": {},
   "outputs": [
    {
     "name": "stdout",
     "output_type": "stream",
     "text": [
      "Enter the number:10\n",
      "countdown\n",
      "10\n",
      "9\n",
      "8\n",
      "7\n",
      "6\n",
      "5\n",
      "4\n",
      "3\n",
      "2\n",
      "1\n"
     ]
    }
   ],
   "source": [
    "#generators are used to create iterators but with a different approches. using with yield keyword\n",
    "from time import sleep\n",
    "n=int(input(\"Enter the number:\"))\n",
    "print(\"countdown\")\n",
    "def countdown(n):\n",
    "    while n>0:\n",
    "        yield n\n",
    "        n=n-1\n",
    "        sleep(1)\n",
    "x=countdown(n)\n",
    "for i in x:\n",
    "    print(i)"
   ]
  },
  {
   "cell_type": "code",
   "execution_count": 7,
   "metadata": {},
   "outputs": [
    {
     "name": "stdout",
     "output_type": "stream",
     "text": [
      "200 20\n",
      "200 20\n"
     ]
    }
   ],
   "source": [
    "#\"\"\"we use @classmethod decorator used to create classmethod in python and it must have class as\n",
    "#parameter and we can access and modify the  state of class.\n",
    "#we use @staticmethod decorator used to create staticmethod in python and we cant access and modify it.\n",
    "class A:\n",
    "    a=10\n",
    "    def __init__(self):\n",
    "        self.b=20\n",
    "    @classmethod\n",
    "    def m1(cls):\n",
    "        cls.a=200\n",
    "        cls.b=300\n",
    "x=A()\n",
    "y=A()\n",
    "y.m1()\n",
    "print(y.a,y.b)\n",
    "print(x.a,x.b)\n",
    "    "
   ]
  },
  {
   "cell_type": "code",
   "execution_count": 8,
   "metadata": {},
   "outputs": [
    {
     "name": "stdout",
     "output_type": "stream",
     "text": [
      "200 300\n",
      "400 500\n",
      "{'a': 200, 'b': 300}\n"
     ]
    }
   ],
   "source": [
    "#when you calling the instace method that time only coming the instance variables\n",
    "class Test:\n",
    "    def __init__(self):\n",
    "        self.a=200\n",
    "        self.b=300\n",
    "    def m1(self):\n",
    "        self.c=400\n",
    "        self.d=500\n",
    "x=Test()\n",
    "x.m1()\n",
    "print(x.a,x.b)\n",
    "print(x.c,x.d)\n",
    "y=Test()\n",
    "print(y.__dict__)"
   ]
  },
  {
   "cell_type": "code",
   "execution_count": 12,
   "metadata": {},
   "outputs": [
    {
     "data": {
      "text/plain": [
       "'sv university'"
      ]
     },
     "execution_count": 12,
     "metadata": {},
     "output_type": "execute_result"
    }
   ],
   "source": [
    "#static variable assigning the outside of the method.once we try to change the static variable value \n",
    "#it is reflecting to the all other instances\n",
    "class A:\n",
    "    college=\"sv university\"\n",
    "    def __init__(self,name,eno,course):\n",
    "        self.name=name\n",
    "        self.eno=eno\n",
    "        self.course=course\n",
    "x=A('raju',100,'MCA')\n",
    "y=A('ravi',200,'MBA')\n",
    "x.eno\n",
    "y.name\n",
    "y.eno\n",
    "y.college\n",
    "x.college"
   ]
  },
  {
   "cell_type": "code",
   "execution_count": 7,
   "metadata": {},
   "outputs": [
    {
     "name": "stdout",
     "output_type": "stream",
     "text": [
      "Enter the item:idli\n",
      "Enter the time13:45\n"
     ]
    },
    {
     "data": {
      "text/plain": [
       "'idli is not availbale, why because already time is over'"
      ]
     },
     "execution_count": 7,
     "metadata": {},
     "output_type": "execute_result"
    }
   ],
   "source": [
    "from datetime import datetime\n",
    "x=datetime.now()\n",
    "y=x.strftime(\"%H:%M\")\n",
    "i=x.strftime(\"%H:%M %p\")\n",
    "z=y.split(\":\")\n",
    "a=int(z[0])\n",
    "m=int(z[1])\n",
    "item=input(\"Enter the item:\")\n",
    "time=input(\"Enter the time\")\n",
    "b=time.split(\":\")\n",
    "c=int(b[0])\n",
    "n=int(b[1])\n",
    "def wish(item,time):\n",
    "    if item==\"idli\":\n",
    "            if (c>=10 and c<=12)and(a>=10 and a<=12):\n",
    "                x=\"idli is available\"\n",
    "            elif (c>=17 and c<=20)and(a>=17 and a<=20):\n",
    "                x=\"idli is available\"\n",
    "            else:\n",
    "                x=\"idli is not availbale, why because already time is over\"\n",
    "    return x\n",
    "wish(item,time)"
   ]
  },
  {
   "cell_type": "code",
   "execution_count": 14,
   "metadata": {},
   "outputs": [
    {
     "name": "stdout",
     "output_type": "stream",
     "text": [
      "1\n",
      "2\n",
      "3\n",
      "4\n",
      "5\n",
      "6\n",
      "7\n",
      "8\n",
      "9\n",
      "10\n"
     ]
    }
   ],
   "source": [
    "from threading import *\n",
    "from time import sleep\n",
    "class A(Thread):\n",
    "    def run(self):\n",
    "        for i in range(1,11):\n",
    "            if i%2!=0:\n",
    "                print(i)\n",
    "                sleep(0.5)\n",
    "class B(Thread):\n",
    "    def run(self):\n",
    "        for j in range(1,11):\n",
    "            if j%2==0:\n",
    "                print(j)\n",
    "                sleep(0.5)\n",
    "x=A()\n",
    "y=B()\n",
    "x.start()\n",
    "sleep(0.1)\n",
    "y.start()\n",
    "\n",
    "            "
   ]
  },
  {
   "cell_type": "code",
   "execution_count": 22,
   "metadata": {},
   "outputs": [
    {
     "name": "stdout",
     "output_type": "stream",
     "text": [
      "2019-10-18\n",
      "2019-10-18 15:40:04.738192\n",
      "18/10/2019\n"
     ]
    }
   ],
   "source": [
    "from datetime import datetime\n",
    "from datetime import time\n",
    "from datetime import date\n",
    "x=date.today()\n",
    "y=datetime.now()\n",
    "print(x)\n",
    "print(y)\n",
    "z=x.strftime(\"%d/%m/%Y\")\n",
    "print(z)"
   ]
  },
  {
   "cell_type": "code",
   "execution_count": 31,
   "metadata": {},
   "outputs": [
    {
     "name": "stdout",
     "output_type": "stream",
     "text": [
      "1 2 3 4 5\n",
      "[2, 4]\n",
      "15\n",
      "[1, 4, 9, 16, 25]\n"
     ]
    }
   ],
   "source": [
    "from functools import *\n",
    "x=list(map(int,input().split()))\n",
    "def even(n):\n",
    "    return n%2==0\n",
    "def odd(n):\n",
    "    return n%2!=0\n",
    "print(list(filter(even,x)))\n",
    "print(reduce(lambda a,b:a+b,x))\n",
    "print(list(map(lambda a:a**2,x)))"
   ]
  },
  {
   "cell_type": "code",
   "execution_count": 9,
   "metadata": {},
   "outputs": [
    {
     "name": "stdout",
     "output_type": "stream",
     "text": [
      "200 20\n",
      "200 20\n",
      "500\n"
     ]
    }
   ],
   "source": [
    "class Test:\n",
    "    a=10\n",
    "    def __init__(self):\n",
    "        self.b=20\n",
    "    @classmethod\n",
    "    def m1(cls):\n",
    "        cls.a=200\n",
    "        cls.b=300\n",
    "x=Test()\n",
    "y=Test()\n",
    "y.m1()\n",
    "print(y.a,y.b)\n",
    "print(x.a,y.b)\n",
    "Test.a=500\n",
    "print(y.a)"
   ]
  },
  {
   "cell_type": "code",
   "execution_count": 13,
   "metadata": {},
   "outputs": [
    {
     "name": "stdout",
     "output_type": "stream",
     "text": [
      "this is dump function\n",
      "the employee name: raju\n",
      "the employee esall: 2000\n",
      "the employee eadd: hyderbad\n"
     ]
    }
   ],
   "source": [
    "import pickle\n",
    "class student:\n",
    "    def __init__(self,ename,esal,eadd):\n",
    "        self.ename=ename\n",
    "        self.esal=esal\n",
    "        self.eadd=eadd\n",
    "    def display(self):\n",
    "        print(\"the employee name:\",self.ename)\n",
    "        print(\"the employee esall:\",self.esal)\n",
    "        print(\"the employee eadd:\",self.eadd)\n",
    "with open(\"emp.data\",\"wb\")as f:\n",
    "    x=student('raju',2000,'hyderbad')\n",
    "    print(\"this is dump function\")\n",
    "    pickle.dump(x,f)\n",
    "with open(\"emp.data\",\"rb\")as f:\n",
    "    obj=pickle.load(f)\n",
    "    obj.display()"
   ]
  },
  {
   "cell_type": "code",
   "execution_count": 18,
   "metadata": {},
   "outputs": [
    {
     "name": "stdout",
     "output_type": "stream",
     "text": [
      "10 20\n",
      "10 20\n"
     ]
    }
   ],
   "source": [
    "class student:\n",
    "    a=10\n",
    "    def __init__(self):\n",
    "        self.b=20\n",
    "    @classmethod\n",
    "    def m(cls):\n",
    "        cls.a\n",
    "x=student()\n",
    "y=student()\n",
    "print(x.a,x.b)\n",
    "print(y.a,y.b)"
   ]
  },
  {
   "cell_type": "code",
   "execution_count": 7,
   "metadata": {},
   "outputs": [
    {
     "name": "stdout",
     "output_type": "stream",
     "text": [
      "200 20\n",
      "200 20\n"
     ]
    }
   ],
   "source": [
    "class A:\n",
    "    a=10\n",
    "    def __init__(self):\n",
    "        self.b=20\n",
    "    @classmethod\n",
    "    def m1(cls):\n",
    "        cls.a=200\n",
    "        cls.b=300\n",
    "x=A()\n",
    "y=A()\n",
    "y.m1()\n",
    "print(x.a,x.b)\n",
    "print(y.a,y.b)"
   ]
  },
  {
   "cell_type": "code",
   "execution_count": null,
   "metadata": {},
   "outputs": [],
   "source": []
  }
 ],
 "metadata": {
  "kernelspec": {
   "display_name": "Python 3",
   "language": "python",
   "name": "python3"
  },
  "language_info": {
   "codemirror_mode": {
    "name": "ipython",
    "version": 3
   },
   "file_extension": ".py",
   "mimetype": "text/x-python",
   "name": "python",
   "nbconvert_exporter": "python",
   "pygments_lexer": "ipython3",
   "version": "3.6.4"
  }
 },
 "nbformat": 4,
 "nbformat_minor": 2
}
