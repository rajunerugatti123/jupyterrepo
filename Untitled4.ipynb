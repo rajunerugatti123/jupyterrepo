{
 "cells": [
  {
   "cell_type": "code",
   "execution_count": 1,
   "metadata": {},
   "outputs": [
    {
     "name": "stdout",
     "output_type": "stream",
     "text": [
      "3\n",
      "Weird\n"
     ]
    }
   ],
   "source": [
    "n = int(input().strip())\n",
    "check = {True: \"Not Weird\", False: \"Weird\"}\n",
    "\n",
    "print(check[\n",
    "        n%2==0 and (\n",
    "            n in range(2,6) or \n",
    "            n > 20)\n",
    "    ])"
   ]
  },
  {
   "cell_type": "code",
   "execution_count": 2,
   "metadata": {},
   "outputs": [
    {
     "name": "stdout",
     "output_type": "stream",
     "text": [
      "3\n",
      "Weird\n"
     ]
    }
   ],
   "source": [
    "n=int(input())\n",
    "x={True:\"Not Weird\",False:\"Weird\"}\n",
    "print(x[n%2==0 and (n in range(2,6)or n>20)])"
   ]
  },
  {
   "cell_type": "code",
   "execution_count": 2,
   "metadata": {},
   "outputs": [
    {
     "name": "stdout",
     "output_type": "stream",
     "text": [
      "driving\n"
     ]
    }
   ],
   "source": [
    "class car:\n",
    "    #def __init__(self):\n",
    "        #self.__software()\n",
    "    def drive(self):\n",
    "        print(\"driving\")\n",
    "    def __software(self):\n",
    "        print(\"udated software\")\n",
    "x=car()\n",
    "x.drive()"
   ]
  },
  {
   "cell_type": "code",
   "execution_count": 8,
   "metadata": {},
   "outputs": [
    {
     "name": "stdout",
     "output_type": "stream",
     "text": [
      "300\n"
     ]
    }
   ],
   "source": [
    "class Book:\n",
    "    def __init__(self,pages):\n",
    "        self.pages=pages\n",
    "    def __add__(self,other):\n",
    "           return self.pages+other.pages\n",
    "x=Book(100)\n",
    "y=Book(200)\n",
    "print(x+y)"
   ]
  },
  {
   "cell_type": "code",
   "execution_count": 16,
   "metadata": {},
   "outputs": [],
   "source": [
    "class Book:\n",
    "    def __init__(self,pages):\n",
    "        self.pages=pages\n",
    "    def __str__(self):\n",
    "        return \"the total pagess are\"+str(self.pages)\n",
    "x=Book(200)"
   ]
  },
  {
   "cell_type": "code",
   "execution_count": 20,
   "metadata": {},
   "outputs": [
    {
     "data": {
      "text/plain": [
       "3"
      ]
     },
     "execution_count": 20,
     "metadata": {},
     "output_type": "execute_result"
    }
   ],
   "source": [
    "class student:\n",
    "    def  raju(self,a=None,b=None,c=None):\n",
    "        s=0\n",
    "        if a!=None and b!=None and c!=None:\n",
    "            s=a+b+c\n",
    "        elif a!=None and b!=None:\n",
    "            s=a+b\n",
    "        else:\n",
    "            s=a\n",
    "        return s\n",
    "x=student()\n",
    "x.raju(1,2)"
   ]
  },
  {
   "cell_type": "code",
   "execution_count": 23,
   "metadata": {},
   "outputs": [
    {
     "name": "stdout",
     "output_type": "stream",
     "text": [
      "100 cros\n",
      "500 cros\n"
     ]
    }
   ],
   "source": [
    "class A:\n",
    "    def properties(self):\n",
    "        print(\"100 cros\")\n",
    "    def land(self):\n",
    "        print(\"100 acros\")\n",
    "class B(A):\n",
    "    def properties(self):\n",
    "        super().properties()\n",
    "        print(\"500 cros\")\n",
    "x=B()\n",
    "x.properties()"
   ]
  },
  {
   "cell_type": "code",
   "execution_count": 26,
   "metadata": {},
   "outputs": [
    {
     "name": "stdout",
     "output_type": "stream",
     "text": [
      "1\n",
      "2\n",
      "3\n",
      "4\n",
      "5\n",
      "6\n",
      "7\n",
      "8\n",
      "9\n",
      "10\n"
     ]
    }
   ],
   "source": [
    "from threading import Thread\n",
    "from time import sleep\n",
    "class A(Thread):\n",
    "    def run(self):\n",
    "        for i in range(1,11):\n",
    "            if i%2!=0:\n",
    "                print(i)\n",
    "                sleep(0.3)\n",
    "class B(Thread):\n",
    "    def run(self):\n",
    "        for j in range(1,11):\n",
    "            if j%2==0:\n",
    "                print(j)\n",
    "                sleep(0.3)\n",
    "x=A()\n",
    "y=B()\n",
    "x.start()\n",
    "sleep(0.1)\n",
    "y.start()"
   ]
  },
  {
   "cell_type": "code",
   "execution_count": 30,
   "metadata": {},
   "outputs": [
    {
     "data": {
      "text/plain": [
       "'HII GOOD MORNING'"
      ]
     },
     "execution_count": 30,
     "metadata": {},
     "output_type": "execute_result"
    }
   ],
   "source": [
    "def outer(func):\n",
    "    def inner():\n",
    "        x=func()\n",
    "        return x.swapcase()\n",
    "    return inner\n",
    "@outer\n",
    "def wish():\n",
    "    return \"hii good morning\"\n",
    "wish()"
   ]
  },
  {
   "cell_type": "code",
   "execution_count": 31,
   "metadata": {},
   "outputs": [
    {
     "name": "stdout",
     "output_type": "stream",
     "text": [
      "10\n",
      "9\n",
      "8\n",
      "7\n",
      "6\n",
      "5\n",
      "4\n",
      "3\n",
      "2\n",
      "1\n"
     ]
    }
   ],
   "source": [
    "def count(n):\n",
    "    while n>0:\n",
    "        yield n\n",
    "        n=n-1\n",
    "x=count(10)\n",
    "for i in x:\n",
    "    print(i)"
   ]
  },
  {
   "cell_type": "code",
   "execution_count": 32,
   "metadata": {},
   "outputs": [
    {
     "data": {
      "text/plain": [
       "3"
      ]
     },
     "execution_count": 32,
     "metadata": {},
     "output_type": "execute_result"
    }
   ],
   "source": [
    "def raju(*a):\n",
    "    total=0\n",
    "    for i in a:\n",
    "        total=total+i\n",
    "    return total\n",
    "raju(1,2)"
   ]
  },
  {
   "cell_type": "code",
   "execution_count": 7,
   "metadata": {},
   "outputs": [
    {
     "name": "stdout",
     "output_type": "stream",
     "text": [
      "[1, 2, [3, 555], 5, 6, 7]\n",
      "[1, 2, [3, 4], 5, 6]\n"
     ]
    }
   ],
   "source": [
    "import copy\n",
    "x=[1,2,[3,4],5,6]\n",
    "y=copy.deepcopy(x)\n",
    "y.append(7)\n",
    "y[2][1]=555\n",
    "print(y)\n",
    "print(x)"
   ]
  },
  {
   "cell_type": "code",
   "execution_count": 34,
   "metadata": {},
   "outputs": [
    {
     "data": {
      "text/plain": [
       "2"
      ]
     },
     "execution_count": 34,
     "metadata": {},
     "output_type": "execute_result"
    }
   ],
   "source": [
    "x=(1,2,3,4)\n",
    "y=(3,4,5,6)\n",
    "x.count(1)\n",
    "y.index(5)"
   ]
  },
  {
   "cell_type": "code",
   "execution_count": 49,
   "metadata": {},
   "outputs": [
    {
     "name": "stdout",
     "output_type": "stream",
     "text": [
      "{}\n"
     ]
    }
   ],
   "source": [
    "x={'a':1,'b':2,'c':3,'d':4}\n",
    "x['a']=7\n",
    "x.clear()\n",
    "print(x)"
   ]
  },
  {
   "cell_type": "code",
   "execution_count": 51,
   "metadata": {},
   "outputs": [
    {
     "name": "stdout",
     "output_type": "stream",
     "text": [
      "('child1', {'name': 'Emil', 'year': 2004})\n",
      "('child2', {'name': 'Tobias', 'year': 2007})\n",
      "('child3', {'name': 'Linus', 'year': 2011})\n"
     ]
    }
   ],
   "source": [
    "myfamily = {\n",
    "  \"child1\" : {\n",
    "    \"name\" : \"Emil\",\n",
    "    \"year\" : 2004\n",
    "  },\n",
    "  \"child2\" : {\n",
    "    \"name\" : \"Tobias\",\n",
    "    \"year\" : 2007\n",
    "  },\n",
    "  \"child3\" : {\n",
    "    \"name\" : \"Linus\",\n",
    "    \"year\" : 2011\n",
    "  }\n",
    "}\n",
    "for i in myfamily.items():\n",
    "    print(i)"
   ]
  },
  {
   "cell_type": "code",
   "execution_count": 60,
   "metadata": {},
   "outputs": [
    {
     "name": "stdout",
     "output_type": "stream",
     "text": [
      "{'name': 'Emil'}\n"
     ]
    }
   ],
   "source": [
    "x={'name': 'Emil', 'year': 2004}\n",
    "y={'model':23,'ful':89}\n",
    "x.popitem()\n",
    "print(x)\n"
   ]
  },
  {
   "cell_type": "code",
   "execution_count": 56,
   "metadata": {},
   "outputs": [
    {
     "name": "stdout",
     "output_type": "stream",
     "text": [
      "{1, 2, 3, 4, 5}\n"
     ]
    }
   ],
   "source": [
    "x={1,2,3,4,5}\n",
    "y={6,7,8,9,10}\n",
    "x.union(y)\n",
    "print(x)"
   ]
  },
  {
   "cell_type": "code",
   "execution_count": 63,
   "metadata": {},
   "outputs": [
    {
     "name": "stdout",
     "output_type": "stream",
     "text": [
      "[1, 4, 9, 16, 25, 36, 49, 64]\n",
      "[2, 4, 6, 8]\n",
      "36\n"
     ]
    }
   ],
   "source": [
    "x=[1,2,3,4,5,6,7,8]\n",
    "from functools import *\n",
    "print(list(map(lambda n:n*n,x)))\n",
    "print(list(filter(lambda n:n%2==0,x)))\n",
    "print(reduce(lambda a,y:a+y,x))"
   ]
  },
  {
   "cell_type": "code",
   "execution_count": 80,
   "metadata": {},
   "outputs": [
    {
     "data": {
      "text/plain": [
       "'R*a*j*u*e*s*l*f*j* *a*j*d*k*f*j*o*p*d'"
      ]
     },
     "execution_count": 80,
     "metadata": {},
     "output_type": "execute_result"
    }
   ],
   "source": [
    "x=\"Rajueslfj ajdkfjopd\"\n",
    "x.casefold()\n",
    "x.upper()\n",
    "x.lower()\n",
    "x.swapcase()\n",
    "x.split('u')\n",
    "x.strip()\n",
    "x[::-1]\n",
    "\"\".join(reversed(x))\n",
    "\"*\".join(x)"
   ]
  },
  {
   "cell_type": "code",
   "execution_count": 82,
   "metadata": {},
   "outputs": [
    {
     "name": "stdout",
     "output_type": "stream",
     "text": [
      "[2, 4, 6, 8, 10]\n"
     ]
    }
   ],
   "source": [
    "x=[i for i in range(1,11) if i%2==0]\n",
    "print(x)\n",
    "y={i:i*10 for i in range(1,11)}\n",
    "print()"
   ]
  },
  {
   "cell_type": "code",
   "execution_count": 84,
   "metadata": {},
   "outputs": [
    {
     "name": "stdout",
     "output_type": "stream",
     "text": [
      "{1: 'a', 2: 'b', 3: 'c', 4: 'd'}\n"
     ]
    }
   ],
   "source": [
    "x=[1,2,3,4,5]\n",
    "y=['a','b','c','d']\n",
    "z={i:j for i,j in zip(x,y)}\n",
    "print(z)"
   ]
  },
  {
   "cell_type": "code",
   "execution_count": 9,
   "metadata": {},
   "outputs": [
    {
     "name": "stdout",
     "output_type": "stream",
     "text": [
      "1\n",
      "1\n",
      "1\n",
      "2\n",
      "[[0, 0, 0], [0, 0, 1], [0, 1, 0], [1, 0, 0], [1, 1, 1]]\n"
     ]
    }
   ],
   "source": [
    "x=int(input())\n",
    "y=int(input())\n",
    "z=int(input())\n",
    "n=int(input())\n",
    "a=[]\n",
    "b=[[i,j,k] for i in range(x+1) for j in range(y+1) for k in range(z+1) if ((i+j+k)!=n)]\n",
    "print(b)\n",
    "  "
   ]
  },
  {
   "cell_type": "code",
   "execution_count": 16,
   "metadata": {},
   "outputs": [
    {
     "name": "stdout",
     "output_type": "stream",
     "text": [
      "1\n",
      "1,2,3,4\n",
      "[1, 2, 3, 4]\n"
     ]
    }
   ],
   "source": [
    "a=int(input())\n",
    "b=input()\n",
    "c=b.split(',')\n",
    "d=[]\n",
    "for i in c:\n",
    "    d.append(int(i))\n",
    "\n",
    "\n",
    "    \n",
    "    \n",
    "    "
   ]
  },
  {
   "cell_type": "code",
   "execution_count": 19,
   "metadata": {},
   "outputs": [
    {
     "name": "stdout",
     "output_type": "stream",
     "text": [
      "1 2 3 4 5\n",
      "[1, 2, 3, 4, 5]\n"
     ]
    }
   ],
   "source": [
    "x= list(map(int, input().split()))\n",
    "print(x)"
   ]
  },
  {
   "cell_type": "code",
   "execution_count": 28,
   "metadata": {},
   "outputs": [
    {
     "name": "stdout",
     "output_type": "stream",
     "text": [
      "5\n",
      "2 3 6 6 5\n",
      "5\n"
     ]
    }
   ],
   "source": [
    "n = int(input())\n",
    "arr = list(map(int, input().split()))\n",
    "listnew=[]\n",
    "for i in arr:\n",
    "    if i not in listnew:\n",
    "        listnew.append(i)\n",
    "        listnew.sort(reverse=True)\n",
    "print(listnew[1])"
   ]
  },
  {
   "cell_type": "code",
   "execution_count": 33,
   "metadata": {},
   "outputs": [
    {
     "name": "stdout",
     "output_type": "stream",
     "text": [
      "5\n",
      "2 3 4 5 6 6\n",
      "5\n"
     ]
    }
   ],
   "source": [
    "a=int(input())\n",
    "b=list(map(int, input().split()))\n",
    "x=[]\n",
    "for i in b:\n",
    "    x.append(i)\n",
    "y=list(set(x))\n",
    "print(y[-2])"
   ]
  },
  {
   "cell_type": "code",
   "execution_count": 1,
   "metadata": {},
   "outputs": [
    {
     "name": "stdout",
     "output_type": "stream",
     "text": [
      "5\n"
     ]
    }
   ],
   "source": [
    "a,b=[2,3]\n",
    "print(a+b)"
   ]
  },
  {
   "cell_type": "code",
   "execution_count": 8,
   "metadata": {},
   "outputs": [
    {
     "name": "stdout",
     "output_type": "stream",
     "text": [
      "3\n",
      "1 2 3\n",
      "4 5 6\n",
      "9 8 9\n",
      "2\n"
     ]
    }
   ],
   "source": [
    "from functools import *\n",
    "x=int(input())\n",
    "y=[]\n",
    "z=[]\n",
    "for i in range(x):\n",
    "    a=list(map(int,input().split()))\n",
    "    y.append(a[i])\n",
    "    a.reverse()\n",
    "    z.append(a[i])\n",
    "first=reduce(lambda m,n:m+n,y)\n",
    "second=reduce(lambda m,n:m+n,z)\n",
    "if first>second:\n",
    "    print(first-second)\n",
    "else:\n",
    "    print(second-first)\n",
    "    "
   ]
  },
  {
   "cell_type": "code",
   "execution_count": 6,
   "metadata": {},
   "outputs": [
    {
     "name": "stdout",
     "output_type": "stream",
     "text": [
      "[2, 1, 0]\n"
     ]
    }
   ],
   "source": [
    "y=3\n",
    "x=[i for i in range(y)]\n",
    "x.reverse()\n",
    "print(x)"
   ]
  },
  {
   "cell_type": "code",
   "execution_count": 20,
   "metadata": {},
   "outputs": [
    {
     "name": "stdout",
     "output_type": "stream",
     "text": [
      "6\n",
      "-4 3 -9 0 4 1\n",
      "0.5\n",
      "0.333333\n",
      "0.166667\n"
     ]
    }
   ],
   "source": [
    "from functools import *\n",
    "n=int(input())\n",
    "m=list(map(int,input().split()))\n",
    "def positive(n):\n",
    "    return n>0\n",
    "def negative(n):\n",
    "    return n<0\n",
    "def zero(n):\n",
    "    return n==0\n",
    "a=list(filter(positive,m))\n",
    "b=list(filter(negative,m))\n",
    "c=list(filter(zero,m))\n",
    "print(len(a))"
   ]
  },
  {
   "cell_type": "code",
   "execution_count": 4,
   "metadata": {},
   "outputs": [
    {
     "name": "stdout",
     "output_type": "stream",
     "text": [
      "1 2 3 4 5\n",
      "10 14\n"
     ]
    }
   ],
   "source": [
    "n=list(map(int,input().split()))\n",
    "y=[]\n",
    "for i in n:\n",
    "    x=0\n",
    "    for j in n:\n",
    "        if i!=j:\n",
    "            x=x+j\n",
    "    y.append(x)\n",
    "print(min(y),max(y))"
   ]
  },
  {
   "cell_type": "code",
   "execution_count": 7,
   "metadata": {},
   "outputs": [
    {
     "name": "stdout",
     "output_type": "stream",
     "text": [
      "this is the dump function successfullly\n",
      "101 \t raju \t hyd\n"
     ]
    }
   ],
   "source": [
    "import pickle\n",
    "class student:\n",
    "    def __init__(self,eno,ename,eaddr):\n",
    "        self.eno=eno\n",
    "        self.ename=ename\n",
    "        self.eaddr=eaddr\n",
    "    def display(self):\n",
    "        print(self.eno,'\\t',self.ename,'\\t',self.eaddr)\n",
    "with open(\"data.txt\",'wb') as f:\n",
    "    e=student(101,'raju','hyd')\n",
    "    print(\"this is the dump function successfullly\")\n",
    "    pickle.dump(e,f)\n",
    "with open(\"data.txt\",\"rb\") as f:\n",
    "    obj=pickle.load(f)\n",
    "    obj.display()"
   ]
  },
  {
   "cell_type": "code",
   "execution_count": 16,
   "metadata": {},
   "outputs": [
    {
     "name": "stdout",
     "output_type": "stream",
     "text": [
      "100\n",
      "100\n",
      "20\n",
      "20\n"
     ]
    }
   ],
   "source": [
    "class employee:\n",
    "    a=10\n",
    "    def __init__(self):\n",
    "        self.b=20\n",
    "    @classmethod\n",
    "    def m1(self):\n",
    "        self.a=100\n",
    "        self.b=200\n",
    "x=employee()\n",
    "y=employee()\n",
    "x.m1()\n",
    "print(x.a)\n",
    "print(y.a)\n",
    "print(x.b)\n",
    "print(y.b)\n",
    "        "
   ]
  },
  {
   "cell_type": "code",
   "execution_count": 18,
   "metadata": {},
   "outputs": [
    {
     "name": "stdout",
     "output_type": "stream",
     "text": [
      "15\n",
      "               * \n",
      "              * * \n",
      "             * * * \n",
      "            * * * * \n",
      "           * * * * * \n",
      "          * * * * * * \n",
      "         * * * * * * * \n",
      "        * * * * * * * * \n",
      "       * * * * * * * * * \n",
      "      * * * * * * * * * * \n",
      "     * * * * * * * * * * * \n",
      "    * * * * * * * * * * * * \n",
      "   * * * * * * * * * * * * * \n",
      "  * * * * * * * * * * * * * * \n",
      " * * * * * * * * * * * * * * * \n"
     ]
    }
   ],
   "source": [
    "n=int(input())\n",
    "for i in range(n):\n",
    "    print(\" \"*(n-i)+\"* \"*(i+1))"
   ]
  },
  {
   "cell_type": "code",
   "execution_count": 20,
   "metadata": {},
   "outputs": [
    {
     "name": "stdout",
     "output_type": "stream",
     "text": [
      "15\n",
      "* * * * * * * * * * * * * * * \n",
      " * * * * * * * * * * * * * * \n",
      "  * * * * * * * * * * * * * \n",
      "   * * * * * * * * * * * * \n",
      "    * * * * * * * * * * * \n",
      "     * * * * * * * * * * \n",
      "      * * * * * * * * * \n",
      "       * * * * * * * * \n",
      "        * * * * * * * \n",
      "         * * * * * * \n",
      "          * * * * * \n",
      "           * * * * \n",
      "            * * * \n",
      "             * * \n",
      "              * \n"
     ]
    }
   ],
   "source": [
    "n=int(input())\n",
    "for j in range(n,0,-1):\n",
    "    print(\" \"*(n-j)+\"* \"*(j))"
   ]
  },
  {
   "cell_type": "code",
   "execution_count": 23,
   "metadata": {},
   "outputs": [
    {
     "name": "stdout",
     "output_type": "stream",
     "text": [
      "15\n",
      " \n",
      "*  \n",
      "* *  \n",
      "* * *  \n",
      "* * * *  \n",
      "* * * * *  \n",
      "* * * * * *  \n",
      "* * * * * * *  \n",
      "* * * * * * * *  \n",
      "* * * * * * * * *  \n",
      "* * * * * * * * * *  \n",
      "* * * * * * * * * * *  \n",
      "* * * * * * * * * * * *  \n",
      "* * * * * * * * * * * * *  \n",
      "* * * * * * * * * * * * * *  \n"
     ]
    }
   ],
   "source": [
    "n=int(input())\n",
    "for i in range(n):\n",
    "    print(\"* \"*i,end=\" \")\n",
    "    print()\n"
   ]
  },
  {
   "cell_type": "code",
   "execution_count": 29,
   "metadata": {},
   "outputs": [
    {
     "name": "stdout",
     "output_type": "stream",
     "text": [
      "15\n",
      "               \n",
      "              *\n",
      "             **\n",
      "            ***\n",
      "           ****\n",
      "          *****\n",
      "         ******\n",
      "        *******\n",
      "       ********\n",
      "      *********\n",
      "     **********\n",
      "    ***********\n",
      "   ************\n",
      "  *************\n",
      " **************\n"
     ]
    }
   ],
   "source": [
    "n=int(input())\n",
    "for i in range(n):\n",
    "    print(\" \"*(n-i)+\"*\"*i)"
   ]
  },
  {
   "cell_type": "code",
   "execution_count": 35,
   "metadata": {},
   "outputs": [
    {
     "name": "stdout",
     "output_type": "stream",
     "text": [
      "1 2 3 4 5\n",
      "[15, 15, 15, 15, 15]\n"
     ]
    }
   ],
   "source": [
    "n=list(map(int,input().split()))\n",
    "y=[]\n",
    "for i in range(len(n)):\n",
    "    x=0\n",
    "    for j in range(n):\n",
    "        if n[i]:\n",
    "            break\n",
    "        else:\n",
    "            x=x+n[j]\n",
    "    y.append(x)\n",
    "    \n",
    "        "
   ]
  },
  {
   "cell_type": "code",
   "execution_count": 27,
   "metadata": {},
   "outputs": [
    {
     "name": "stdout",
     "output_type": "stream",
     "text": [
      "4\n",
      "57 57 -57 57\n",
      "-57\n"
     ]
    }
   ],
   "source": [
    "x=int(input())\n",
    "n=list(map(int,input().split()))\n",
    "y=set(n)\n",
    "z=list(y)\n",
    "a=max(z)\n",
    "z.remove(a)\n",
    "print(max(z))\n",
    "\n"
   ]
  },
  {
   "cell_type": "code",
   "execution_count": 21,
   "metadata": {},
   "outputs": [
    {
     "name": "stdout",
     "output_type": "stream",
     "text": [
      "3\n"
     ]
    }
   ],
   "source": [
    "x=[3,2,6,6,5]\n",
    "y=set(x)\n",
    "z=list(y)\n",
    "print(z[1])"
   ]
  },
  {
   "cell_type": "code",
   "execution_count": 17,
   "metadata": {},
   "outputs": [
    {
     "name": "stdout",
     "output_type": "stream",
     "text": [
      "2\n",
      "raju 3 4 5\n",
      "['raju', '3', '4', '5']\n",
      "['3', '4', '5']\n",
      "ravi 3 4 5\n",
      "['ravi', '3', '4', '5']\n",
      "['3', '4', '5']\n",
      "['raju', 'ravi']\n",
      "[4.0, 4.0]\n"
     ]
    }
   ],
   "source": [
    "n=int(input())\n",
    "a=[]\n",
    "b=[]\n",
    "for i in range(n):\n",
    "    x=list(map(str,input().split()))\n",
    "    print(x)\n",
    "    a.append(x[0])\n",
    "    x.remove(x[0])\n",
    "    print(x)\n",
    "    total=0\n",
    "    for i in x:\n",
    "        total=total+int(i)\n",
    "    m=round((total)/3,2)\n",
    "    b.append(m)\n",
    "print(a)\n",
    "print(b)\n",
    "\n",
    "    "
   ]
  },
  {
   "cell_type": "code",
   "execution_count": 5,
   "metadata": {},
   "outputs": [
    {
     "name": "stdout",
     "output_type": "stream",
     "text": [
      "[2, 3]\n"
     ]
    }
   ],
   "source": [
    "x=[1,2,3]\n",
    "x.remove(x[0])\n",
    "print(x)"
   ]
  },
  {
   "cell_type": "code",
   "execution_count": null,
   "metadata": {},
   "outputs": [],
   "source": []
  },
  {
   "cell_type": "code",
   "execution_count": null,
   "metadata": {},
   "outputs": [],
   "source": []
  }
 ],
 "metadata": {
  "kernelspec": {
   "display_name": "Python 3",
   "language": "python",
   "name": "python3"
  },
  "language_info": {
   "codemirror_mode": {
    "name": "ipython",
    "version": 3
   },
   "file_extension": ".py",
   "mimetype": "text/x-python",
   "name": "python",
   "nbconvert_exporter": "python",
   "pygments_lexer": "ipython3",
   "version": "3.6.4"
  }
 },
 "nbformat": 4,
 "nbformat_minor": 2
}
