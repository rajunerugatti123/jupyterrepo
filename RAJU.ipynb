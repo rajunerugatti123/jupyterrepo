{
 "cells": [
  {
   "cell_type": "code",
   "execution_count": 4,
   "metadata": {},
   "outputs": [
    {
     "data": {
      "text/plain": [
       "'H*I*I* *G*O*O*D* *M*O*R*N*I*N*G'"
      ]
     },
     "execution_count": 4,
     "metadata": {},
     "output_type": "execute_result"
    }
   ],
   "source": [
    "def outer(func):\n",
    "    def inner():\n",
    "        x=func()\n",
    "        return x.swapcase()\n",
    "    return inner\n",
    "def outer1(func):\n",
    "    def inner():\n",
    "        x=func()\n",
    "        return \"*\".join(x)\n",
    "    return inner\n",
    "@outer1\n",
    "@outer\n",
    "def wish():\n",
    "    return \"hii good morning\"\n",
    "wish()"
   ]
  },
  {
   "cell_type": "code",
   "execution_count": 6,
   "metadata": {},
   "outputs": [
    {
     "name": "stdout",
     "output_type": "stream",
     "text": [
      "10\n",
      "10\n",
      "9\n",
      "8\n",
      "7\n",
      "6\n",
      "5\n",
      "4\n",
      "3\n",
      "2\n",
      "1\n"
     ]
    }
   ],
   "source": [
    "from time import sleep\n",
    "n=int(input())\n",
    "def raju(n):\n",
    "    while n>0:\n",
    "        yield n\n",
    "        n=n-1\n",
    "        sleep(1)\n",
    "x=raju(n)\n",
    "for i in x:\n",
    "    print(i)"
   ]
  },
  {
   "cell_type": "markdown",
   "metadata": {},
   "source": [
    "try:\n",
    "1/0\n",
    "except Exception as err:\n",
    "print(err)\n"
   ]
  },
  {
   "cell_type": "code",
   "execution_count": 10,
   "metadata": {},
   "outputs": [
    {
     "name": "stdout",
     "output_type": "stream",
     "text": [
      "driving\n"
     ]
    }
   ],
   "source": [
    "class car:\n",
    "    #def __init__(self):\n",
    "       # self.__updatesoftware()\n",
    "    def driving(self):\n",
    "        print(\"driving\")\n",
    "    def __updatesoftware(self):\n",
    "        print(\"updatedsoftware\")\n",
    "y=car()\n",
    "y.driving()\n",
    "#we can't access the private method outside of the class\n",
    "#we can restrict access to methods and variables. this prevent data from direct modification which is called encapulation.\n",
    "#_protected attribute\n",
    "#__pivate attribute"
   ]
  },
  {
   "cell_type": "code",
   "execution_count": 15,
   "metadata": {},
   "outputs": [
    {
     "name": "stdout",
     "output_type": "stream",
     "text": [
      "4\n",
      "d\n"
     ]
    }
   ],
   "source": [
    "x=[1,2,3,4,5]\n",
    "y=['a','b','c','d','e']\n",
    "n=int(input())\n",
    "z={i:j for i,j in zip(x,y)}\n",
    "print(z[n])"
   ]
  },
  {
   "cell_type": "code",
   "execution_count": null,
   "metadata": {},
   "outputs": [],
   "source": [
    "x=list(map(str,input().split()))\n",
    "x.remove(x[0])\n",
    "print(x)"
   ]
  },
  {
   "cell_type": "code",
   "execution_count": null,
   "metadata": {},
   "outputs": [],
   "source": []
  }
 ],
 "metadata": {
  "kernelspec": {
   "display_name": "Python 3",
   "language": "python",
   "name": "python3"
  },
  "language_info": {
   "codemirror_mode": {
    "name": "ipython",
    "version": 3
   },
   "file_extension": ".py",
   "mimetype": "text/x-python",
   "name": "python",
   "nbconvert_exporter": "python",
   "pygments_lexer": "ipython3",
   "version": "3.6.4"
  }
 },
 "nbformat": 4,
 "nbformat_minor": 2
}
