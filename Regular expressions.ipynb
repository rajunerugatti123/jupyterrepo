{
 "cells": [
  {
   "cell_type": "code",
   "execution_count": 2,
   "metadata": {},
   "outputs": [
    {
     "name": "stdout",
     "output_type": "stream",
     "text": [
      "['software']\n"
     ]
    }
   ],
   "source": [
    "import re\n",
    "x=\"raju is the software employee\"\n",
    "print(re.findall('software',x))"
   ]
  },
  {
   "cell_type": "code",
   "execution_count": 3,
   "metadata": {},
   "outputs": [
    {
     "name": "stdout",
     "output_type": "stream",
     "text": [
      "<_sre.SRE_Match object; span=(28, 37), match='situation'>\n"
     ]
    }
   ],
   "source": [
    "import re\n",
    "x=\"the representing the entire situation of the model\"\n",
    "print(re.search(\"situation\",x))"
   ]
  },
  {
   "cell_type": "code",
   "execution_count": 4,
   "metadata": {},
   "outputs": [
    {
     "name": "stdout",
     "output_type": "stream",
     "text": [
      "['raju', 'is', 'the', 'software', 'employee']\n"
     ]
    }
   ],
   "source": [
    "import re\n",
    "x=\"raju is the software employee\"\n",
    "print(re.split(r\" \",x))"
   ]
  },
  {
   "cell_type": "code",
   "execution_count": 5,
   "metadata": {},
   "outputs": [
    {
     "data": {
      "text/plain": [
       "'the*representing*the*entire*situation*of*the*model'"
      ]
     },
     "execution_count": 5,
     "metadata": {},
     "output_type": "execute_result"
    }
   ],
   "source": [
    "import re\n",
    "x=\"the representing the entire situation of the model\"\n",
    "re.sub(r\" \",\"*\",x)"
   ]
  },
  {
   "cell_type": "markdown",
   "metadata": {},
   "source": [
    "#above four is regular expressions functions"
   ]
  },
  {
   "cell_type": "code",
   "execution_count": 53,
   "metadata": {},
   "outputs": [
    {
     "name": "stdout",
     "output_type": "stream",
     "text": [
      "['i love cats ', ' i love cows ', ' thank you']\n"
     ]
    }
   ],
   "source": [
    "import re\n",
    "line=\"i love cats pet:cat i love cows pet:cow thank you\"\n",
    "s=re.split(r\"pet:\\w\\w\\w\",line)\n",
    "print(s)"
   ]
  },
  {
   "cell_type": "code",
   "execution_count": 36,
   "metadata": {},
   "outputs": [
    {
     "data": {
      "text/plain": [
       "['the', 'tot', 'bbentireccccp', 'n', 'ddd']"
      ]
     },
     "execution_count": 36,
     "metadata": {},
     "output_type": "execute_result"
    }
   ],
   "source": [
    "import re\n",
    "raju=\"theaaaatotalbbbbentireccccpassonatedddd\"\n",
    "re.split(r\"a\\w\\w\\w\",raju)"
   ]
  },
  {
   "cell_type": "code",
   "execution_count": 34,
   "metadata": {},
   "outputs": [
    {
     "name": "stdout",
     "output_type": "stream",
     "text": [
      "john@xyzbc.com and alice@xyzqr.com\n"
     ]
    }
   ],
   "source": [
    "import re\n",
    "x=\"john@abc.com and alice@pqr.com\"\n",
    "y=re.sub(r\"@\\w\",\"@xyz\",x)\n",
    "print(y)"
   ]
  },
  {
   "cell_type": "code",
   "execution_count": 33,
   "metadata": {},
   "outputs": [
    {
     "name": "stdout",
     "output_type": "stream",
     "text": [
      "john@gmail.com and alice@gmail.com\n"
     ]
    }
   ],
   "source": [
    "import re\n",
    "x=\"john@abc.com and alice@pqr.com\"\n",
    "y=re.sub(r\"@\\w+\",\"@gmail\",x)\n",
    "print(y)"
   ]
  },
  {
   "cell_type": "code",
   "execution_count": 39,
   "metadata": {},
   "outputs": [
    {
     "name": "stdout",
     "output_type": "stream",
     "text": [
      "<_sre.SRE_Match object; span=(0, 7), match='pet:cat'>\n"
     ]
    },
    {
     "data": {
      "text/plain": [
       "<_sre.SRE_Match object; span=(0, 7), match='pet:cat'>"
      ]
     },
     "execution_count": 39,
     "metadata": {},
     "output_type": "execute_result"
    }
   ],
   "source": [
    "#match function\n",
    "import re\n",
    "x=\"pet:cat i love cats\"\n",
    "y=re.match(r\"pet:\\w\\w\\w\",x)\n",
    "print(y)\n",
    "y.group(0)\n",
    "re.search(r\"pet:\\w\\w\\w\",x)\n"
   ]
  },
  {
   "cell_type": "code",
   "execution_count": 46,
   "metadata": {},
   "outputs": [
    {
     "name": "stdout",
     "output_type": "stream",
     "text": [
      "<_sre.SRE_Match object; span=(0, 7), match='pet:cat'>\n"
     ]
    },
    {
     "data": {
      "text/plain": [
       "['pet:cat', 'pet:cow']"
      ]
     },
     "execution_count": 46,
     "metadata": {},
     "output_type": "execute_result"
    }
   ],
   "source": [
    "import re\n",
    "x=\"pet:cat i love cats pet:cow i love cow\"\n",
    "y=re.search(r\"pet:\\w\\w\\w\",x)\n",
    "print(y)\n",
    "y.group(0)\n",
    "re.findall(r\"pet:\\w\\w\\w\",x)\n",
    "\n"
   ]
  },
  {
   "cell_type": "code",
   "execution_count": 47,
   "metadata": {},
   "outputs": [],
   "source": [
    "#^ is matches the statrs\n",
    "#$ is matches the end\n",
    "#'.' matches the single character 1,2,3,4\n",
    "#[0-9]=0 or 1 0r 2 3 4 5 6\n",
    "#'x*' matches the 0 or more like x,xx,xxx,xxxx\n",
    "#'x+' matches the 0 or more like x,xx,xxx,xxxx\n",
    "#'x?' indicates 0 or 1\n",
    "#'x{2}'=xx\n",
    "#'x{5,}=five and morethan that xxxxx,xxxxxx,xxxxxx\n",
    "#a/b either a or b\n",
    "#() group \n",
    "#\\s space\n",
    "#\\S it mathes white spaces\n",
    "#\\D non digits\n",
    "#\\d matches single character digits\n",
    "\n"
   ]
  },
  {
   "cell_type": "code",
   "execution_count": 48,
   "metadata": {},
   "outputs": [
    {
     "data": {
      "text/plain": [
       "'my name is john'"
      ]
     },
     "execution_count": 48,
     "metadata": {},
     "output_type": "execute_result"
    }
   ],
   "source": [
    "x=\"my name is alice\"\n",
    "x.replace(\"alice\",\"john\")\n"
   ]
  },
  {
   "cell_type": "code",
   "execution_count": 52,
   "metadata": {},
   "outputs": [
    {
     "data": {
      "text/plain": [
       "'main street broad rd'"
      ]
     },
     "execution_count": 52,
     "metadata": {},
     "output_type": "execute_result"
    }
   ],
   "source": [
    "x=\"main street broad road\"\n",
    "x.replace(\"road\",\"rd\")\n",
    "x.index('d')\n",
    "x[0:17]+x[17:].replace(\"road\",\"rd\")"
   ]
  },
  {
   "cell_type": "code",
   "execution_count": 7,
   "metadata": {},
   "outputs": [
    {
     "data": {
      "text/plain": [
       "'raju@gmail.com and rajesh@gmail.com'"
      ]
     },
     "execution_count": 7,
     "metadata": {},
     "output_type": "execute_result"
    }
   ],
   "source": [
    "import re\n",
    "x=\"raju@abc.com and rajesh@abc.com\"\n",
    "re.sub(r\"@\\w+\",\"@gmail\",x)"
   ]
  },
  {
   "cell_type": "code",
   "execution_count": 8,
   "metadata": {},
   "outputs": [
    {
     "data": {
      "text/plain": [
       "['r', 'ju@', 'bc.com ', 'nd r', 'jesh@', 'bc.com']"
      ]
     },
     "execution_count": 8,
     "metadata": {},
     "output_type": "execute_result"
    }
   ],
   "source": [
    "re.split(r\"a\",x)"
   ]
  },
  {
   "cell_type": "code",
   "execution_count": 12,
   "metadata": {},
   "outputs": [
    {
     "name": "stdout",
     "output_type": "stream",
     "text": [
      "start:5,end:7,group:ab\n"
     ]
    }
   ],
   "source": [
    "import re\n",
    "count=0\n",
    "x=re.compile(\"ab\")\n",
    "y=x.finditer(\"abaababa\")\n",
    "for i in y:\n",
    "    count+=1\n",
    "print('start:{},end:{},group:{}'.format(i.start(),i.end(),i.group()))"
   ]
  },
  {
   "cell_type": "code",
   "execution_count": 15,
   "metadata": {},
   "outputs": [
    {
     "name": "stdout",
     "output_type": "stream",
     "text": [
      "0\n",
      "1\n",
      "a\n",
      "2\n",
      "3\n",
      "b\n"
     ]
    }
   ],
   "source": [
    "import re\n",
    "x=re.finditer('[abc]','a7b@k9z')\n",
    "for i in x:\n",
    "    print(i.start())\n",
    "    print(i.end())\n",
    "    print(i.group())"
   ]
  },
  {
   "cell_type": "code",
   "execution_count": 33,
   "metadata": {},
   "outputs": [
    {
     "name": "stdout",
     "output_type": "stream",
     "text": [
      "0\n",
      "1\n",
      "2\n",
      "3\n",
      "4\n",
      "5\n",
      "6\n",
      "7\n",
      "8\n"
     ]
    }
   ],
   "source": [
    "x=re.finditer('','a7b @k9z')\n",
    "for i in x:\n",
    "    print(i.start())"
   ]
  },
  {
   "cell_type": "code",
   "execution_count": 40,
   "metadata": {},
   "outputs": [
    {
     "name": "stdout",
     "output_type": "stream",
     "text": [
      "{'a', 'd', 'c', 'b'}\n"
     ]
    }
   ],
   "source": [
    "x={'a','b','c','d'}\n",
    "print(str(x))"
   ]
  },
  {
   "cell_type": "code",
   "execution_count": 41,
   "metadata": {},
   "outputs": [
    {
     "name": "stdout",
     "output_type": "stream",
     "text": [
      "{'a', 'd', 'c', 'b'}\n"
     ]
    }
   ],
   "source": [
    "print(str(x))"
   ]
  },
  {
   "cell_type": "code",
   "execution_count": 43,
   "metadata": {},
   "outputs": [
    {
     "name": "stdout",
     "output_type": "stream",
     "text": [
      "enter the number:525\n",
      "this is prime number\n"
     ]
    }
   ],
   "source": [
    "n=int(input(\"enter the number:\"))\n",
    "if i>0:\n",
    "    for i in range(2,n+1):\n",
    "        if n%i\n",
    "        "
   ]
  },
  {
   "cell_type": "code",
   "execution_count": 4,
   "metadata": {},
   "outputs": [
    {
     "name": "stdout",
     "output_type": "stream",
     "text": [
      "5\n"
     ]
    }
   ],
   "source": [
    "import re\n",
    "count=0\n",
    "x=re.compile('ab')\n",
    "y=x.finditer('abaababa')\n",
    "for i in y:\n",
    "    count=count+1\n",
    "print(i.start())"
   ]
  },
  {
   "cell_type": "code",
   "execution_count": 5,
   "metadata": {},
   "outputs": [
    {
     "name": "stdout",
     "output_type": "stream",
     "text": [
      "0\n",
      "2\n"
     ]
    }
   ],
   "source": [
    "import re \n",
    "x=re.finditer('[abc]','a7b@k9z')\n",
    "for i in x:\n",
    "    print(i.start())"
   ]
  },
  {
   "cell_type": "code",
   "execution_count": null,
   "metadata": {},
   "outputs": [],
   "source": []
  }
 ],
 "metadata": {
  "kernelspec": {
   "display_name": "Python 3",
   "language": "python",
   "name": "python3"
  },
  "language_info": {
   "codemirror_mode": {
    "name": "ipython",
    "version": 3
   },
   "file_extension": ".py",
   "mimetype": "text/x-python",
   "name": "python",
   "nbconvert_exporter": "python",
   "pygments_lexer": "ipython3",
   "version": "3.6.4"
  }
 },
 "nbformat": 4,
 "nbformat_minor": 2
}
