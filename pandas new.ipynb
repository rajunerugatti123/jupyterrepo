{
 "cells": [
  {
   "cell_type": "code",
   "execution_count": 3,
   "metadata": {},
   "outputs": [
    {
     "name": "stdout",
     "output_type": "stream",
     "text": [
      "Series([], dtype: float64)\n"
     ]
    }
   ],
   "source": [
    "import pandas as pd\n",
    "x=pd.Series()\n",
    "print(x)"
   ]
  },
  {
   "cell_type": "code",
   "execution_count": 5,
   "metadata": {},
   "outputs": [
    {
     "name": "stdout",
     "output_type": "stream",
     "text": [
      "0    a\n",
      "1    b\n",
      "2    c\n",
      "3    d\n",
      "dtype: object\n"
     ]
    }
   ],
   "source": [
    "import pandas as pd\n",
    "import numpy as np\n",
    "x=np.array(['a','b','c','d'])\n",
    "y=pd.Series(x)\n",
    "print(y)"
   ]
  },
  {
   "cell_type": "code",
   "execution_count": 7,
   "metadata": {},
   "outputs": [
    {
     "name": "stdout",
     "output_type": "stream",
     "text": [
      "1    a\n",
      "2    b\n",
      "3    c\n",
      "4    d\n",
      "dtype: object\n"
     ]
    }
   ],
   "source": [
    "import pandas as pd\n",
    "import numpy as np\n",
    "x=np.array(['a','b','c','d'])\n",
    "y=pd.Series(x,index=[1,2,3,4])\n",
    "print(y)"
   ]
  },
  {
   "cell_type": "code",
   "execution_count": 8,
   "metadata": {},
   "outputs": [
    {
     "name": "stdout",
     "output_type": "stream",
     "text": [
      "d    4.0\n",
      "c    3.0\n",
      "b    2.0\n",
      "a    1.0\n",
      "dtype: float64\n"
     ]
    }
   ],
   "source": [
    "import pandas as pd\n",
    "import numpy as np\n",
    "data={'a':1,'b':2,'c':3,'d':4}\n",
    "x=pd.Series(data,index=['d','c','b','a'],dtype=float)\n",
    "print(x)"
   ]
  },
  {
   "cell_type": "code",
   "execution_count": 12,
   "metadata": {},
   "outputs": [
    {
     "name": "stdout",
     "output_type": "stream",
     "text": [
      "0    5\n",
      "1    5\n",
      "2    5\n",
      "3    5\n",
      "4    5\n",
      "dtype: int64\n"
     ]
    }
   ],
   "source": [
    "import pandas as pd\n",
    "import numpy as np\n",
    "s=pd.Series(5,index=[0,1,2,3,4])\n",
    "print(s)"
   ]
  },
  {
   "cell_type": "code",
   "execution_count": 12,
   "metadata": {},
   "outputs": [
    {
     "name": "stdout",
     "output_type": "stream",
     "text": [
      "c    3\n",
      "d    4\n",
      "e    5\n",
      "dtype: int64\n"
     ]
    }
   ],
   "source": [
    "import pandas as pd\n",
    "s=pd.Series([1,2,3,4,5],index=['a','b','c','d','e'])\n",
    "#print(s[0])\n",
    "#print(s[:])\n",
    "print(s[-3:])\n",
    "#print(s['a'])\n",
    "#print(s[['a','b','c']])\n",
    "#print(s['f'])"
   ]
  },
  {
   "cell_type": "code",
   "execution_count": 25,
   "metadata": {},
   "outputs": [
    {
     "name": "stdout",
     "output_type": "stream",
     "text": [
      "Empty DataFrame\n",
      "Columns: []\n",
      "Index: []\n"
     ]
    }
   ],
   "source": [
    "import pandas as pd\n",
    "df=pd.DataFrame()\n",
    "print(df)"
   ]
  },
  {
   "cell_type": "code",
   "execution_count": 13,
   "metadata": {},
   "outputs": [
    {
     "name": "stdout",
     "output_type": "stream",
     "text": [
      "   0\n",
      "0  1\n",
      "1  2\n",
      "2  3\n",
      "3  4\n",
      "4  5\n"
     ]
    }
   ],
   "source": [
    "import pandas as pd\n",
    "data=[1,2,3,4,5]\n",
    "df=pd.DataFrame(data)\n",
    "print(df)"
   ]
  },
  {
   "cell_type": "code",
   "execution_count": 16,
   "metadata": {},
   "outputs": [
    {
     "name": "stdout",
     "output_type": "stream",
     "text": [
      "     name age\n",
      "1    raju  10\n",
      "2  rajesh  20\n",
      "3  ramesh  30\n",
      "4  rakesh  40\n"
     ]
    }
   ],
   "source": [
    "import pandas as pd\n",
    "import numpy as np\n",
    "x=[['raju',10],['rajesh',20],['ramesh',30],['rakesh',40]]\n",
    "y=pd.DataFrame(x,index=[1,2,3,4],columns=['name','age'],dtype=str)\n",
    "print(y)"
   ]
  },
  {
   "cell_type": "code",
   "execution_count": 28,
   "metadata": {},
   "outputs": [
    {
     "name": "stdout",
     "output_type": "stream",
     "text": [
      "   age   name\n",
      "0   10    tom\n",
      "1   45   jack\n",
      "2   67  steve\n"
     ]
    }
   ],
   "source": [
    "import pandas as pd\n",
    "data={'name':['tom','jack','steve'],'age':[10,45,67]}\n",
    "x=pd.DataFrame(data)\n",
    "print(x)"
   ]
  },
  {
   "cell_type": "code",
   "execution_count": 30,
   "metadata": {},
   "outputs": [
    {
     "name": "stdout",
     "output_type": "stream",
     "text": [
      "        name  age dkdj\n",
      "rank1    tom   12  NaN\n",
      "rank2   jack   45  NaN\n",
      "rank3  steve   67  NaN\n",
      "rank4  ricky   55  NaN\n"
     ]
    }
   ],
   "source": [
    "import pandas as pd\n",
    "data={'name':['tom','jack','steve','ricky'],'age':[12,45,67,55]}\n",
    "x=pd.DataFrame(data,index=['rank1','rank2','rank3','rank4'],columns=['name','age','dkdj'])\n",
    "print(x)"
   ]
  },
  {
   "cell_type": "code",
   "execution_count": 33,
   "metadata": {},
   "outputs": [
    {
     "name": "stdout",
     "output_type": "stream",
     "text": [
      "        a   b\n",
      "first   1   2\n",
      "second  5  10\n"
     ]
    }
   ],
   "source": [
    "import pandas as pd\n",
    "data=[{'a':1,'b':2},{'a':5,'b':10,'c':9}]\n",
    "x=pd.DataFrame(data,index=['first','second'],columns=['a','b'])\n",
    "print(x)"
   ]
  },
  {
   "cell_type": "code",
   "execution_count": 4,
   "metadata": {},
   "outputs": [
    {
     "name": "stdout",
     "output_type": "stream",
     "text": [
      "   one  two  three  four\n",
      "a  1.0    1   10.0   2.0\n",
      "b  2.0    2   20.0   4.0\n",
      "c  3.0    3   30.0   6.0\n",
      "d  NaN    4    NaN   NaN\n"
     ]
    }
   ],
   "source": [
    "import pandas as pd\n",
    "d={'one':pd.Series([1,2,3],index=['a','b','c']),\n",
    "   'two':pd.Series([1,2,3,4],index=['a','b','c','d'])}\n",
    "x=pd.DataFrame(d)\n",
    "x['three']=pd.Series([10,20,30],index=['a','b','c'])\n",
    "x['four']=x['one']+x['two']\n",
    "print(x)"
   ]
  },
  {
   "cell_type": "code",
   "execution_count": 6,
   "metadata": {},
   "outputs": [
    {
     "name": "stdout",
     "output_type": "stream",
     "text": [
      "   three  four\n",
      "a   10.0   2.0\n",
      "b   20.0   4.0\n",
      "c   30.0   6.0\n",
      "d    NaN   NaN\n"
     ]
    }
   ],
   "source": [
    "import pandas as pd\n",
    "d={'one':pd.Series([1,2,3],index=['a','b','c']),\n",
    "   'two':pd.Series([1,2,3,4],index=['a','b','c','d'])}\n",
    "x=pd.DataFrame(d)\n",
    "x['three']=pd.Series([10,20,30],index=['a','b','c'])\n",
    "x['four']=x['one']+x['two']\n",
    "del x['one']\n",
    "x.pop('two')\n",
    "print(x)"
   ]
  },
  {
   "cell_type": "code",
   "execution_count": 12,
   "metadata": {},
   "outputs": [
    {
     "name": "stdout",
     "output_type": "stream",
     "text": [
      "   one  two  three\n",
      "c  3.0    3   30.0\n",
      "d  NaN    4    NaN\n"
     ]
    }
   ],
   "source": [
    "import pandas as pd\n",
    "d={'one':pd.Series([1,2,3],index=['a','b','c']),\n",
    "   'two':pd.Series([1,2,3,4],index=['a','b','c','d'])}\n",
    "x=pd.DataFrame(d)\n",
    "x['three']=pd.Series([10,20,30],index=['a','b','c'])\n",
    "#print(x)\n",
    "#print(x.loc['b'])\n",
    "#print(x.iloc[3])\n",
    "#print(x[2:4])\n"
   ]
  },
  {
   "cell_type": "code",
   "execution_count": 15,
   "metadata": {},
   "outputs": [
    {
     "name": "stdout",
     "output_type": "stream",
     "text": [
      "   a  b\n",
      "0  1  2\n",
      "1  3  4\n",
      "0  5  6\n",
      "1  7  8\n",
      "   a  b\n",
      "1  3  4\n",
      "1  7  8\n"
     ]
    }
   ],
   "source": [
    "#addition of two columns\n",
    "import pandas as pd\n",
    "x=pd.DataFrame([[1,2],[3,4]],columns=['a','b'])\n",
    "y=pd.DataFrame([[5,6],[7,8]],columns=['a','b'])\n",
    "x=x.append(y)\n",
    "print(x)\n",
    "x=x.drop(0)\n",
    "print(x)\n"
   ]
  },
  {
   "cell_type": "code",
   "execution_count": 23,
   "metadata": {},
   "outputs": [
    {
     "name": "stdout",
     "output_type": "stream",
     "text": [
      "Enter the number:50\n",
      "no other strings should be printed\n"
     ]
    }
   ],
   "source": [
    "n=int(input(\"Enter the number:\"))\n",
    "x=str(n)\n",
    "if \"0\" in x:\n",
    "    print(\"no other strings should be printed\")\n",
    "else:\n",
    "    y=x[::-1]\n",
    "    print(int(y))\n"
   ]
  },
  {
   "cell_type": "code",
   "execution_count": null,
   "metadata": {},
   "outputs": [],
   "source": []
  },
  {
   "cell_type": "code",
   "execution_count": null,
   "metadata": {},
   "outputs": [],
   "source": []
  }
 ],
 "metadata": {
  "kernelspec": {
   "display_name": "Python 3",
   "language": "python",
   "name": "python3"
  },
  "language_info": {
   "codemirror_mode": {
    "name": "ipython",
    "version": 3
   },
   "file_extension": ".py",
   "mimetype": "text/x-python",
   "name": "python",
   "nbconvert_exporter": "python",
   "pygments_lexer": "ipython3",
   "version": "3.6.4"
  }
 },
 "nbformat": 4,
 "nbformat_minor": 2
}
