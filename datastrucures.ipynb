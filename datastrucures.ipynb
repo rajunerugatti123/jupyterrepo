{
 "cells": [
  {
   "cell_type": "code",
   "execution_count": 4,
   "metadata": {},
   "outputs": [
    {
     "name": "stdout",
     "output_type": "stream",
     "text": [
      "1\n",
      "2\n",
      "3\n",
      "4\n"
     ]
    }
   ],
   "source": [
    "x=[1,2,3,4,5,6]\n",
    "y=iter(x)\n",
    "print(next(y))\n",
    "print(next(y))\n",
    "print(next(y))\n",
    "print(next(y))"
   ]
  },
  {
   "cell_type": "code",
   "execution_count": 10,
   "metadata": {},
   "outputs": [
    {
     "name": "stdout",
     "output_type": "stream",
     "text": [
      "enter the number:1\n",
      "123\n"
     ]
    }
   ],
   "source": [
    "n=input(\"enter the number:\")\n",
    "a=int(\"%s\"%n)\n",
    "b=int(\"%s%s\"%(n,n))\n",
    "c=int(\"%s%s%s\"%(n,n,n))\n",
    "print(a+b+c)"
   ]
  },
  {
   "cell_type": "code",
   "execution_count": 11,
   "metadata": {},
   "outputs": [
    {
     "name": "stdout",
     "output_type": "stream",
     "text": [
      "my name is raju. and my friend name is ravi. my age is 90\n"
     ]
    }
   ],
   "source": [
    "x='raju'\n",
    "y='ravi'\n",
    "z=90\n",
    "print(\"my name is {}. and my friend name is {}. my age is {}\".format(x,y,z))"
   ]
  },
  {
   "cell_type": "code",
   "execution_count": 28,
   "metadata": {},
   "outputs": [
    {
     "data": {
      "text/plain": [
       "'rajesh kkks the entkkkre project complkkktkkkon'"
      ]
     },
     "execution_count": 28,
     "metadata": {},
     "output_type": "execute_result"
    }
   ],
   "source": [
    "x=\"rajesh is the entire project complition\"\n",
    "#x[::-1]\n",
    "#y=\"#\".join(x)\n",
    "#print(\"\".join(reversed(x)))\n",
    "#x*4\n",
    "#x.capitalize()\n",
    "#x.center(200)\n",
    "#x.count('i')\n",
    "#x.replace('i','kkk')\n"
   ]
  },
  {
   "cell_type": "code",
   "execution_count": 43,
   "metadata": {},
   "outputs": [
    {
     "name": "stdout",
     "output_type": "stream",
     "text": [
      "[4, 3, 2, 1]\n"
     ]
    }
   ],
   "source": [
    "x=[1,2,3,4]\n",
    "y=[5,6,7,8]\n",
    "#x.clear()\n",
    "#x.append()\n",
    "#x.pop()\n",
    "#x.extend(y)\n",
    "#x.append(y)\n",
    "#x.sort()\n",
    "#x.remove(4)\n",
    "#x.count(1)\n",
    "#x.insert(1,'fkjl')\n",
    "#x.reverse()"
   ]
  },
  {
   "cell_type": "code",
   "execution_count": 63,
   "metadata": {},
   "outputs": [
    {
     "name": "stdout",
     "output_type": "stream",
     "text": [
      "{1, 2, 3, 4, 5}\n"
     ]
    }
   ],
   "source": [
    "x={1,2,3,4,5}\n",
    "y={6,7,8,1,2}\n",
    "#x.difference(y)\n",
    "#x.symmetric_difference(y)\n",
    "#x.intersection(y)\n",
    "#x.union(y)\n",
    "#x.add(9)\n",
    "#x.update(y)\n",
    "print(x)"
   ]
  },
  {
   "cell_type": "code",
   "execution_count": 64,
   "metadata": {},
   "outputs": [
    {
     "name": "stdout",
     "output_type": "stream",
     "text": [
      "a\n",
      "b\n",
      "c\n",
      "('a', 'apple')\n",
      "('b', 'banana')\n",
      "('c', 'carrot')\n",
      "apple\n",
      "banana\n",
      "carrot\n"
     ]
    }
   ],
   "source": [
    "x={'a':'apple','b':'banana','c':'carrot'}\n",
    "for i in x.keys():\n",
    "    print(i)\n",
    "for j in x.items():\n",
    "    print(j)\n",
    "for k in x.values():\n",
    "    print(k)"
   ]
  },
  {
   "cell_type": "code",
   "execution_count": 73,
   "metadata": {},
   "outputs": [
    {
     "name": "stdout",
     "output_type": "stream",
     "text": [
      "[(9, 1), (10, 2), (11, 3), (12, 4), (13, 5)]\n"
     ]
    }
   ],
   "source": [
    "x=[1,2,3,4,5]\n",
    "y=list(enumerate(x,start=9))\n",
    "print(y)\n"
   ]
  },
  {
   "cell_type": "code",
   "execution_count": 74,
   "metadata": {},
   "outputs": [
    {
     "name": "stdout",
     "output_type": "stream",
     "text": [
      "[(10, 1), (11, 2), (12, 3), (13, 4), (14, 5), (15, 6)]\n"
     ]
    }
   ],
   "source": [
    "x=[1,2,3,4,5,6]\n",
    "y=list(enumerate(x,start=10))\n",
    "print(y)"
   ]
  },
  {
   "cell_type": "code",
   "execution_count": 75,
   "metadata": {},
   "outputs": [
    {
     "name": "stdout",
     "output_type": "stream",
     "text": [
      "(4, 1)\n",
      "(5, 2)\n",
      "(6, 3)\n",
      "(7, 4)\n",
      "(8, 5)\n",
      "(9, 6)\n"
     ]
    }
   ],
   "source": [
    "y=[1,2,3,4,5,6]\n",
    "y=enumerate(x,start=4)\n",
    "for i in y:\n",
    "    print(i)"
   ]
  },
  {
   "cell_type": "code",
   "execution_count": null,
   "metadata": {},
   "outputs": [],
   "source": []
  }
 ],
 "metadata": {
  "kernelspec": {
   "display_name": "Python 3",
   "language": "python",
   "name": "python3"
  },
  "language_info": {
   "codemirror_mode": {
    "name": "ipython",
    "version": 3
   },
   "file_extension": ".py",
   "mimetype": "text/x-python",
   "name": "python",
   "nbconvert_exporter": "python",
   "pygments_lexer": "ipython3",
   "version": "3.6.4"
  }
 },
 "nbformat": 4,
 "nbformat_minor": 2
}
